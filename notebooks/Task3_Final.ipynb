{
  "cells": [
    {
      "cell_type": "markdown",
      "metadata": {
        "id": "XGGtjpVKaIwY"
      },
      "source": [
        "## **Imports**"
      ]
    },
    {
      "cell_type": "code",
      "execution_count": 29,
      "metadata": {
        "id": "AkwqesfzD--p"
      },
      "outputs": [],
      "source": [
        "import numpy as np\n",
        "import pandas as pd\n",
        "from sklearn.preprocessing import StandardScaler, LabelEncoder\n",
        "from datetime import datetime\n",
        "from sklearn.model_selection import train_test_split\n",
        "from keras.utils import to_categorical\n",
        "from keras.models import Sequential\n",
        "from keras.layers import Dense\n",
        "from keras.optimizers import Adam\n",
        "from sklearn.model_selection import GridSearchCV\n",
        "from sklearn.model_selection import ParameterGrid\n",
        "from keras.callbacks import EarlyStopping"
      ]
    },
    {
      "cell_type": "markdown",
      "metadata": {
        "id": "NHN1zkTpaM6v"
      },
      "source": [
        "## **Uploading datasets**"
      ]
    },
    {
      "cell_type": "markdown",
      "metadata": {
        "id": "jCx6eUtqaykO"
      },
      "source": [
        "matches.csv contains the details of all ODI matches played during 2015-2023 before the World Cup."
      ]
    },
    {
      "cell_type": "code",
      "execution_count": 30,
      "metadata": {
        "colab": {
          "base_uri": "https://localhost:8080/",
          "height": 206
        },
        "id": "LKVambycEQcE",
        "outputId": "9c25a194-a486-4ac9-b408-726fbba1d11e"
      },
      "outputs": [
        {
          "data": {
            "text/html": [
              "<div>\n",
              "<style scoped>\n",
              "    .dataframe tbody tr th:only-of-type {\n",
              "        vertical-align: middle;\n",
              "    }\n",
              "\n",
              "    .dataframe tbody tr th {\n",
              "        vertical-align: top;\n",
              "    }\n",
              "\n",
              "    .dataframe thead th {\n",
              "        text-align: right;\n",
              "    }\n",
              "</style>\n",
              "<table border=\"1\" class=\"dataframe\">\n",
              "  <thead>\n",
              "    <tr style=\"text-align: right;\">\n",
              "      <th></th>\n",
              "      <th>Team 1</th>\n",
              "      <th>Team 2</th>\n",
              "      <th>Winner</th>\n",
              "      <th>Margin</th>\n",
              "      <th>Ground</th>\n",
              "      <th>Match Date</th>\n",
              "    </tr>\n",
              "  </thead>\n",
              "  <tbody>\n",
              "    <tr>\n",
              "      <th>0</th>\n",
              "      <td>Afghanistan</td>\n",
              "      <td>Scotland</td>\n",
              "      <td>Afghanistan</td>\n",
              "      <td>8 wickets</td>\n",
              "      <td>ICCA Dubai</td>\n",
              "      <td>08-01-2015</td>\n",
              "    </tr>\n",
              "    <tr>\n",
              "      <th>1</th>\n",
              "      <td>Afghanistan</td>\n",
              "      <td>Ireland</td>\n",
              "      <td>Ireland</td>\n",
              "      <td>3 wickets</td>\n",
              "      <td>Dubai (DSC)</td>\n",
              "      <td>10-01-2015</td>\n",
              "    </tr>\n",
              "    <tr>\n",
              "      <th>2</th>\n",
              "      <td>New Zealand</td>\n",
              "      <td>Sri Lanka</td>\n",
              "      <td>New Zealand</td>\n",
              "      <td>3 wickets</td>\n",
              "      <td>Christchurch</td>\n",
              "      <td>11-01-2015</td>\n",
              "    </tr>\n",
              "    <tr>\n",
              "      <th>3</th>\n",
              "      <td>Ireland</td>\n",
              "      <td>Scotland</td>\n",
              "      <td>Ireland</td>\n",
              "      <td>3 wickets</td>\n",
              "      <td>Dubai (DSC)</td>\n",
              "      <td>12-01-2015</td>\n",
              "    </tr>\n",
              "    <tr>\n",
              "      <th>4</th>\n",
              "      <td>Afghanistan</td>\n",
              "      <td>Scotland</td>\n",
              "      <td>Scotland</td>\n",
              "      <td>150 runs</td>\n",
              "      <td>Abu Dhabi</td>\n",
              "      <td>14-01-2015</td>\n",
              "    </tr>\n",
              "  </tbody>\n",
              "</table>\n",
              "</div>"
            ],
            "text/plain": [
              "        Team 1     Team 2       Winner     Margin        Ground  Match Date\n",
              "0  Afghanistan   Scotland  Afghanistan  8 wickets    ICCA Dubai  08-01-2015\n",
              "1  Afghanistan    Ireland      Ireland  3 wickets   Dubai (DSC)  10-01-2015\n",
              "2  New Zealand  Sri Lanka  New Zealand  3 wickets  Christchurch  11-01-2015\n",
              "3      Ireland   Scotland      Ireland  3 wickets   Dubai (DSC)  12-01-2015\n",
              "4  Afghanistan   Scotland     Scotland   150 runs     Abu Dhabi  14-01-2015"
            ]
          },
          "execution_count": 30,
          "metadata": {},
          "output_type": "execute_result"
        }
      ],
      "source": [
        "matches_df = pd.read_csv(\"matches.csv\")\n",
        "matches_df.head()"
      ]
    },
    {
      "cell_type": "markdown",
      "metadata": {
        "id": "lYq-aV2IbWeo"
      },
      "source": [
        "teams.csv contains the details of all teams playing in the current World Cup."
      ]
    },
    {
      "cell_type": "code",
      "execution_count": 31,
      "metadata": {
        "colab": {
          "base_uri": "https://localhost:8080/",
          "height": 206
        },
        "id": "YwM4zKFAahiE",
        "outputId": "c3495e90-9676-4c5b-ddb5-62d44774df45"
      },
      "outputs": [
        {
          "data": {
            "text/html": [
              "<div>\n",
              "<style scoped>\n",
              "    .dataframe tbody tr th:only-of-type {\n",
              "        vertical-align: middle;\n",
              "    }\n",
              "\n",
              "    .dataframe tbody tr th {\n",
              "        vertical-align: top;\n",
              "    }\n",
              "\n",
              "    .dataframe thead th {\n",
              "        text-align: right;\n",
              "    }\n",
              "</style>\n",
              "<table border=\"1\" class=\"dataframe\">\n",
              "  <thead>\n",
              "    <tr style=\"text-align: right;\">\n",
              "      <th></th>\n",
              "      <th>Team</th>\n",
              "      <th>Appearances</th>\n",
              "      <th>Titles</th>\n",
              "      <th>Finals</th>\n",
              "      <th>Semi Finals</th>\n",
              "      <th>Ranking</th>\n",
              "      <th>Points</th>\n",
              "    </tr>\n",
              "  </thead>\n",
              "  <tbody>\n",
              "    <tr>\n",
              "      <th>0</th>\n",
              "      <td>India</td>\n",
              "      <td>12</td>\n",
              "      <td>2</td>\n",
              "      <td>3</td>\n",
              "      <td>7</td>\n",
              "      <td>1</td>\n",
              "      <td>265</td>\n",
              "    </tr>\n",
              "    <tr>\n",
              "      <th>1</th>\n",
              "      <td>England</td>\n",
              "      <td>12</td>\n",
              "      <td>1</td>\n",
              "      <td>4</td>\n",
              "      <td>6</td>\n",
              "      <td>2</td>\n",
              "      <td>259</td>\n",
              "    </tr>\n",
              "    <tr>\n",
              "      <th>2</th>\n",
              "      <td>New Zealand</td>\n",
              "      <td>12</td>\n",
              "      <td>0</td>\n",
              "      <td>2</td>\n",
              "      <td>8</td>\n",
              "      <td>3</td>\n",
              "      <td>255</td>\n",
              "    </tr>\n",
              "    <tr>\n",
              "      <th>3</th>\n",
              "      <td>Australia</td>\n",
              "      <td>12</td>\n",
              "      <td>5</td>\n",
              "      <td>7</td>\n",
              "      <td>8</td>\n",
              "      <td>4</td>\n",
              "      <td>252</td>\n",
              "    </tr>\n",
              "    <tr>\n",
              "      <th>4</th>\n",
              "      <td>Pakistan</td>\n",
              "      <td>12</td>\n",
              "      <td>1</td>\n",
              "      <td>2</td>\n",
              "      <td>6</td>\n",
              "      <td>5</td>\n",
              "      <td>251</td>\n",
              "    </tr>\n",
              "  </tbody>\n",
              "</table>\n",
              "</div>"
            ],
            "text/plain": [
              "          Team  Appearances  Titles  Finals  Semi Finals  Ranking   Points\n",
              "0        India           12       2       3            7         1     265\n",
              "1      England           12       1       4            6         2     259\n",
              "2  New Zealand           12       0       2            8         3     255\n",
              "3    Australia           12       5       7            8         4     252\n",
              "4     Pakistan           12       1       2            6         5     251"
            ]
          },
          "execution_count": 31,
          "metadata": {},
          "output_type": "execute_result"
        }
      ],
      "source": [
        "teams_df = pd.read_csv(\"teams.csv\")\n",
        "teams_df.head()"
      ]
    },
    {
      "cell_type": "markdown",
      "metadata": {
        "id": "gq0swf4Ebc-l"
      },
      "source": [
        "schedule.csv contains the schedule of matches to be played in the current World Cup."
      ]
    },
    {
      "cell_type": "code",
      "execution_count": 32,
      "metadata": {
        "colab": {
          "base_uri": "https://localhost:8080/",
          "height": 206
        },
        "id": "JG07VpAiaujc",
        "outputId": "e9bce32b-f143-493b-e542-45a475a5f819"
      },
      "outputs": [
        {
          "data": {
            "text/html": [
              "<div>\n",
              "<style scoped>\n",
              "    .dataframe tbody tr th:only-of-type {\n",
              "        vertical-align: middle;\n",
              "    }\n",
              "\n",
              "    .dataframe tbody tr th {\n",
              "        vertical-align: top;\n",
              "    }\n",
              "\n",
              "    .dataframe thead th {\n",
              "        text-align: right;\n",
              "    }\n",
              "</style>\n",
              "<table border=\"1\" class=\"dataframe\">\n",
              "  <thead>\n",
              "    <tr style=\"text-align: right;\">\n",
              "      <th></th>\n",
              "      <th>Match Date</th>\n",
              "      <th>Venue</th>\n",
              "      <th>Team 1</th>\n",
              "      <th>Team 2</th>\n",
              "    </tr>\n",
              "  </thead>\n",
              "  <tbody>\n",
              "    <tr>\n",
              "      <th>0</th>\n",
              "      <td>05-10-2023</td>\n",
              "      <td>Ahmedabad</td>\n",
              "      <td>England</td>\n",
              "      <td>New Zealand</td>\n",
              "    </tr>\n",
              "    <tr>\n",
              "      <th>1</th>\n",
              "      <td>06-10-2023</td>\n",
              "      <td>Hyderabad</td>\n",
              "      <td>Pakistan</td>\n",
              "      <td>Netherlands</td>\n",
              "    </tr>\n",
              "    <tr>\n",
              "      <th>2</th>\n",
              "      <td>07-10-2023</td>\n",
              "      <td>Dharamsala</td>\n",
              "      <td>Bangladesh</td>\n",
              "      <td>Afghanistan</td>\n",
              "    </tr>\n",
              "    <tr>\n",
              "      <th>3</th>\n",
              "      <td>07-10-2023</td>\n",
              "      <td>Delhi</td>\n",
              "      <td>South Africa</td>\n",
              "      <td>Sri Lanka</td>\n",
              "    </tr>\n",
              "    <tr>\n",
              "      <th>4</th>\n",
              "      <td>08-10-2023</td>\n",
              "      <td>Chennai</td>\n",
              "      <td>India</td>\n",
              "      <td>Australia</td>\n",
              "    </tr>\n",
              "  </tbody>\n",
              "</table>\n",
              "</div>"
            ],
            "text/plain": [
              "   Match Date       Venue        Team 1       Team 2\n",
              "0  05-10-2023   Ahmedabad       England  New Zealand\n",
              "1  06-10-2023   Hyderabad      Pakistan  Netherlands\n",
              "2  07-10-2023  Dharamsala    Bangladesh  Afghanistan\n",
              "3  07-10-2023       Delhi  South Africa    Sri Lanka\n",
              "4  08-10-2023     Chennai         India    Australia"
            ]
          },
          "execution_count": 32,
          "metadata": {},
          "output_type": "execute_result"
        }
      ],
      "source": [
        "schedule_df = pd.read_csv(\"schedule.csv\")\n",
        "schedule_df.head()"
      ]
    },
    {
      "cell_type": "markdown",
      "metadata": {
        "id": "cfeaedVfiRRA"
      },
      "source": [
        "## **Merging datasets**"
      ]
    },
    {
      "cell_type": "code",
      "execution_count": 33,
      "metadata": {
        "colab": {
          "base_uri": "https://localhost:8080/",
          "height": 417
        },
        "id": "mp5s7asoeztM",
        "outputId": "512b798f-a843-43cf-bf6b-eaeeeadc2a8a"
      },
      "outputs": [
        {
          "data": {
            "text/html": [
              "<div>\n",
              "<style scoped>\n",
              "    .dataframe tbody tr th:only-of-type {\n",
              "        vertical-align: middle;\n",
              "    }\n",
              "\n",
              "    .dataframe tbody tr th {\n",
              "        vertical-align: top;\n",
              "    }\n",
              "\n",
              "    .dataframe thead th {\n",
              "        text-align: right;\n",
              "    }\n",
              "</style>\n",
              "<table border=\"1\" class=\"dataframe\">\n",
              "  <thead>\n",
              "    <tr style=\"text-align: right;\">\n",
              "      <th></th>\n",
              "      <th>Team 1</th>\n",
              "      <th>Team 2</th>\n",
              "      <th>Winner</th>\n",
              "      <th>Margin</th>\n",
              "      <th>Ground</th>\n",
              "      <th>Match Date</th>\n",
              "      <th>Team_team1</th>\n",
              "      <th>Appearances_team1</th>\n",
              "      <th>Titles_team1</th>\n",
              "      <th>Finals_team1</th>\n",
              "      <th>Semi Finals_team1</th>\n",
              "      <th>Ranking _team1</th>\n",
              "      <th>Points_team1</th>\n",
              "      <th>Team_team2</th>\n",
              "      <th>Appearances_team2</th>\n",
              "      <th>Titles_team2</th>\n",
              "      <th>Finals_team2</th>\n",
              "      <th>Semi Finals_team2</th>\n",
              "      <th>Ranking _team2</th>\n",
              "      <th>Points_team2</th>\n",
              "    </tr>\n",
              "  </thead>\n",
              "  <tbody>\n",
              "    <tr>\n",
              "      <th>0</th>\n",
              "      <td>Afghanistan</td>\n",
              "      <td>Bangladesh</td>\n",
              "      <td>Bangladesh</td>\n",
              "      <td>105 runs</td>\n",
              "      <td>Canberra</td>\n",
              "      <td>18-02-2015</td>\n",
              "      <td>Afghanistan</td>\n",
              "      <td>2</td>\n",
              "      <td>0</td>\n",
              "      <td>0</td>\n",
              "      <td>0</td>\n",
              "      <td>10</td>\n",
              "      <td>221</td>\n",
              "      <td>Bangladesh</td>\n",
              "      <td>6</td>\n",
              "      <td>0</td>\n",
              "      <td>0</td>\n",
              "      <td>0</td>\n",
              "      <td>9</td>\n",
              "      <td>226</td>\n",
              "    </tr>\n",
              "    <tr>\n",
              "      <th>1</th>\n",
              "      <td>Afghanistan</td>\n",
              "      <td>Bangladesh</td>\n",
              "      <td>Afghanistan</td>\n",
              "      <td>136 runs</td>\n",
              "      <td>Abu Dhabi</td>\n",
              "      <td>20-09-2018</td>\n",
              "      <td>Afghanistan</td>\n",
              "      <td>2</td>\n",
              "      <td>0</td>\n",
              "      <td>0</td>\n",
              "      <td>0</td>\n",
              "      <td>10</td>\n",
              "      <td>221</td>\n",
              "      <td>Bangladesh</td>\n",
              "      <td>6</td>\n",
              "      <td>0</td>\n",
              "      <td>0</td>\n",
              "      <td>0</td>\n",
              "      <td>9</td>\n",
              "      <td>226</td>\n",
              "    </tr>\n",
              "    <tr>\n",
              "      <th>2</th>\n",
              "      <td>Afghanistan</td>\n",
              "      <td>Bangladesh</td>\n",
              "      <td>Bangladesh</td>\n",
              "      <td>3 runs</td>\n",
              "      <td>Abu Dhabi</td>\n",
              "      <td>23-09-2018</td>\n",
              "      <td>Afghanistan</td>\n",
              "      <td>2</td>\n",
              "      <td>0</td>\n",
              "      <td>0</td>\n",
              "      <td>0</td>\n",
              "      <td>10</td>\n",
              "      <td>221</td>\n",
              "      <td>Bangladesh</td>\n",
              "      <td>6</td>\n",
              "      <td>0</td>\n",
              "      <td>0</td>\n",
              "      <td>0</td>\n",
              "      <td>9</td>\n",
              "      <td>226</td>\n",
              "    </tr>\n",
              "    <tr>\n",
              "      <th>3</th>\n",
              "      <td>Afghanistan</td>\n",
              "      <td>Bangladesh</td>\n",
              "      <td>Bangladesh</td>\n",
              "      <td>62 runs</td>\n",
              "      <td>Southampton</td>\n",
              "      <td>24-06-2019</td>\n",
              "      <td>Afghanistan</td>\n",
              "      <td>2</td>\n",
              "      <td>0</td>\n",
              "      <td>0</td>\n",
              "      <td>0</td>\n",
              "      <td>10</td>\n",
              "      <td>221</td>\n",
              "      <td>Bangladesh</td>\n",
              "      <td>6</td>\n",
              "      <td>0</td>\n",
              "      <td>0</td>\n",
              "      <td>0</td>\n",
              "      <td>9</td>\n",
              "      <td>226</td>\n",
              "    </tr>\n",
              "    <tr>\n",
              "      <th>4</th>\n",
              "      <td>New Zealand</td>\n",
              "      <td>Bangladesh</td>\n",
              "      <td>New Zealand</td>\n",
              "      <td>3 wickets</td>\n",
              "      <td>Hamilton</td>\n",
              "      <td>13-03-2015</td>\n",
              "      <td>New Zealand</td>\n",
              "      <td>12</td>\n",
              "      <td>0</td>\n",
              "      <td>2</td>\n",
              "      <td>8</td>\n",
              "      <td>3</td>\n",
              "      <td>255</td>\n",
              "      <td>Bangladesh</td>\n",
              "      <td>6</td>\n",
              "      <td>0</td>\n",
              "      <td>0</td>\n",
              "      <td>0</td>\n",
              "      <td>9</td>\n",
              "      <td>226</td>\n",
              "    </tr>\n",
              "  </tbody>\n",
              "</table>\n",
              "</div>"
            ],
            "text/plain": [
              "        Team 1      Team 2       Winner     Margin       Ground  Match Date  \\\n",
              "0  Afghanistan  Bangladesh   Bangladesh   105 runs     Canberra  18-02-2015   \n",
              "1  Afghanistan  Bangladesh  Afghanistan   136 runs    Abu Dhabi  20-09-2018   \n",
              "2  Afghanistan  Bangladesh   Bangladesh     3 runs    Abu Dhabi  23-09-2018   \n",
              "3  Afghanistan  Bangladesh   Bangladesh    62 runs  Southampton  24-06-2019   \n",
              "4  New Zealand  Bangladesh  New Zealand  3 wickets     Hamilton  13-03-2015   \n",
              "\n",
              "    Team_team1  Appearances_team1  Titles_team1  Finals_team1  \\\n",
              "0  Afghanistan                  2             0             0   \n",
              "1  Afghanistan                  2             0             0   \n",
              "2  Afghanistan                  2             0             0   \n",
              "3  Afghanistan                  2             0             0   \n",
              "4  New Zealand                 12             0             2   \n",
              "\n",
              "   Semi Finals_team1  Ranking _team1  Points_team1  Team_team2  \\\n",
              "0                  0              10           221  Bangladesh   \n",
              "1                  0              10           221  Bangladesh   \n",
              "2                  0              10           221  Bangladesh   \n",
              "3                  0              10           221  Bangladesh   \n",
              "4                  8               3           255  Bangladesh   \n",
              "\n",
              "   Appearances_team2  Titles_team2  Finals_team2  Semi Finals_team2  \\\n",
              "0                  6             0             0                  0   \n",
              "1                  6             0             0                  0   \n",
              "2                  6             0             0                  0   \n",
              "3                  6             0             0                  0   \n",
              "4                  6             0             0                  0   \n",
              "\n",
              "   Ranking _team2  Points_team2  \n",
              "0               9           226  \n",
              "1               9           226  \n",
              "2               9           226  \n",
              "3               9           226  \n",
              "4               9           226  "
            ]
          },
          "execution_count": 33,
          "metadata": {},
          "output_type": "execute_result"
        }
      ],
      "source": [
        "df = pd.merge(matches_df, teams_df, how='inner', left_on='Team 1', right_on='Team')\n",
        "df = pd.merge(df, teams_df, how='inner', left_on='Team 2', right_on='Team', suffixes=('_team1', '_team2'))\n",
        "df.head()"
      ]
    },
    {
      "cell_type": "markdown",
      "metadata": {
        "id": "0wvV5MzAp9mp"
      },
      "source": [
        "We have used the ranking of the winner to encode the winner column."
      ]
    },
    {
      "cell_type": "code",
      "execution_count": 34,
      "metadata": {
        "colab": {
          "base_uri": "https://localhost:8080/",
          "height": 417
        },
        "id": "izF26g6Ip8ov",
        "outputId": "419f5c5b-8a29-411d-b9bb-e4e41b3487b2"
      },
      "outputs": [
        {
          "data": {
            "text/html": [
              "<div>\n",
              "<style scoped>\n",
              "    .dataframe tbody tr th:only-of-type {\n",
              "        vertical-align: middle;\n",
              "    }\n",
              "\n",
              "    .dataframe tbody tr th {\n",
              "        vertical-align: top;\n",
              "    }\n",
              "\n",
              "    .dataframe thead th {\n",
              "        text-align: right;\n",
              "    }\n",
              "</style>\n",
              "<table border=\"1\" class=\"dataframe\">\n",
              "  <thead>\n",
              "    <tr style=\"text-align: right;\">\n",
              "      <th></th>\n",
              "      <th>Team 1</th>\n",
              "      <th>Team 2</th>\n",
              "      <th>Winner</th>\n",
              "      <th>Margin</th>\n",
              "      <th>Ground</th>\n",
              "      <th>Match Date</th>\n",
              "      <th>Team_team1</th>\n",
              "      <th>Appearances_team1</th>\n",
              "      <th>Titles_team1</th>\n",
              "      <th>Finals_team1</th>\n",
              "      <th>Semi Finals_team1</th>\n",
              "      <th>Ranking _team1</th>\n",
              "      <th>Points_team1</th>\n",
              "      <th>Team_team2</th>\n",
              "      <th>Appearances_team2</th>\n",
              "      <th>Titles_team2</th>\n",
              "      <th>Finals_team2</th>\n",
              "      <th>Semi Finals_team2</th>\n",
              "      <th>Ranking _team2</th>\n",
              "      <th>Points_team2</th>\n",
              "    </tr>\n",
              "  </thead>\n",
              "  <tbody>\n",
              "    <tr>\n",
              "      <th>0</th>\n",
              "      <td>Afghanistan</td>\n",
              "      <td>Bangladesh</td>\n",
              "      <td>9</td>\n",
              "      <td>105 runs</td>\n",
              "      <td>Canberra</td>\n",
              "      <td>18-02-2015</td>\n",
              "      <td>Afghanistan</td>\n",
              "      <td>2</td>\n",
              "      <td>0</td>\n",
              "      <td>0</td>\n",
              "      <td>0</td>\n",
              "      <td>10</td>\n",
              "      <td>221</td>\n",
              "      <td>Bangladesh</td>\n",
              "      <td>6</td>\n",
              "      <td>0</td>\n",
              "      <td>0</td>\n",
              "      <td>0</td>\n",
              "      <td>9</td>\n",
              "      <td>226</td>\n",
              "    </tr>\n",
              "    <tr>\n",
              "      <th>1</th>\n",
              "      <td>Afghanistan</td>\n",
              "      <td>Bangladesh</td>\n",
              "      <td>10</td>\n",
              "      <td>136 runs</td>\n",
              "      <td>Abu Dhabi</td>\n",
              "      <td>20-09-2018</td>\n",
              "      <td>Afghanistan</td>\n",
              "      <td>2</td>\n",
              "      <td>0</td>\n",
              "      <td>0</td>\n",
              "      <td>0</td>\n",
              "      <td>10</td>\n",
              "      <td>221</td>\n",
              "      <td>Bangladesh</td>\n",
              "      <td>6</td>\n",
              "      <td>0</td>\n",
              "      <td>0</td>\n",
              "      <td>0</td>\n",
              "      <td>9</td>\n",
              "      <td>226</td>\n",
              "    </tr>\n",
              "    <tr>\n",
              "      <th>2</th>\n",
              "      <td>Afghanistan</td>\n",
              "      <td>Bangladesh</td>\n",
              "      <td>9</td>\n",
              "      <td>3 runs</td>\n",
              "      <td>Abu Dhabi</td>\n",
              "      <td>23-09-2018</td>\n",
              "      <td>Afghanistan</td>\n",
              "      <td>2</td>\n",
              "      <td>0</td>\n",
              "      <td>0</td>\n",
              "      <td>0</td>\n",
              "      <td>10</td>\n",
              "      <td>221</td>\n",
              "      <td>Bangladesh</td>\n",
              "      <td>6</td>\n",
              "      <td>0</td>\n",
              "      <td>0</td>\n",
              "      <td>0</td>\n",
              "      <td>9</td>\n",
              "      <td>226</td>\n",
              "    </tr>\n",
              "    <tr>\n",
              "      <th>3</th>\n",
              "      <td>Afghanistan</td>\n",
              "      <td>Bangladesh</td>\n",
              "      <td>9</td>\n",
              "      <td>62 runs</td>\n",
              "      <td>Southampton</td>\n",
              "      <td>24-06-2019</td>\n",
              "      <td>Afghanistan</td>\n",
              "      <td>2</td>\n",
              "      <td>0</td>\n",
              "      <td>0</td>\n",
              "      <td>0</td>\n",
              "      <td>10</td>\n",
              "      <td>221</td>\n",
              "      <td>Bangladesh</td>\n",
              "      <td>6</td>\n",
              "      <td>0</td>\n",
              "      <td>0</td>\n",
              "      <td>0</td>\n",
              "      <td>9</td>\n",
              "      <td>226</td>\n",
              "    </tr>\n",
              "    <tr>\n",
              "      <th>4</th>\n",
              "      <td>New Zealand</td>\n",
              "      <td>Bangladesh</td>\n",
              "      <td>3</td>\n",
              "      <td>3 wickets</td>\n",
              "      <td>Hamilton</td>\n",
              "      <td>13-03-2015</td>\n",
              "      <td>New Zealand</td>\n",
              "      <td>12</td>\n",
              "      <td>0</td>\n",
              "      <td>2</td>\n",
              "      <td>8</td>\n",
              "      <td>3</td>\n",
              "      <td>255</td>\n",
              "      <td>Bangladesh</td>\n",
              "      <td>6</td>\n",
              "      <td>0</td>\n",
              "      <td>0</td>\n",
              "      <td>0</td>\n",
              "      <td>9</td>\n",
              "      <td>226</td>\n",
              "    </tr>\n",
              "  </tbody>\n",
              "</table>\n",
              "</div>"
            ],
            "text/plain": [
              "        Team 1      Team 2  Winner     Margin       Ground  Match Date  \\\n",
              "0  Afghanistan  Bangladesh       9   105 runs     Canberra  18-02-2015   \n",
              "1  Afghanistan  Bangladesh      10   136 runs    Abu Dhabi  20-09-2018   \n",
              "2  Afghanistan  Bangladesh       9     3 runs    Abu Dhabi  23-09-2018   \n",
              "3  Afghanistan  Bangladesh       9    62 runs  Southampton  24-06-2019   \n",
              "4  New Zealand  Bangladesh       3  3 wickets     Hamilton  13-03-2015   \n",
              "\n",
              "    Team_team1  Appearances_team1  Titles_team1  Finals_team1  \\\n",
              "0  Afghanistan                  2             0             0   \n",
              "1  Afghanistan                  2             0             0   \n",
              "2  Afghanistan                  2             0             0   \n",
              "3  Afghanistan                  2             0             0   \n",
              "4  New Zealand                 12             0             2   \n",
              "\n",
              "   Semi Finals_team1  Ranking _team1  Points_team1  Team_team2  \\\n",
              "0                  0              10           221  Bangladesh   \n",
              "1                  0              10           221  Bangladesh   \n",
              "2                  0              10           221  Bangladesh   \n",
              "3                  0              10           221  Bangladesh   \n",
              "4                  8               3           255  Bangladesh   \n",
              "\n",
              "   Appearances_team2  Titles_team2  Finals_team2  Semi Finals_team2  \\\n",
              "0                  6             0             0                  0   \n",
              "1                  6             0             0                  0   \n",
              "2                  6             0             0                  0   \n",
              "3                  6             0             0                  0   \n",
              "4                  6             0             0                  0   \n",
              "\n",
              "   Ranking _team2  Points_team2  \n",
              "0               9           226  \n",
              "1               9           226  \n",
              "2               9           226  \n",
              "3               9           226  \n",
              "4               9           226  "
            ]
          },
          "execution_count": 34,
          "metadata": {},
          "output_type": "execute_result"
        }
      ],
      "source": [
        "df['Winner'] = np.where(df['Winner'] == df['Team 1'], df['Ranking _team1'], np.where(df['Winner'] == df['Team 2'], df['Ranking _team2'], 0))\n",
        "df.head()"
      ]
    },
    {
      "cell_type": "markdown",
      "metadata": {
        "id": "08bCU-LIqPmY"
      },
      "source": [
        "Irrelevant columns are dropped."
      ]
    },
    {
      "cell_type": "code",
      "execution_count": 35,
      "metadata": {
        "colab": {
          "base_uri": "https://localhost:8080/",
          "height": 243
        },
        "id": "TueMcQORqJQX",
        "outputId": "3cd0be29-079b-4118-c1e0-f0dd5ae412b5"
      },
      "outputs": [
        {
          "data": {
            "text/html": [
              "<div>\n",
              "<style scoped>\n",
              "    .dataframe tbody tr th:only-of-type {\n",
              "        vertical-align: middle;\n",
              "    }\n",
              "\n",
              "    .dataframe tbody tr th {\n",
              "        vertical-align: top;\n",
              "    }\n",
              "\n",
              "    .dataframe thead th {\n",
              "        text-align: right;\n",
              "    }\n",
              "</style>\n",
              "<table border=\"1\" class=\"dataframe\">\n",
              "  <thead>\n",
              "    <tr style=\"text-align: right;\">\n",
              "      <th></th>\n",
              "      <th>Winner</th>\n",
              "      <th>Ground</th>\n",
              "      <th>Appearances_team1</th>\n",
              "      <th>Titles_team1</th>\n",
              "      <th>Finals_team1</th>\n",
              "      <th>Semi Finals_team1</th>\n",
              "      <th>Ranking _team1</th>\n",
              "      <th>Points_team1</th>\n",
              "      <th>Appearances_team2</th>\n",
              "      <th>Titles_team2</th>\n",
              "      <th>Finals_team2</th>\n",
              "      <th>Semi Finals_team2</th>\n",
              "      <th>Ranking _team2</th>\n",
              "      <th>Points_team2</th>\n",
              "    </tr>\n",
              "  </thead>\n",
              "  <tbody>\n",
              "    <tr>\n",
              "      <th>0</th>\n",
              "      <td>9</td>\n",
              "      <td>Canberra</td>\n",
              "      <td>2</td>\n",
              "      <td>0</td>\n",
              "      <td>0</td>\n",
              "      <td>0</td>\n",
              "      <td>10</td>\n",
              "      <td>221</td>\n",
              "      <td>6</td>\n",
              "      <td>0</td>\n",
              "      <td>0</td>\n",
              "      <td>0</td>\n",
              "      <td>9</td>\n",
              "      <td>226</td>\n",
              "    </tr>\n",
              "    <tr>\n",
              "      <th>1</th>\n",
              "      <td>10</td>\n",
              "      <td>Abu Dhabi</td>\n",
              "      <td>2</td>\n",
              "      <td>0</td>\n",
              "      <td>0</td>\n",
              "      <td>0</td>\n",
              "      <td>10</td>\n",
              "      <td>221</td>\n",
              "      <td>6</td>\n",
              "      <td>0</td>\n",
              "      <td>0</td>\n",
              "      <td>0</td>\n",
              "      <td>9</td>\n",
              "      <td>226</td>\n",
              "    </tr>\n",
              "    <tr>\n",
              "      <th>2</th>\n",
              "      <td>9</td>\n",
              "      <td>Abu Dhabi</td>\n",
              "      <td>2</td>\n",
              "      <td>0</td>\n",
              "      <td>0</td>\n",
              "      <td>0</td>\n",
              "      <td>10</td>\n",
              "      <td>221</td>\n",
              "      <td>6</td>\n",
              "      <td>0</td>\n",
              "      <td>0</td>\n",
              "      <td>0</td>\n",
              "      <td>9</td>\n",
              "      <td>226</td>\n",
              "    </tr>\n",
              "    <tr>\n",
              "      <th>3</th>\n",
              "      <td>9</td>\n",
              "      <td>Southampton</td>\n",
              "      <td>2</td>\n",
              "      <td>0</td>\n",
              "      <td>0</td>\n",
              "      <td>0</td>\n",
              "      <td>10</td>\n",
              "      <td>221</td>\n",
              "      <td>6</td>\n",
              "      <td>0</td>\n",
              "      <td>0</td>\n",
              "      <td>0</td>\n",
              "      <td>9</td>\n",
              "      <td>226</td>\n",
              "    </tr>\n",
              "    <tr>\n",
              "      <th>4</th>\n",
              "      <td>3</td>\n",
              "      <td>Hamilton</td>\n",
              "      <td>12</td>\n",
              "      <td>0</td>\n",
              "      <td>2</td>\n",
              "      <td>8</td>\n",
              "      <td>3</td>\n",
              "      <td>255</td>\n",
              "      <td>6</td>\n",
              "      <td>0</td>\n",
              "      <td>0</td>\n",
              "      <td>0</td>\n",
              "      <td>9</td>\n",
              "      <td>226</td>\n",
              "    </tr>\n",
              "  </tbody>\n",
              "</table>\n",
              "</div>"
            ],
            "text/plain": [
              "   Winner       Ground  Appearances_team1  Titles_team1  Finals_team1  \\\n",
              "0       9     Canberra                  2             0             0   \n",
              "1      10    Abu Dhabi                  2             0             0   \n",
              "2       9    Abu Dhabi                  2             0             0   \n",
              "3       9  Southampton                  2             0             0   \n",
              "4       3     Hamilton                 12             0             2   \n",
              "\n",
              "   Semi Finals_team1  Ranking _team1  Points_team1  Appearances_team2  \\\n",
              "0                  0              10           221                  6   \n",
              "1                  0              10           221                  6   \n",
              "2                  0              10           221                  6   \n",
              "3                  0              10           221                  6   \n",
              "4                  8               3           255                  6   \n",
              "\n",
              "   Titles_team2  Finals_team2  Semi Finals_team2  Ranking _team2  Points_team2  \n",
              "0             0             0                  0               9           226  \n",
              "1             0             0                  0               9           226  \n",
              "2             0             0                  0               9           226  \n",
              "3             0             0                  0               9           226  \n",
              "4             0             0                  0               9           226  "
            ]
          },
          "execution_count": 35,
          "metadata": {},
          "output_type": "execute_result"
        }
      ],
      "source": [
        "df.drop(['Team 1', 'Team 2', 'Team_team1', 'Team_team2', 'Margin', 'Match Date'], axis=1, inplace=True)\n",
        "df.head()"
      ]
    },
    {
      "cell_type": "markdown",
      "metadata": {
        "id": "VRAK2-UviViA"
      },
      "source": [
        "## **Encoding**"
      ]
    },
    {
      "cell_type": "code",
      "execution_count": 36,
      "metadata": {
        "colab": {
          "base_uri": "https://localhost:8080/",
          "height": 243
        },
        "id": "LgtS78G7fzhX",
        "outputId": "dd99bf12-7be2-46e5-c117-b862b4892e77"
      },
      "outputs": [
        {
          "data": {
            "text/html": [
              "<div>\n",
              "<style scoped>\n",
              "    .dataframe tbody tr th:only-of-type {\n",
              "        vertical-align: middle;\n",
              "    }\n",
              "\n",
              "    .dataframe tbody tr th {\n",
              "        vertical-align: top;\n",
              "    }\n",
              "\n",
              "    .dataframe thead th {\n",
              "        text-align: right;\n",
              "    }\n",
              "</style>\n",
              "<table border=\"1\" class=\"dataframe\">\n",
              "  <thead>\n",
              "    <tr style=\"text-align: right;\">\n",
              "      <th></th>\n",
              "      <th>Winner</th>\n",
              "      <th>Ground</th>\n",
              "      <th>Appearances_team1</th>\n",
              "      <th>Titles_team1</th>\n",
              "      <th>Finals_team1</th>\n",
              "      <th>Semi Finals_team1</th>\n",
              "      <th>Ranking _team1</th>\n",
              "      <th>Points_team1</th>\n",
              "      <th>Appearances_team2</th>\n",
              "      <th>Titles_team2</th>\n",
              "      <th>Finals_team2</th>\n",
              "      <th>Semi Finals_team2</th>\n",
              "      <th>Ranking _team2</th>\n",
              "      <th>Points_team2</th>\n",
              "    </tr>\n",
              "  </thead>\n",
              "  <tbody>\n",
              "    <tr>\n",
              "      <th>0</th>\n",
              "      <td>9</td>\n",
              "      <td>14</td>\n",
              "      <td>2</td>\n",
              "      <td>0</td>\n",
              "      <td>0</td>\n",
              "      <td>0</td>\n",
              "      <td>10</td>\n",
              "      <td>221</td>\n",
              "      <td>6</td>\n",
              "      <td>0</td>\n",
              "      <td>0</td>\n",
              "      <td>0</td>\n",
              "      <td>9</td>\n",
              "      <td>226</td>\n",
              "    </tr>\n",
              "    <tr>\n",
              "      <th>1</th>\n",
              "      <td>10</td>\n",
              "      <td>0</td>\n",
              "      <td>2</td>\n",
              "      <td>0</td>\n",
              "      <td>0</td>\n",
              "      <td>0</td>\n",
              "      <td>10</td>\n",
              "      <td>221</td>\n",
              "      <td>6</td>\n",
              "      <td>0</td>\n",
              "      <td>0</td>\n",
              "      <td>0</td>\n",
              "      <td>9</td>\n",
              "      <td>226</td>\n",
              "    </tr>\n",
              "    <tr>\n",
              "      <th>2</th>\n",
              "      <td>9</td>\n",
              "      <td>0</td>\n",
              "      <td>2</td>\n",
              "      <td>0</td>\n",
              "      <td>0</td>\n",
              "      <td>0</td>\n",
              "      <td>10</td>\n",
              "      <td>221</td>\n",
              "      <td>6</td>\n",
              "      <td>0</td>\n",
              "      <td>0</td>\n",
              "      <td>0</td>\n",
              "      <td>9</td>\n",
              "      <td>226</td>\n",
              "    </tr>\n",
              "    <tr>\n",
              "      <th>3</th>\n",
              "      <td>9</td>\n",
              "      <td>72</td>\n",
              "      <td>2</td>\n",
              "      <td>0</td>\n",
              "      <td>0</td>\n",
              "      <td>0</td>\n",
              "      <td>10</td>\n",
              "      <td>221</td>\n",
              "      <td>6</td>\n",
              "      <td>0</td>\n",
              "      <td>0</td>\n",
              "      <td>0</td>\n",
              "      <td>9</td>\n",
              "      <td>226</td>\n",
              "    </tr>\n",
              "    <tr>\n",
              "      <th>4</th>\n",
              "      <td>3</td>\n",
              "      <td>38</td>\n",
              "      <td>12</td>\n",
              "      <td>0</td>\n",
              "      <td>2</td>\n",
              "      <td>8</td>\n",
              "      <td>3</td>\n",
              "      <td>255</td>\n",
              "      <td>6</td>\n",
              "      <td>0</td>\n",
              "      <td>0</td>\n",
              "      <td>0</td>\n",
              "      <td>9</td>\n",
              "      <td>226</td>\n",
              "    </tr>\n",
              "  </tbody>\n",
              "</table>\n",
              "</div>"
            ],
            "text/plain": [
              "   Winner  Ground  Appearances_team1  Titles_team1  Finals_team1  \\\n",
              "0       9      14                  2             0             0   \n",
              "1      10       0                  2             0             0   \n",
              "2       9       0                  2             0             0   \n",
              "3       9      72                  2             0             0   \n",
              "4       3      38                 12             0             2   \n",
              "\n",
              "   Semi Finals_team1  Ranking _team1  Points_team1  Appearances_team2  \\\n",
              "0                  0              10           221                  6   \n",
              "1                  0              10           221                  6   \n",
              "2                  0              10           221                  6   \n",
              "3                  0              10           221                  6   \n",
              "4                  8               3           255                  6   \n",
              "\n",
              "   Titles_team2  Finals_team2  Semi Finals_team2  Ranking _team2  Points_team2  \n",
              "0             0             0                  0               9           226  \n",
              "1             0             0                  0               9           226  \n",
              "2             0             0                  0               9           226  \n",
              "3             0             0                  0               9           226  \n",
              "4             0             0                  0               9           226  "
            ]
          },
          "execution_count": 36,
          "metadata": {},
          "output_type": "execute_result"
        }
      ],
      "source": [
        "le1 = LabelEncoder()\n",
        "df['Ground'] = le1.fit_transform(df['Ground'])\n",
        "df.head()"
      ]
    },
    {
      "cell_type": "code",
      "execution_count": 37,
      "metadata": {
        "id": "BtRSJW5_jzzj"
      },
      "outputs": [],
      "source": [
        "features = ['Ground', 'Appearances_team1', 'Titles_team1', 'Finals_team1', 'Semi Finals_team1', 'Ranking _team1', 'Points_team1', 'Appearances_team2', 'Titles_team2', 'Finals_team2', 'Semi Finals_team2', 'Ranking _team2', 'Points_team2']\n",
        "target = 'Winner'\n",
        "\n",
        "X = df[features]\n",
        "y = df[target]"
      ]
    },
    {
      "cell_type": "code",
      "execution_count": 38,
      "metadata": {
        "id": "ACWE_EZhs9Gz"
      },
      "outputs": [],
      "source": [
        "le2 = LabelEncoder()\n",
        "all_teams = df['Winner'].unique()\n",
        "le2.fit(all_teams)\n",
        "y_encoded = to_categorical(le2.transform(y))"
      ]
    },
    {
      "cell_type": "markdown",
      "metadata": {
        "id": "1Ia0gzRCviaS"
      },
      "source": [
        "## **Test-train split and normalization**"
      ]
    },
    {
      "cell_type": "code",
      "execution_count": 39,
      "metadata": {
        "id": "0pl1EUo6kWzn"
      },
      "outputs": [],
      "source": [
        "X_train, X_test, y_train, y_test = train_test_split(X, y_encoded, test_size=0.2, random_state=42)"
      ]
    },
    {
      "cell_type": "code",
      "execution_count": 40,
      "metadata": {
        "id": "wPuj6GoQlZn_"
      },
      "outputs": [],
      "source": [
        "scaler = StandardScaler()\n",
        "X_train_scaled = scaler.fit_transform(X_train)\n",
        "X_test_scaled = scaler.transform(X_test)"
      ]
    },
    {
      "cell_type": "markdown",
      "metadata": {
        "id": "trMJT7nbvq-7"
      },
      "source": [
        "## **Neural network training**"
      ]
    },
    {
      "cell_type": "code",
      "execution_count": 41,
      "metadata": {
        "colab": {
          "base_uri": "https://localhost:8080/"
        },
        "id": "pQR7Vn-ulnfF",
        "outputId": "40dbe209-ac67-4133-f8ae-71e48e9e1e23"
      },
      "outputs": [
        {
          "name": "stdout",
          "output_type": "stream",
          "text": [
            "Training model with hyperparameters: {'batch_size': 16, 'epochs': 10}\n"
          ]
        },
        {
          "name": "stdout",
          "output_type": "stream",
          "text": [
            "3/3 [==============================] - 0s 5ms/step - loss: 1.6047 - accuracy: 0.4000\n",
            "Test Accuracy: 0.4000000059604645\n",
            "Training model with hyperparameters: {'batch_size': 16, 'epochs': 20}\n",
            "3/3 [==============================] - 0s 3ms/step - loss: 1.3399 - accuracy: 0.5368\n",
            "Test Accuracy: 0.5368421077728271\n",
            "Training model with hyperparameters: {'batch_size': 16, 'epochs': 30}\n",
            "3/3 [==============================] - 0s 2ms/step - loss: 1.1755 - accuracy: 0.5789\n",
            "Test Accuracy: 0.5789473652839661\n",
            "Training model with hyperparameters: {'batch_size': 32, 'epochs': 10}\n",
            "3/3 [==============================] - 0s 2ms/step - loss: 1.8005 - accuracy: 0.3895\n",
            "Test Accuracy: 0.38947367668151855\n",
            "Training model with hyperparameters: {'batch_size': 32, 'epochs': 20}\n",
            "3/3 [==============================] - 0s 3ms/step - loss: 1.5399 - accuracy: 0.4842\n",
            "Test Accuracy: 0.4842105209827423\n",
            "Training model with hyperparameters: {'batch_size': 32, 'epochs': 30}\n",
            "3/3 [==============================] - 0s 4ms/step - loss: 1.4026 - accuracy: 0.5474\n",
            "Test Accuracy: 0.5473684072494507\n",
            "Training model with hyperparameters: {'batch_size': 64, 'epochs': 10}\n",
            "3/3 [==============================] - 0s 4ms/step - loss: 1.9500 - accuracy: 0.3263\n",
            "Test Accuracy: 0.3263157904148102\n",
            "Training model with hyperparameters: {'batch_size': 64, 'epochs': 20}\n",
            "3/3 [==============================] - 0s 4ms/step - loss: 1.6849 - accuracy: 0.3895\n",
            "Test Accuracy: 0.38947367668151855\n",
            "Training model with hyperparameters: {'batch_size': 64, 'epochs': 30}\n",
            "3/3 [==============================] - 0s 4ms/step - loss: 1.4778 - accuracy: 0.4737\n",
            "Test Accuracy: 0.4736842215061188\n",
            "Best Test Accuracy: 0.5789473652839661\n",
            "Best Hyperparameters: {'batch_size': 16, 'epochs': 30}\n"
          ]
        }
      ],
      "source": [
        "def create_model(input_shape, output_shape, epochs=10, batch_size=32):\n",
        "    model = Sequential()\n",
        "    model.add(Dense(64, activation='relu', input_shape=input_shape))\n",
        "    model.add(Dense(32, activation='relu'))\n",
        "    model.add(Dense(output_shape, activation='softmax'))\n",
        "    model.compile(optimizer=Adam(), loss='categorical_crossentropy', metrics=['accuracy'])\n",
        "    return model\n",
        "\n",
        "param_grid = {'epochs': [10, 20, 30], 'batch_size': [16, 32, 64]}\n",
        "\n",
        "best_model = None\n",
        "best_accuracy = 0\n",
        "\n",
        "for params in ParameterGrid(param_grid):\n",
        "    print(\"Training model with hyperparameters:\", params)\n",
        "    model = create_model(input_shape=(X_train_scaled.shape[1],), output_shape=len(le2.classes_), **params)\n",
        "\n",
        "    early_stopping = EarlyStopping(monitor='val_loss', patience=3, restore_best_weights=True)\n",
        "    history = model.fit(X_train_scaled, y_train, epochs=params['epochs'], batch_size=params['batch_size'],\n",
        "                        validation_split=0.2, verbose=0, callbacks=[early_stopping])\n",
        "\n",
        "    _, accuracy = model.evaluate(X_test_scaled, y_test)\n",
        "    print(f'Test Accuracy: {accuracy}')\n",
        "\n",
        "    if accuracy > best_accuracy:\n",
        "        best_accuracy = accuracy\n",
        "        best_model = model\n",
        "        best_params = params\n",
        "\n",
        "print(\"Best Test Accuracy:\", best_accuracy)\n",
        "print(\"Best Hyperparameters:\", best_params)"
      ]
    },
    {
      "cell_type": "code",
      "execution_count": 42,
      "metadata": {
        "colab": {
          "base_uri": "https://localhost:8080/",
          "height": 430
        },
        "id": "FyeUz5XNM2Hq",
        "outputId": "3c997c94-05b1-438e-fee1-7c3895e9440f"
      },
      "outputs": [
        {
          "data": {
            "image/png": "[encoded data removed]",
            "text/plain": [
              "<Figure size 640x480 with 1 Axes>"
            ]
          },
          "metadata": {},
          "output_type": "display_data"
        }
      ],
      "source": [
        "history_df = pd.DataFrame(history.history)\n",
        "\n",
        "history_df.loc[5:, ['loss']].plot();"
      ]
    },
    {
      "cell_type": "markdown",
      "metadata": {
        "id": "K5JNYrEHv4TB"
      },
      "source": [
        "## **Sample prediction**"
      ]
    },
    {
      "cell_type": "code",
      "execution_count": 43,
      "metadata": {
        "colab": {
          "base_uri": "https://localhost:8080/",
          "height": 243
        },
        "id": "NV2G0RhW04Ia",
        "outputId": "41337678-8840-4588-e457-c981afa16813"
      },
      "outputs": [
        {
          "data": {
            "text/html": [
              "<div>\n",
              "<style scoped>\n",
              "    .dataframe tbody tr th:only-of-type {\n",
              "        vertical-align: middle;\n",
              "    }\n",
              "\n",
              "    .dataframe tbody tr th {\n",
              "        vertical-align: top;\n",
              "    }\n",
              "\n",
              "    .dataframe thead th {\n",
              "        text-align: right;\n",
              "    }\n",
              "</style>\n",
              "<table border=\"1\" class=\"dataframe\">\n",
              "  <thead>\n",
              "    <tr style=\"text-align: right;\">\n",
              "      <th></th>\n",
              "      <th>Venue</th>\n",
              "      <th>Appearances_team1</th>\n",
              "      <th>Titles_team1</th>\n",
              "      <th>Finals_team1</th>\n",
              "      <th>Semi Finals_team1</th>\n",
              "      <th>Ranking _team1</th>\n",
              "      <th>Points_team1</th>\n",
              "      <th>Appearances_team2</th>\n",
              "      <th>Titles_team2</th>\n",
              "      <th>Finals_team2</th>\n",
              "      <th>Semi Finals_team2</th>\n",
              "      <th>Ranking _team2</th>\n",
              "      <th>Points_team2</th>\n",
              "    </tr>\n",
              "  </thead>\n",
              "  <tbody>\n",
              "    <tr>\n",
              "      <th>0</th>\n",
              "      <td>0</td>\n",
              "      <td>12</td>\n",
              "      <td>1</td>\n",
              "      <td>4</td>\n",
              "      <td>6</td>\n",
              "      <td>2</td>\n",
              "      <td>259</td>\n",
              "      <td>12</td>\n",
              "      <td>0</td>\n",
              "      <td>2</td>\n",
              "      <td>8</td>\n",
              "      <td>3</td>\n",
              "      <td>255</td>\n",
              "    </tr>\n",
              "    <tr>\n",
              "      <th>1</th>\n",
              "      <td>4</td>\n",
              "      <td>12</td>\n",
              "      <td>2</td>\n",
              "      <td>3</td>\n",
              "      <td>7</td>\n",
              "      <td>1</td>\n",
              "      <td>265</td>\n",
              "      <td>12</td>\n",
              "      <td>0</td>\n",
              "      <td>2</td>\n",
              "      <td>8</td>\n",
              "      <td>3</td>\n",
              "      <td>255</td>\n",
              "    </tr>\n",
              "    <tr>\n",
              "      <th>2</th>\n",
              "      <td>4</td>\n",
              "      <td>12</td>\n",
              "      <td>5</td>\n",
              "      <td>7</td>\n",
              "      <td>8</td>\n",
              "      <td>4</td>\n",
              "      <td>252</td>\n",
              "      <td>12</td>\n",
              "      <td>0</td>\n",
              "      <td>2</td>\n",
              "      <td>8</td>\n",
              "      <td>3</td>\n",
              "      <td>255</td>\n",
              "    </tr>\n",
              "    <tr>\n",
              "      <th>3</th>\n",
              "      <td>4</td>\n",
              "      <td>12</td>\n",
              "      <td>1</td>\n",
              "      <td>4</td>\n",
              "      <td>6</td>\n",
              "      <td>2</td>\n",
              "      <td>259</td>\n",
              "      <td>6</td>\n",
              "      <td>0</td>\n",
              "      <td>0</td>\n",
              "      <td>0</td>\n",
              "      <td>9</td>\n",
              "      <td>226</td>\n",
              "    </tr>\n",
              "    <tr>\n",
              "      <th>4</th>\n",
              "      <td>6</td>\n",
              "      <td>12</td>\n",
              "      <td>1</td>\n",
              "      <td>2</td>\n",
              "      <td>6</td>\n",
              "      <td>5</td>\n",
              "      <td>251</td>\n",
              "      <td>6</td>\n",
              "      <td>0</td>\n",
              "      <td>0</td>\n",
              "      <td>0</td>\n",
              "      <td>9</td>\n",
              "      <td>226</td>\n",
              "    </tr>\n",
              "  </tbody>\n",
              "</table>\n",
              "</div>"
            ],
            "text/plain": [
              "   Venue  Appearances_team1  Titles_team1  Finals_team1  Semi Finals_team1  \\\n",
              "0      0                 12             1             4                  6   \n",
              "1      4                 12             2             3                  7   \n",
              "2      4                 12             5             7                  8   \n",
              "3      4                 12             1             4                  6   \n",
              "4      6                 12             1             2                  6   \n",
              "\n",
              "   Ranking _team1  Points_team1  Appearances_team2  Titles_team2  \\\n",
              "0               2           259                 12             0   \n",
              "1               1           265                 12             0   \n",
              "2               4           252                 12             0   \n",
              "3               2           259                  6             0   \n",
              "4               5           251                  6             0   \n",
              "\n",
              "   Finals_team2  Semi Finals_team2  Ranking _team2  Points_team2  \n",
              "0             2                  8               3           255  \n",
              "1             2                  8               3           255  \n",
              "2             2                  8               3           255  \n",
              "3             0                  0               9           226  \n",
              "4             0                  0               9           226  "
            ]
          },
          "execution_count": 43,
          "metadata": {},
          "output_type": "execute_result"
        }
      ],
      "source": [
        "pred = pd.merge(schedule_df, teams_df, how='inner', left_on='Team 1', right_on='Team')\n",
        "pred = pd.merge(pred, teams_df, how='inner', left_on='Team 2', right_on='Team', suffixes=('_team1', '_team2'))\n",
        "pred.drop(['Team 1', 'Team 2', 'Team_team1', 'Team_team2', 'Match Date'], axis=1, inplace=True)\n",
        "\n",
        "pred['Venue'] = le1.fit_transform(pred['Venue'])\n",
        "pred.rename(columns={\"Venue\": \"Ground\"})\n",
        "pred.head()"
      ]
    },
    {
      "cell_type": "code",
      "execution_count": 44,
      "metadata": {
        "id": "7Ezgje6C3Pt3"
      },
      "outputs": [],
      "source": [
        "scaler = StandardScaler()\n",
        "X_scaled = scaler.fit_transform(pred)"
      ]
    },
    {
      "cell_type": "code",
      "execution_count": 45,
      "metadata": {
        "colab": {
          "base_uri": "https://localhost:8080/"
        },
        "id": "jSQDukmh5mS6",
        "outputId": "2170710e-5d41-43a9-8dae-84e606c017bf"
      },
      "outputs": [
        {
          "name": "stdout",
          "output_type": "stream",
          "text": [
            "2/2 [==============================] - 0s 12ms/step\n"
          ]
        }
      ],
      "source": [
        "predictions = model.predict(X_scaled)\n",
        "predicted_labels = np.argmax(predictions, axis=1)\n",
        "mapped_labels = ['no result', 'India', 'England', 'New Zealand', 'Australia', 'Pakistan', 'South Africa', 'Sri Lanka', 'Bangladesh', 'Afghanistan', 'Netherlands']\n",
        "winners = [mapped_labels[label] for label in predicted_labels]"
      ]
    },
    {
      "cell_type": "code",
      "execution_count": 46,
      "metadata": {
        "colab": {
          "base_uri": "https://localhost:8080/"
        },
        "id": "qwL-W4hl9wN_",
        "outputId": "f82c05cd-cad0-4e5c-df02-9b81dbd26cef"
      },
      "outputs": [
        {
          "data": {
            "text/plain": [
              "['England',\n",
              " 'India',\n",
              " 'Australia',\n",
              " 'New Zealand',\n",
              " 'New Zealand',\n",
              " 'South Africa',\n",
              " 'India',\n",
              " 'New Zealand',\n",
              " 'Australia',\n",
              " 'Bangladesh',\n",
              " 'New Zealand',\n",
              " 'New Zealand',\n",
              " 'New Zealand',\n",
              " 'Bangladesh',\n",
              " 'South Africa',\n",
              " 'New Zealand',\n",
              " 'New Zealand',\n",
              " 'Australia',\n",
              " 'Bangladesh',\n",
              " 'India',\n",
              " 'New Zealand',\n",
              " 'India',\n",
              " 'New Zealand',\n",
              " 'Australia',\n",
              " 'Australia',\n",
              " 'Australia',\n",
              " 'New Zealand',\n",
              " 'New Zealand',\n",
              " 'South Africa',\n",
              " 'New Zealand',\n",
              " 'New Zealand',\n",
              " 'Australia',\n",
              " 'England',\n",
              " 'England',\n",
              " 'New Zealand',\n",
              " 'Australia',\n",
              " 'Pakistan',\n",
              " 'South Africa',\n",
              " 'South Africa',\n",
              " 'India',\n",
              " 'New Zealand',\n",
              " 'Australia',\n",
              " 'Pakistan',\n",
              " 'England',\n",
              " 'India']"
            ]
          },
          "execution_count": 46,
          "metadata": {},
          "output_type": "execute_result"
        }
      ],
      "source": [
        "winners"
      ]
    },
    {
      "cell_type": "markdown",
      "metadata": {
        "id": "IYfoD1oKFzUV"
      },
      "source": [
        "## **Semi-finalists and finalists prediction**"
      ]
    },
    {
      "cell_type": "code",
      "execution_count": 47,
      "metadata": {
        "colab": {
          "base_uri": "https://localhost:8080/"
        },
        "id": "NqiVsgbc_UFO",
        "outputId": "3e23168c-49f2-48ae-b319-5b4a5a59980c"
      },
      "outputs": [
        {
          "data": {
            "text/plain": [
              "{'New Zealand': 16,\n",
              " 'Australia': 9,\n",
              " 'India': 6,\n",
              " 'South Africa': 5,\n",
              " 'England': 4,\n",
              " 'Bangladesh': 3,\n",
              " 'Pakistan': 2}"
            ]
          },
          "execution_count": 47,
          "metadata": {},
          "output_type": "execute_result"
        }
      ],
      "source": [
        "from collections import Counter\n",
        "\n",
        "def count_appearances(lst):\n",
        "    element_counts = Counter(lst)\n",
        "    sorted_counts = sorted(element_counts.items(), key=lambda x: x[1], reverse=True)\n",
        "    result_dict = dict(sorted_counts)\n",
        "    return result_dict\n",
        "\n",
        "leaderboard = count_appearances(winners)\n",
        "leaderboard\n"
      ]
    },
    {
      "cell_type": "code",
      "execution_count": null,
      "metadata": {},
      "outputs": [],
      "source": []
    },
    {
      "cell_type": "code",
      "execution_count": 48,
      "metadata": {
        "colab": {
          "base_uri": "https://localhost:8080/",
          "height": 112
        },
        "id": "gTShOjQcBM2-",
        "outputId": "6aefb720-3bf4-4507-ec94-3367f021ce96"
      },
      "outputs": [
        {
          "data": {
            "text/html": [
              "<div>\n",
              "<style scoped>\n",
              "    .dataframe tbody tr th:only-of-type {\n",
              "        vertical-align: middle;\n",
              "    }\n",
              "\n",
              "    .dataframe tbody tr th {\n",
              "        vertical-align: top;\n",
              "    }\n",
              "\n",
              "    .dataframe thead th {\n",
              "        text-align: right;\n",
              "    }\n",
              "</style>\n",
              "<table border=\"1\" class=\"dataframe\">\n",
              "  <thead>\n",
              "    <tr style=\"text-align: right;\">\n",
              "      <th></th>\n",
              "      <th>Match Date</th>\n",
              "      <th>Venue</th>\n",
              "      <th>Team 1</th>\n",
              "      <th>Team 2</th>\n",
              "    </tr>\n",
              "  </thead>\n",
              "  <tbody>\n",
              "    <tr>\n",
              "      <th>0</th>\n",
              "      <td>15-11-2023</td>\n",
              "      <td>Mumbai</td>\n",
              "      <td>New Zealand</td>\n",
              "      <td>South Africa</td>\n",
              "    </tr>\n",
              "    <tr>\n",
              "      <th>1</th>\n",
              "      <td>16-11-2023</td>\n",
              "      <td>Kolkata</td>\n",
              "      <td>Australia</td>\n",
              "      <td>India</td>\n",
              "    </tr>\n",
              "  </tbody>\n",
              "</table>\n",
              "</div>"
            ],
            "text/plain": [
              "   Match Date    Venue       Team 1        Team 2\n",
              "0  15-11-2023   Mumbai  New Zealand  South Africa\n",
              "1  16-11-2023  Kolkata    Australia         India"
            ]
          },
          "execution_count": 48,
          "metadata": {},
          "output_type": "execute_result"
        }
      ],
      "source": [
        "semi_finalists = list(leaderboard.keys())[:4]\n",
        "\n",
        "semi_finals = pd.DataFrame(columns=['Match Date', 'Venue', 'Team 1', 'Team 2'])\n",
        "data_to_append = {'Match Date': ['15-11-2023', '16-11-2023'],\n",
        "                  'Venue': ['Mumbai', 'Kolkata'],\n",
        "                  'Team 1': [semi_finalists[0], semi_finalists[1]],\n",
        "                  'Team 2': [semi_finalists[3], semi_finalists[2]]\n",
        "                  }\n",
        "semi_finals = pd.concat([semi_finals, pd.DataFrame(data_to_append)], ignore_index=True)\n",
        "semi_finals"
      ]
    },
    {
      "cell_type": "code",
      "execution_count": null,
      "metadata": {},
      "outputs": [],
      "source": []
    },
    {
      "cell_type": "code",
      "execution_count": 49,
      "metadata": {
        "colab": {
          "base_uri": "https://localhost:8080/"
        },
        "id": "ON_yTAIyFrHi",
        "outputId": "4aa2c9a2-91d9-42f8-e1a4-23338612988d"
      },
      "outputs": [
        {
          "name": "stdout",
          "output_type": "stream",
          "text": [
            "1/1 [==============================] - 0s 26ms/step\n"
          ]
        },
        {
          "data": {
            "text/plain": [
              "['New Zealand', 'Australia']"
            ]
          },
          "execution_count": 49,
          "metadata": {},
          "output_type": "execute_result"
        }
      ],
      "source": [
        "pred2 = pd.merge(semi_finals, teams_df, how='inner', left_on='Team 1', right_on='Team')\n",
        "pred2 = pd.merge(pred2, teams_df, how='inner', left_on='Team 2', right_on='Team', suffixes=('_team1', '_team2'))\n",
        "pred2.drop(['Team 1', 'Team 2', 'Team_team1', 'Team_team2', 'Match Date'], axis=1, inplace=True)\n",
        "\n",
        "pred2['Venue'] = le1.fit_transform(pred2['Venue'])\n",
        "pred2.rename(columns={\"Venue\": \"Ground\"})\n",
        "\n",
        "scaler = StandardScaler()\n",
        "X_scaled = scaler.fit_transform(pred2)\n",
        "\n",
        "predictions = model.predict(X_scaled)\n",
        "predicted_labels = np.argmax(predictions, axis=1)\n",
        "mapped_labels = ['no result', 'India', 'England', 'New Zealand', 'Australia', 'Pakistan', 'South Africa', 'Sri Lanka', 'Bangladesh', 'Afghanistan', 'Netherlands']\n",
        "finalists = [mapped_labels[label] for label in predicted_labels]\n",
        "\n",
        "finalists"
      ]
    },
    {
      "cell_type": "code",
      "execution_count": 50,
      "metadata": {},
      "outputs": [
        {
          "data": {
            "text/html": [
              "<div>\n",
              "<style scoped>\n",
              "    .dataframe tbody tr th:only-of-type {\n",
              "        vertical-align: middle;\n",
              "    }\n",
              "\n",
              "    .dataframe tbody tr th {\n",
              "        vertical-align: top;\n",
              "    }\n",
              "\n",
              "    .dataframe thead th {\n",
              "        text-align: right;\n",
              "    }\n",
              "</style>\n",
              "<table border=\"1\" class=\"dataframe\">\n",
              "  <thead>\n",
              "    <tr style=\"text-align: right;\">\n",
              "      <th></th>\n",
              "      <th>Venue</th>\n",
              "      <th>Appearances_team1</th>\n",
              "      <th>Titles_team1</th>\n",
              "      <th>Finals_team1</th>\n",
              "      <th>Semi Finals_team1</th>\n",
              "      <th>Ranking _team1</th>\n",
              "      <th>Points_team1</th>\n",
              "      <th>Appearances_team2</th>\n",
              "      <th>Titles_team2</th>\n",
              "      <th>Finals_team2</th>\n",
              "      <th>Semi Finals_team2</th>\n",
              "      <th>Ranking _team2</th>\n",
              "      <th>Points_team2</th>\n",
              "    </tr>\n",
              "  </thead>\n",
              "  <tbody>\n",
              "    <tr>\n",
              "      <th>0</th>\n",
              "      <td>1</td>\n",
              "      <td>12</td>\n",
              "      <td>0</td>\n",
              "      <td>2</td>\n",
              "      <td>8</td>\n",
              "      <td>3</td>\n",
              "      <td>255</td>\n",
              "      <td>8</td>\n",
              "      <td>0</td>\n",
              "      <td>0</td>\n",
              "      <td>4</td>\n",
              "      <td>6</td>\n",
              "      <td>248</td>\n",
              "    </tr>\n",
              "    <tr>\n",
              "      <th>1</th>\n",
              "      <td>0</td>\n",
              "      <td>12</td>\n",
              "      <td>5</td>\n",
              "      <td>7</td>\n",
              "      <td>8</td>\n",
              "      <td>4</td>\n",
              "      <td>252</td>\n",
              "      <td>12</td>\n",
              "      <td>2</td>\n",
              "      <td>3</td>\n",
              "      <td>7</td>\n",
              "      <td>1</td>\n",
              "      <td>265</td>\n",
              "    </tr>\n",
              "  </tbody>\n",
              "</table>\n",
              "</div>"
            ],
            "text/plain": [
              "   Venue  Appearances_team1  Titles_team1  Finals_team1  Semi Finals_team1  \\\n",
              "0      1                 12             0             2                  8   \n",
              "1      0                 12             5             7                  8   \n",
              "\n",
              "   Ranking _team1  Points_team1  Appearances_team2  Titles_team2  \\\n",
              "0               3           255                  8             0   \n",
              "1               4           252                 12             2   \n",
              "\n",
              "   Finals_team2  Semi Finals_team2  Ranking _team2  Points_team2  \n",
              "0             0                  4               6           248  \n",
              "1             3                  7               1           265  "
            ]
          },
          "execution_count": 50,
          "metadata": {},
          "output_type": "execute_result"
        }
      ],
      "source": [
        "pred2"
      ]
    },
    {
      "cell_type": "code",
      "execution_count": 51,
      "metadata": {},
      "outputs": [
        {
          "data": {
            "text/plain": [
              "(2, 13)"
            ]
          },
          "execution_count": 51,
          "metadata": {},
          "output_type": "execute_result"
        }
      ],
      "source": [
        "pred2.shape"
      ]
    },
    {
      "cell_type": "markdown",
      "metadata": {
        "id": "1X7LnwfXKiYR"
      },
      "source": [
        "## **Winner prediction**"
      ]
    },
    {
      "cell_type": "code",
      "execution_count": 52,
      "metadata": {
        "colab": {
          "base_uri": "https://localhost:8080/",
          "height": 81
        },
        "id": "W9-D4KD1HEpP",
        "outputId": "08e5435c-27b8-4f5d-9558-ff2b6bec88ad"
      },
      "outputs": [
        {
          "data": {
            "text/html": [
              "<div>\n",
              "<style scoped>\n",
              "    .dataframe tbody tr th:only-of-type {\n",
              "        vertical-align: middle;\n",
              "    }\n",
              "\n",
              "    .dataframe tbody tr th {\n",
              "        vertical-align: top;\n",
              "    }\n",
              "\n",
              "    .dataframe thead th {\n",
              "        text-align: right;\n",
              "    }\n",
              "</style>\n",
              "<table border=\"1\" class=\"dataframe\">\n",
              "  <thead>\n",
              "    <tr style=\"text-align: right;\">\n",
              "      <th></th>\n",
              "      <th>Match Date</th>\n",
              "      <th>Venue</th>\n",
              "      <th>Team 1</th>\n",
              "      <th>Team 2</th>\n",
              "    </tr>\n",
              "  </thead>\n",
              "  <tbody>\n",
              "    <tr>\n",
              "      <th>0</th>\n",
              "      <td>19-11-2023</td>\n",
              "      <td>Ahmedabad</td>\n",
              "      <td>New Zealand</td>\n",
              "      <td>Australia</td>\n",
              "    </tr>\n",
              "  </tbody>\n",
              "</table>\n",
              "</div>"
            ],
            "text/plain": [
              "   Match Date      Venue       Team 1     Team 2\n",
              "0  19-11-2023  Ahmedabad  New Zealand  Australia"
            ]
          },
          "execution_count": 52,
          "metadata": {},
          "output_type": "execute_result"
        }
      ],
      "source": [
        "finals = pd.DataFrame(columns=['Match Date', 'Venue', 'Team 1', 'Team 2'])\n",
        "data_to_append = {'Match Date': ['19-11-2023'],\n",
        "                  'Venue': ['Ahmedabad'],\n",
        "                  'Team 1': [finalists[0]],\n",
        "                  'Team 2': [finalists[1]]\n",
        "                  }\n",
        "finals = pd.concat([finals, pd.DataFrame(data_to_append)], ignore_index=True)\n",
        "finals"
      ]
    },
    {
      "cell_type": "code",
      "execution_count": 53,
      "metadata": {
        "colab": {
          "base_uri": "https://localhost:8080/"
        },
        "id": "NnacyQsFIfLQ",
        "outputId": "59704448-d3da-442a-da45-0a3457d04e09"
      },
      "outputs": [
        {
          "name": "stdout",
          "output_type": "stream",
          "text": [
            "1/1 [==============================] - 0s 26ms/step\n"
          ]
        },
        {
          "data": {
            "text/plain": [
              "['New Zealand']"
            ]
          },
          "execution_count": 53,
          "metadata": {},
          "output_type": "execute_result"
        }
      ],
      "source": [
        "pred3 = pd.merge(finals, teams_df, how='inner', left_on='Team 1', right_on='Team')\n",
        "pred3 = pd.merge(pred3, teams_df, how='inner', left_on='Team 2', right_on='Team', suffixes=('_team1', '_team2'))\n",
        "pred3.drop(['Team 1', 'Team 2', 'Team_team1', 'Team_team2', 'Match Date'], axis=1, inplace=True)\n",
        "\n",
        "pred3['Venue'] = le1.fit_transform(pred3['Venue'])\n",
        "pred3.rename(columns={\"Venue\": \"Ground\"})\n",
        "\n",
        "scaler = StandardScaler()\n",
        "X_scaled = scaler.fit_transform(pred3)\n",
        "\n",
        "predictions = model.predict(X_scaled)\n",
        "predicted_labels = np.argmax(predictions, axis=1)\n",
        "mapped_labels = ['no result', 'India', 'England', 'New Zealand', 'Australia', 'Pakistan', 'South Africa', 'Sri Lanka', 'Bangladesh', 'Afghanistan', 'Netherlands']\n",
        "winner = [mapped_labels[label] for label in predicted_labels]\n",
        "\n",
        "winner"
      ]
    },
    {
      "cell_type": "code",
      "execution_count": 54,
      "metadata": {},
      "outputs": [],
      "source": [
        "import pickle\n",
        "precomputed_output = winner\n",
        "\n",
        "def store_output(output):\n",
        "    with open('output.pkl', 'wb') as output_file:\n",
        "        pickle.dump(output, output_file)\n",
        "\n",
        "store_output(precomputed_output)"
      ]
    },
    {
      "cell_type": "code",
      "execution_count": 55,
      "metadata": {},
      "outputs": [],
      "source": [
        "import pickle\n",
        "precomputed_output1 = semi_finals\n",
        "\n",
        "def store_output(output):\n",
        "    with open('output1.pkl', 'wb') as output_file:\n",
        "        pickle.dump(output, output_file)\n",
        "        \n",
        "store_output(precomputed_output1)"
      ]
    },
    {
      "cell_type": "code",
      "execution_count": 56,
      "metadata": {},
      "outputs": [],
      "source": [
        "import pickle\n",
        "precomputed_output3 = finalists\n",
        "\n",
        "def store_output(output):\n",
        "    with open('output2.pkl', 'wb') as output_file:\n",
        "        pickle.dump(output, output_file)\n",
        "\n",
        "store_output(precomputed_output3)"
      ]
    }
  ],
  "metadata": {
    "colab": {
      "provenance": []
    },
    "kernelspec": {
      "display_name": "Python 3",
      "name": "python3"
    },
    "language_info": {
      "codemirror_mode": {
        "name": "ipython",
        "version": 3
      },
      "file_extension": ".py",
      "mimetype": "text/x-python",
      "name": "python",
      "nbconvert_exporter": "python",
      "pygments_lexer": "ipython3",
      "version": "3.11.1"
    }
  },
  "nbformat": 4,
  "nbformat_minor": 0
}
