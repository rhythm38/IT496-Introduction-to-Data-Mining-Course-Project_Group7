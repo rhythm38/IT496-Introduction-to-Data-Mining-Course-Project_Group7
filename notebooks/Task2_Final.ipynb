{
  "cells": [
    {
      "cell_type": "markdown",
      "metadata": {
        "id": "BdZZ3AfTDV-C"
      },
      "source": [
        "## **Imports**"
      ]
    },
    {
      "cell_type": "code",
      "execution_count": 39,
      "metadata": {
        "id": "NLkS9cjlocNX"
      },
      "outputs": [],
      "source": [
        "import warnings\n",
        "warnings.filterwarnings('ignore')"
      ]
    },
    {
      "cell_type": "code",
      "execution_count": 40,
      "metadata": {
        "id": "goIV79YgmbjY"
      },
      "outputs": [],
      "source": [
        "import numpy as np\n",
        "import pandas as pd\n",
        "from sklearn.preprocessing import StandardScaler, LabelEncoder\n",
        "from sklearn.model_selection import train_test_split\n",
        "from sklearn.preprocessing import StandardScaler\n",
        "from tensorflow import keras\n",
        "from keras.models import Sequential\n",
        "from keras.layers import Dense"
      ]
    },
    {
      "cell_type": "markdown",
      "metadata": {
        "id": "poUqG14gDcae"
      },
      "source": [
        "## **Batsmen in the playing 11**"
      ]
    },
    {
      "cell_type": "markdown",
      "metadata": {
        "id": "YvB-ajaJDep9"
      },
      "source": [
        "First, we will predict the batsmen that will be included in the playing 11 of the finalist."
      ]
    },
    {
      "cell_type": "code",
      "execution_count": 41,
      "metadata": {
        "colab": {
          "base_uri": "https://localhost:8080/",
          "height": 206
        },
        "id": "XFURCAgzmj0-",
        "outputId": "c6b736f6-2b37-40bd-eb37-f81bd2ecd4d7"
      },
      "outputs": [
        {
          "data": {
            "text/html": [
              "<div>\n",
              "<style scoped>\n",
              "    .dataframe tbody tr th:only-of-type {\n",
              "        vertical-align: middle;\n",
              "    }\n",
              "\n",
              "    .dataframe tbody tr th {\n",
              "        vertical-align: top;\n",
              "    }\n",
              "\n",
              "    .dataframe thead th {\n",
              "        text-align: right;\n",
              "    }\n",
              "</style>\n",
              "<table border=\"1\" class=\"dataframe\">\n",
              "  <thead>\n",
              "    <tr style=\"text-align: right;\">\n",
              "      <th></th>\n",
              "      <th>Unnamed: 0</th>\n",
              "      <th>Player</th>\n",
              "      <th>Mat</th>\n",
              "      <th>Inns</th>\n",
              "      <th>NO</th>\n",
              "      <th>Runs</th>\n",
              "      <th>HS</th>\n",
              "      <th>Ave</th>\n",
              "      <th>BF</th>\n",
              "      <th>SR</th>\n",
              "      <th>100</th>\n",
              "      <th>50</th>\n",
              "      <th>0</th>\n",
              "      <th>4s</th>\n",
              "      <th>6s</th>\n",
              "    </tr>\n",
              "  </thead>\n",
              "  <tbody>\n",
              "    <tr>\n",
              "      <th>0</th>\n",
              "      <td>0</td>\n",
              "      <td>GJ Maxwell (AUS)</td>\n",
              "      <td>7</td>\n",
              "      <td>7</td>\n",
              "      <td>2</td>\n",
              "      <td>397</td>\n",
              "      <td>201</td>\n",
              "      <td>79.4</td>\n",
              "      <td>260</td>\n",
              "      <td>152.69</td>\n",
              "      <td>2</td>\n",
              "      <td>0</td>\n",
              "      <td>1</td>\n",
              "      <td>40</td>\n",
              "      <td>22</td>\n",
              "    </tr>\n",
              "    <tr>\n",
              "      <th>1</th>\n",
              "      <td>1</td>\n",
              "      <td>RG Sharma (IND)</td>\n",
              "      <td>8</td>\n",
              "      <td>8</td>\n",
              "      <td>0</td>\n",
              "      <td>442</td>\n",
              "      <td>131</td>\n",
              "      <td>55.25</td>\n",
              "      <td>360</td>\n",
              "      <td>122.77</td>\n",
              "      <td>1</td>\n",
              "      <td>2</td>\n",
              "      <td>1</td>\n",
              "      <td>50</td>\n",
              "      <td>22</td>\n",
              "    </tr>\n",
              "    <tr>\n",
              "      <th>2</th>\n",
              "      <td>2</td>\n",
              "      <td>Q de Kock (SA)</td>\n",
              "      <td>9</td>\n",
              "      <td>9</td>\n",
              "      <td>0</td>\n",
              "      <td>591</td>\n",
              "      <td>174</td>\n",
              "      <td>65.66</td>\n",
              "      <td>541</td>\n",
              "      <td>109.24</td>\n",
              "      <td>4</td>\n",
              "      <td>0</td>\n",
              "      <td>0</td>\n",
              "      <td>57</td>\n",
              "      <td>21</td>\n",
              "    </tr>\n",
              "    <tr>\n",
              "      <th>3</th>\n",
              "      <td>3</td>\n",
              "      <td>DA Warner (AUS)</td>\n",
              "      <td>9</td>\n",
              "      <td>8</td>\n",
              "      <td>0</td>\n",
              "      <td>446</td>\n",
              "      <td>163</td>\n",
              "      <td>55.75</td>\n",
              "      <td>412</td>\n",
              "      <td>108.25</td>\n",
              "      <td>2</td>\n",
              "      <td>1</td>\n",
              "      <td>0</td>\n",
              "      <td>42</td>\n",
              "      <td>20</td>\n",
              "    </tr>\n",
              "    <tr>\n",
              "      <th>4</th>\n",
              "      <td>4</td>\n",
              "      <td>Fakhar Zaman (PAK)</td>\n",
              "      <td>4</td>\n",
              "      <td>3</td>\n",
              "      <td>1</td>\n",
              "      <td>219</td>\n",
              "      <td>126</td>\n",
              "      <td>109.5</td>\n",
              "      <td>170</td>\n",
              "      <td>128.82</td>\n",
              "      <td>1</td>\n",
              "      <td>1</td>\n",
              "      <td>0</td>\n",
              "      <td>14</td>\n",
              "      <td>18</td>\n",
              "    </tr>\n",
              "  </tbody>\n",
              "</table>\n",
              "</div>"
            ],
            "text/plain": [
              "   Unnamed: 0              Player  Mat  Inns  NO  Runs   HS    Ave   BF  \\\n",
              "0           0    GJ Maxwell (AUS)    7     7   2   397  201   79.4  260   \n",
              "1           1     RG Sharma (IND)    8     8   0   442  131  55.25  360   \n",
              "2           2      Q de Kock (SA)    9     9   0   591  174  65.66  541   \n",
              "3           3     DA Warner (AUS)    9     8   0   446  163  55.75  412   \n",
              "4           4  Fakhar Zaman (PAK)    4     3   1   219  126  109.5  170   \n",
              "\n",
              "       SR  100  50  0  4s  6s  \n",
              "0  152.69    2   0  1  40  22  \n",
              "1  122.77    1   2  1  50  22  \n",
              "2  109.24    4   0  0  57  21  \n",
              "3  108.25    2   1  0  42  20  \n",
              "4  128.82    1   1  0  14  18  "
            ]
          },
          "execution_count": 41,
          "metadata": {},
          "output_type": "execute_result"
        }
      ],
      "source": [
        "df = pd.read_csv('Batters2023.csv')\n",
        "df.head()"
      ]
    },
    {
      "cell_type": "markdown",
      "metadata": {
        "id": "9e07McPmDyQt"
      },
      "source": [
        "We will separate the team name from the column and create a new column for that."
      ]
    },
    {
      "cell_type": "code",
      "execution_count": 42,
      "metadata": {
        "colab": {
          "base_uri": "https://localhost:8080/",
          "height": 206
        },
        "id": "2BhxpjG5nOVk",
        "outputId": "33d55d58-8a3b-4a43-8084-eaaeb05b3c90"
      },
      "outputs": [
        {
          "data": {
            "text/html": [
              "<div>\n",
              "<style scoped>\n",
              "    .dataframe tbody tr th:only-of-type {\n",
              "        vertical-align: middle;\n",
              "    }\n",
              "\n",
              "    .dataframe tbody tr th {\n",
              "        vertical-align: top;\n",
              "    }\n",
              "\n",
              "    .dataframe thead th {\n",
              "        text-align: right;\n",
              "    }\n",
              "</style>\n",
              "<table border=\"1\" class=\"dataframe\">\n",
              "  <thead>\n",
              "    <tr style=\"text-align: right;\">\n",
              "      <th></th>\n",
              "      <th>Unnamed: 0</th>\n",
              "      <th>Player</th>\n",
              "      <th>Mat</th>\n",
              "      <th>Inns</th>\n",
              "      <th>NO</th>\n",
              "      <th>Runs</th>\n",
              "      <th>HS</th>\n",
              "      <th>Ave</th>\n",
              "      <th>BF</th>\n",
              "      <th>SR</th>\n",
              "      <th>100</th>\n",
              "      <th>50</th>\n",
              "      <th>0</th>\n",
              "      <th>4s</th>\n",
              "      <th>6s</th>\n",
              "      <th>Team</th>\n",
              "    </tr>\n",
              "  </thead>\n",
              "  <tbody>\n",
              "    <tr>\n",
              "      <th>0</th>\n",
              "      <td>0</td>\n",
              "      <td>GJ Maxwell</td>\n",
              "      <td>7</td>\n",
              "      <td>7</td>\n",
              "      <td>2</td>\n",
              "      <td>397</td>\n",
              "      <td>201</td>\n",
              "      <td>79.4</td>\n",
              "      <td>260</td>\n",
              "      <td>152.69</td>\n",
              "      <td>2</td>\n",
              "      <td>0</td>\n",
              "      <td>1</td>\n",
              "      <td>40</td>\n",
              "      <td>22</td>\n",
              "      <td>AUS</td>\n",
              "    </tr>\n",
              "    <tr>\n",
              "      <th>1</th>\n",
              "      <td>1</td>\n",
              "      <td>RG Sharma</td>\n",
              "      <td>8</td>\n",
              "      <td>8</td>\n",
              "      <td>0</td>\n",
              "      <td>442</td>\n",
              "      <td>131</td>\n",
              "      <td>55.25</td>\n",
              "      <td>360</td>\n",
              "      <td>122.77</td>\n",
              "      <td>1</td>\n",
              "      <td>2</td>\n",
              "      <td>1</td>\n",
              "      <td>50</td>\n",
              "      <td>22</td>\n",
              "      <td>IND</td>\n",
              "    </tr>\n",
              "    <tr>\n",
              "      <th>2</th>\n",
              "      <td>2</td>\n",
              "      <td>Q de Kock</td>\n",
              "      <td>9</td>\n",
              "      <td>9</td>\n",
              "      <td>0</td>\n",
              "      <td>591</td>\n",
              "      <td>174</td>\n",
              "      <td>65.66</td>\n",
              "      <td>541</td>\n",
              "      <td>109.24</td>\n",
              "      <td>4</td>\n",
              "      <td>0</td>\n",
              "      <td>0</td>\n",
              "      <td>57</td>\n",
              "      <td>21</td>\n",
              "      <td>SA</td>\n",
              "    </tr>\n",
              "    <tr>\n",
              "      <th>3</th>\n",
              "      <td>3</td>\n",
              "      <td>DA Warner</td>\n",
              "      <td>9</td>\n",
              "      <td>8</td>\n",
              "      <td>0</td>\n",
              "      <td>446</td>\n",
              "      <td>163</td>\n",
              "      <td>55.75</td>\n",
              "      <td>412</td>\n",
              "      <td>108.25</td>\n",
              "      <td>2</td>\n",
              "      <td>1</td>\n",
              "      <td>0</td>\n",
              "      <td>42</td>\n",
              "      <td>20</td>\n",
              "      <td>AUS</td>\n",
              "    </tr>\n",
              "    <tr>\n",
              "      <th>4</th>\n",
              "      <td>4</td>\n",
              "      <td>Fakhar Zaman</td>\n",
              "      <td>4</td>\n",
              "      <td>3</td>\n",
              "      <td>1</td>\n",
              "      <td>219</td>\n",
              "      <td>126</td>\n",
              "      <td>109.5</td>\n",
              "      <td>170</td>\n",
              "      <td>128.82</td>\n",
              "      <td>1</td>\n",
              "      <td>1</td>\n",
              "      <td>0</td>\n",
              "      <td>14</td>\n",
              "      <td>18</td>\n",
              "      <td>PAK</td>\n",
              "    </tr>\n",
              "  </tbody>\n",
              "</table>\n",
              "</div>"
            ],
            "text/plain": [
              "   Unnamed: 0        Player  Mat  Inns  NO  Runs   HS    Ave   BF      SR  \\\n",
              "0           0    GJ Maxwell    7     7   2   397  201   79.4  260  152.69   \n",
              "1           1     RG Sharma    8     8   0   442  131  55.25  360  122.77   \n",
              "2           2     Q de Kock    9     9   0   591  174  65.66  541  109.24   \n",
              "3           3     DA Warner    9     8   0   446  163  55.75  412  108.25   \n",
              "4           4  Fakhar Zaman    4     3   1   219  126  109.5  170  128.82   \n",
              "\n",
              "   100  50  0  4s  6s Team  \n",
              "0    2   0  1  40  22  AUS  \n",
              "1    1   2  1  50  22  IND  \n",
              "2    4   0  0  57  21   SA  \n",
              "3    2   1  0  42  20  AUS  \n",
              "4    1   1  0  14  18  PAK  "
            ]
          },
          "execution_count": 42,
          "metadata": {},
          "output_type": "execute_result"
        }
      ],
      "source": [
        "df['Team'] = df['Player'].str.extract(r'\\((.*?)\\)')\n",
        "df['Player'] = df['Player'].str.replace(r' \\((.*?)\\)', '')\n",
        "df.head()"
      ]
    },
    {
      "cell_type": "code",
      "execution_count": 43,
      "metadata": {
        "colab": {
          "base_uri": "https://localhost:8080/"
        },
        "id": "ltcaq74ErI5r",
        "outputId": "ad8791f4-38f9-4cb5-fc00-9bc2a6948c54"
      },
      "outputs": [
        {
          "data": {
            "text/plain": [
              "Unnamed: 0      int64\n",
              "Player         object\n",
              "Mat             int64\n",
              "Inns            int64\n",
              "NO              int64\n",
              "Runs            int64\n",
              "HS              int64\n",
              "Ave            object\n",
              "BF              int64\n",
              "SR            float64\n",
              "100             int64\n",
              "50              int64\n",
              "0               int64\n",
              "4s              int64\n",
              "6s              int64\n",
              "Team           object\n",
              "dtype: object"
            ]
          },
          "execution_count": 43,
          "metadata": {},
          "output_type": "execute_result"
        }
      ],
      "source": [
        "df.dtypes"
      ]
    },
    {
      "cell_type": "markdown",
      "metadata": {
        "id": "5eWeDMDDD87o"
      },
      "source": [
        "Since average is a number, we will replace the non-numerical values in the dataset with 0 and convert it to float."
      ]
    },
    {
      "cell_type": "code",
      "execution_count": 44,
      "metadata": {
        "id": "hOcWEGuTrkGs"
      },
      "outputs": [],
      "source": [
        "df['Ave'] = df['Ave'].replace('-', '0')\n",
        "df['Ave'] = df['Ave'].astype(float)"
      ]
    },
    {
      "cell_type": "markdown",
      "metadata": {
        "id": "9uFtbi-sEJaC"
      },
      "source": [
        "We will perform label encoding on Player and Team columns."
      ]
    },
    {
      "cell_type": "code",
      "execution_count": 45,
      "metadata": {
        "colab": {
          "base_uri": "https://localhost:8080/",
          "height": 206
        },
        "id": "4MvgoSq3okwJ",
        "outputId": "917cac67-1589-4923-f0c7-00371cd1d3b0"
      },
      "outputs": [
        {
          "data": {
            "text/html": [
              "<div>\n",
              "<style scoped>\n",
              "    .dataframe tbody tr th:only-of-type {\n",
              "        vertical-align: middle;\n",
              "    }\n",
              "\n",
              "    .dataframe tbody tr th {\n",
              "        vertical-align: top;\n",
              "    }\n",
              "\n",
              "    .dataframe thead th {\n",
              "        text-align: right;\n",
              "    }\n",
              "</style>\n",
              "<table border=\"1\" class=\"dataframe\">\n",
              "  <thead>\n",
              "    <tr style=\"text-align: right;\">\n",
              "      <th></th>\n",
              "      <th>Unnamed: 0</th>\n",
              "      <th>Player</th>\n",
              "      <th>Mat</th>\n",
              "      <th>Inns</th>\n",
              "      <th>NO</th>\n",
              "      <th>Runs</th>\n",
              "      <th>HS</th>\n",
              "      <th>Ave</th>\n",
              "      <th>BF</th>\n",
              "      <th>SR</th>\n",
              "      <th>100</th>\n",
              "      <th>50</th>\n",
              "      <th>0</th>\n",
              "      <th>4s</th>\n",
              "      <th>6s</th>\n",
              "      <th>Team</th>\n",
              "    </tr>\n",
              "  </thead>\n",
              "  <tbody>\n",
              "    <tr>\n",
              "      <th>0</th>\n",
              "      <td>0</td>\n",
              "      <td>24</td>\n",
              "      <td>7</td>\n",
              "      <td>7</td>\n",
              "      <td>2</td>\n",
              "      <td>397</td>\n",
              "      <td>201</td>\n",
              "      <td>79.40</td>\n",
              "      <td>260</td>\n",
              "      <td>152.69</td>\n",
              "      <td>2</td>\n",
              "      <td>0</td>\n",
              "      <td>1</td>\n",
              "      <td>40</td>\n",
              "      <td>22</td>\n",
              "      <td>1</td>\n",
              "    </tr>\n",
              "    <tr>\n",
              "      <th>1</th>\n",
              "      <td>1</td>\n",
              "      <td>67</td>\n",
              "      <td>8</td>\n",
              "      <td>8</td>\n",
              "      <td>0</td>\n",
              "      <td>442</td>\n",
              "      <td>131</td>\n",
              "      <td>55.25</td>\n",
              "      <td>360</td>\n",
              "      <td>122.77</td>\n",
              "      <td>1</td>\n",
              "      <td>2</td>\n",
              "      <td>1</td>\n",
              "      <td>50</td>\n",
              "      <td>22</td>\n",
              "      <td>4</td>\n",
              "    </tr>\n",
              "    <tr>\n",
              "      <th>2</th>\n",
              "      <td>2</td>\n",
              "      <td>64</td>\n",
              "      <td>9</td>\n",
              "      <td>9</td>\n",
              "      <td>0</td>\n",
              "      <td>591</td>\n",
              "      <td>174</td>\n",
              "      <td>65.66</td>\n",
              "      <td>541</td>\n",
              "      <td>109.24</td>\n",
              "      <td>4</td>\n",
              "      <td>0</td>\n",
              "      <td>0</td>\n",
              "      <td>57</td>\n",
              "      <td>21</td>\n",
              "      <td>8</td>\n",
              "    </tr>\n",
              "    <tr>\n",
              "      <th>3</th>\n",
              "      <td>3</td>\n",
              "      <td>15</td>\n",
              "      <td>9</td>\n",
              "      <td>8</td>\n",
              "      <td>0</td>\n",
              "      <td>446</td>\n",
              "      <td>163</td>\n",
              "      <td>55.75</td>\n",
              "      <td>412</td>\n",
              "      <td>108.25</td>\n",
              "      <td>2</td>\n",
              "      <td>1</td>\n",
              "      <td>0</td>\n",
              "      <td>42</td>\n",
              "      <td>20</td>\n",
              "      <td>1</td>\n",
              "    </tr>\n",
              "    <tr>\n",
              "      <th>4</th>\n",
              "      <td>4</td>\n",
              "      <td>21</td>\n",
              "      <td>4</td>\n",
              "      <td>3</td>\n",
              "      <td>1</td>\n",
              "      <td>219</td>\n",
              "      <td>126</td>\n",
              "      <td>109.50</td>\n",
              "      <td>170</td>\n",
              "      <td>128.82</td>\n",
              "      <td>1</td>\n",
              "      <td>1</td>\n",
              "      <td>0</td>\n",
              "      <td>14</td>\n",
              "      <td>18</td>\n",
              "      <td>7</td>\n",
              "    </tr>\n",
              "  </tbody>\n",
              "</table>\n",
              "</div>"
            ],
            "text/plain": [
              "   Unnamed: 0  Player  Mat  Inns  NO  Runs   HS     Ave   BF      SR  100  50  \\\n",
              "0           0      24    7     7   2   397  201   79.40  260  152.69    2   0   \n",
              "1           1      67    8     8   0   442  131   55.25  360  122.77    1   2   \n",
              "2           2      64    9     9   0   591  174   65.66  541  109.24    4   0   \n",
              "3           3      15    9     8   0   446  163   55.75  412  108.25    2   1   \n",
              "4           4      21    4     3   1   219  126  109.50  170  128.82    1   1   \n",
              "\n",
              "   0  4s  6s  Team  \n",
              "0  1  40  22     1  \n",
              "1  1  50  22     4  \n",
              "2  0  57  21     8  \n",
              "3  0  42  20     1  \n",
              "4  0  14  18     7  "
            ]
          },
          "execution_count": 45,
          "metadata": {},
          "output_type": "execute_result"
        }
      ],
      "source": [
        "df_encoded = df.copy()\n",
        "le1_player = LabelEncoder()\n",
        "le1_team = LabelEncoder()\n",
        "df_encoded['Player'] = le1_player.fit_transform(df_encoded['Player'])\n",
        "df_encoded['Team'] = le1_team.fit_transform(df_encoded['Team'])\n",
        "df_encoded.head()"
      ]
    },
    {
      "cell_type": "markdown",
      "metadata": {
        "id": "3cAfRIXPEVgg"
      },
      "source": [
        "Since the batsmen who have played the most number of matches are most probable to play the final, we have used the number of matches as the target variable for our model. Also, since it is non-categorical, we will perform regression on the dataset."
      ]
    },
    {
      "cell_type": "code",
      "execution_count": 46,
      "metadata": {
        "colab": {
          "base_uri": "https://localhost:8080/"
        },
        "id": "PHdhlW01pNiC",
        "outputId": "0392789f-4d3f-450f-d98f-12bd00c5ee41"
      },
      "outputs": [
        {
          "name": "stdout",
          "output_type": "stream",
          "text": [
            "1/1 [==============================] - 0s 25ms/step - loss: 0.1291 - mae: 0.2557\n",
            "Model Mean Absolute Error: 0.25572216510772705\n"
          ]
        }
      ],
      "source": [
        "scaler = StandardScaler()\n",
        "X = scaler.fit_transform(df_encoded.drop(columns=['Mat']))\n",
        "y = pd.get_dummies(df_encoded['Mat'])\n",
        "\n",
        "X_train, X_test, y_train, y_test = train_test_split(X, y, test_size=0.2, random_state=42)\n",
        "\n",
        "model = Sequential()\n",
        "model.add(Dense(64, input_dim=X.shape[1], activation='relu'))\n",
        "model.add(Dense(32, activation='relu'))\n",
        "model.add(Dense(1, activation='linear'))\n",
        "\n",
        "model.compile(loss='mean_squared_error', optimizer='adam', metrics=['mae'])\n",
        "\n",
        "model.fit(X_train, y_train, verbose=False, epochs=50, batch_size=32, validation_data=(X_test, y_test))\n",
        "\n",
        "loss, mae = model.evaluate(X_test, y_test)\n",
        "print(f\"Model Mean Absolute Error: {mae}\")"
      ]
    },
    {
      "cell_type": "markdown",
      "metadata": {
        "id": "jC2vV8T1GTQm"
      },
      "source": [
        "### The input teams i.e. the finalists have been predicted in task 3."
      ]
    },
    {
      "cell_type": "code",
      "execution_count": 47,
      "metadata": {
        "id": "tQRjL2YbA3l2"
      },
      "outputs": [],
      "source": [
        "input_team = 'IND'"
      ]
    },
    {
      "cell_type": "markdown",
      "metadata": {
        "id": "BFm8ReljEqr3"
      },
      "source": [
        "We will predict the batsmen who are most probable to play the final by predicting the number of matches played and sorting the players of that team according to that."
      ]
    },
    {
      "cell_type": "code",
      "execution_count": 48,
      "metadata": {
        "colab": {
          "base_uri": "https://localhost:8080/"
        },
        "id": "3m-kKc16sznR",
        "outputId": "b6269875-a139-449e-8d1c-602e43189bee"
      },
      "outputs": [
        {
          "name": "stdout",
          "output_type": "stream",
          "text": [
            "WARNING:tensorflow:5 out of the last 11 calls to <function Model.make_predict_function.<locals>.predict_function at 0x0000020A61D922A0> triggered tf.function retracing. Tracing is expensive and the excessive number of tracings could be due to (1) creating @tf.function repeatedly in a loop, (2) passing tensors with different shapes, (3) passing Python objects instead of tensors. For (1), please define your @tf.function outside of the loop. For (2), @tf.function has reduce_retracing=True option that can avoid unnecessary retracing. For (3), please refer to https://www.tensorflow.org/guide/function#controlling_retracing and https://www.tensorflow.org/api_docs/python/tf/function for  more details.\n",
            "3/3 [==============================] - 0s 2ms/step\n",
            "Top 7 Batters for IND\n",
            "KL Rahul\n",
            "RA Jadeja\n",
            "SA Yadav\n",
            "RG Sharma\n",
            "Shubman Gill\n",
            "V Kohli\n",
            "SS Iyer\n"
          ]
        }
      ],
      "source": [
        "encoded_input_team = le1_team.transform([input_team])\n",
        "team_mask = df_encoded['Team'] == encoded_input_team[0]\n",
        "\n",
        "predicted_matches = model.predict(X)\n",
        "df_encoded['PredictedMatches'] = predicted_matches\n",
        "team_df = df_encoded[team_mask]\n",
        "\n",
        "top_batters = team_df.sort_values(by='PredictedMatches', ascending=False).head(7)\n",
        "top_batters['Player'] = le1_player.inverse_transform(top_batters['Player'])\n",
        "top_batters_list = top_batters['Player'].tolist()\n",
        "\n",
        "print(\"Top 7 Batters for\", input_team)\n",
        "for batter in top_batters_list:\n",
        "  print(batter)"
      ]
    },
    {
      "cell_type": "markdown",
      "metadata": {
        "id": "u4L01SLzFTHK"
      },
      "source": [
        "## **Bowlers in the playing 11**"
      ]
    },
    {
      "cell_type": "code",
      "execution_count": 49,
      "metadata": {
        "colab": {
          "base_uri": "https://localhost:8080/",
          "height": 206
        },
        "id": "4T9FNDnWuwye",
        "outputId": "c6f78d34-f652-4349-dc67-d1f225a15861"
      },
      "outputs": [
        {
          "data": {
            "text/html": [
              "<div>\n",
              "<style scoped>\n",
              "    .dataframe tbody tr th:only-of-type {\n",
              "        vertical-align: middle;\n",
              "    }\n",
              "\n",
              "    .dataframe tbody tr th {\n",
              "        vertical-align: top;\n",
              "    }\n",
              "\n",
              "    .dataframe thead th {\n",
              "        text-align: right;\n",
              "    }\n",
              "</style>\n",
              "<table border=\"1\" class=\"dataframe\">\n",
              "  <thead>\n",
              "    <tr style=\"text-align: right;\">\n",
              "      <th></th>\n",
              "      <th>Unnamed: 0</th>\n",
              "      <th>Player</th>\n",
              "      <th>Mat</th>\n",
              "      <th>Inns</th>\n",
              "      <th>Balls</th>\n",
              "      <th>Overs</th>\n",
              "      <th>Mdns</th>\n",
              "      <th>Runs</th>\n",
              "      <th>Wkts</th>\n",
              "      <th>BBI</th>\n",
              "      <th>Ave</th>\n",
              "      <th>Econ</th>\n",
              "      <th>SR</th>\n",
              "      <th>4</th>\n",
              "      <th>5</th>\n",
              "    </tr>\n",
              "  </thead>\n",
              "  <tbody>\n",
              "    <tr>\n",
              "      <th>0</th>\n",
              "      <td>0</td>\n",
              "      <td>A Zampa (AUS)</td>\n",
              "      <td>9</td>\n",
              "      <td>9</td>\n",
              "      <td>432</td>\n",
              "      <td>72.0</td>\n",
              "      <td>1</td>\n",
              "      <td>389</td>\n",
              "      <td>21</td>\n",
              "      <td>04-Aug</td>\n",
              "      <td>18.52</td>\n",
              "      <td>5.40</td>\n",
              "      <td>20.57</td>\n",
              "      <td>3</td>\n",
              "      <td>0</td>\n",
              "    </tr>\n",
              "    <tr>\n",
              "      <th>1</th>\n",
              "      <td>1</td>\n",
              "      <td>D Madushanka (SL)</td>\n",
              "      <td>9</td>\n",
              "      <td>9</td>\n",
              "      <td>470</td>\n",
              "      <td>78.2</td>\n",
              "      <td>4</td>\n",
              "      <td>525</td>\n",
              "      <td>21</td>\n",
              "      <td>May-80</td>\n",
              "      <td>25.00</td>\n",
              "      <td>6.70</td>\n",
              "      <td>22.38</td>\n",
              "      <td>1</td>\n",
              "      <td>1</td>\n",
              "    </tr>\n",
              "    <tr>\n",
              "      <th>2</th>\n",
              "      <td>2</td>\n",
              "      <td>G Coetzee (SA)</td>\n",
              "      <td>7</td>\n",
              "      <td>7</td>\n",
              "      <td>327</td>\n",
              "      <td>54.3</td>\n",
              "      <td>1</td>\n",
              "      <td>349</td>\n",
              "      <td>18</td>\n",
              "      <td>Apr-44</td>\n",
              "      <td>19.38</td>\n",
              "      <td>6.40</td>\n",
              "      <td>18.16</td>\n",
              "      <td>1</td>\n",
              "      <td>0</td>\n",
              "    </tr>\n",
              "    <tr>\n",
              "      <th>3</th>\n",
              "      <td>3</td>\n",
              "      <td>M Jansen (SA)</td>\n",
              "      <td>8</td>\n",
              "      <td>8</td>\n",
              "      <td>388</td>\n",
              "      <td>64.4</td>\n",
              "      <td>3</td>\n",
              "      <td>415</td>\n",
              "      <td>17</td>\n",
              "      <td>Mar-31</td>\n",
              "      <td>24.41</td>\n",
              "      <td>6.41</td>\n",
              "      <td>22.82</td>\n",
              "      <td>0</td>\n",
              "      <td>0</td>\n",
              "    </tr>\n",
              "    <tr>\n",
              "      <th>4</th>\n",
              "      <td>4</td>\n",
              "      <td>Mohammed Shami (IND)</td>\n",
              "      <td>4</td>\n",
              "      <td>4</td>\n",
              "      <td>156</td>\n",
              "      <td>26.0</td>\n",
              "      <td>3</td>\n",
              "      <td>112</td>\n",
              "      <td>16</td>\n",
              "      <td>May-18</td>\n",
              "      <td>7.00</td>\n",
              "      <td>4.30</td>\n",
              "      <td>9.75</td>\n",
              "      <td>1</td>\n",
              "      <td>2</td>\n",
              "    </tr>\n",
              "  </tbody>\n",
              "</table>\n",
              "</div>"
            ],
            "text/plain": [
              "   Unnamed: 0                Player  Mat  Inns  Balls  Overs  Mdns  Runs  \\\n",
              "0           0         A Zampa (AUS)    9     9    432   72.0     1   389   \n",
              "1           1     D Madushanka (SL)    9     9    470   78.2     4   525   \n",
              "2           2        G Coetzee (SA)    7     7    327   54.3     1   349   \n",
              "3           3         M Jansen (SA)    8     8    388   64.4     3   415   \n",
              "4           4  Mohammed Shami (IND)    4     4    156   26.0     3   112   \n",
              "\n",
              "   Wkts     BBI    Ave  Econ     SR  4  5  \n",
              "0    21  04-Aug  18.52  5.40  20.57  3  0  \n",
              "1    21  May-80  25.00  6.70  22.38  1  1  \n",
              "2    18  Apr-44  19.38  6.40  18.16  1  0  \n",
              "3    17  Mar-31  24.41  6.41  22.82  0  0  \n",
              "4    16  May-18   7.00  4.30   9.75  1  2  "
            ]
          },
          "execution_count": 49,
          "metadata": {},
          "output_type": "execute_result"
        }
      ],
      "source": [
        "df = pd.read_csv('Bowlers2023.csv')\n",
        "df.head()"
      ]
    },
    {
      "cell_type": "markdown",
      "metadata": {
        "id": "Ty9DbD3JFeM7"
      },
      "source": [
        "We will separate the team name from the column and create a new column for that."
      ]
    },
    {
      "cell_type": "code",
      "execution_count": 50,
      "metadata": {
        "colab": {
          "base_uri": "https://localhost:8080/",
          "height": 206
        },
        "id": "FnIg8SjBu1lX",
        "outputId": "4f18c801-e574-4ea9-bc73-d4d9a10f523c"
      },
      "outputs": [
        {
          "data": {
            "text/html": [
              "<div>\n",
              "<style scoped>\n",
              "    .dataframe tbody tr th:only-of-type {\n",
              "        vertical-align: middle;\n",
              "    }\n",
              "\n",
              "    .dataframe tbody tr th {\n",
              "        vertical-align: top;\n",
              "    }\n",
              "\n",
              "    .dataframe thead th {\n",
              "        text-align: right;\n",
              "    }\n",
              "</style>\n",
              "<table border=\"1\" class=\"dataframe\">\n",
              "  <thead>\n",
              "    <tr style=\"text-align: right;\">\n",
              "      <th></th>\n",
              "      <th>Unnamed: 0</th>\n",
              "      <th>Player</th>\n",
              "      <th>Mat</th>\n",
              "      <th>Inns</th>\n",
              "      <th>Balls</th>\n",
              "      <th>Overs</th>\n",
              "      <th>Mdns</th>\n",
              "      <th>Runs</th>\n",
              "      <th>Wkts</th>\n",
              "      <th>Ave</th>\n",
              "      <th>Econ</th>\n",
              "      <th>SR</th>\n",
              "      <th>4</th>\n",
              "      <th>5</th>\n",
              "      <th>Team</th>\n",
              "    </tr>\n",
              "  </thead>\n",
              "  <tbody>\n",
              "    <tr>\n",
              "      <th>0</th>\n",
              "      <td>0</td>\n",
              "      <td>A Zampa</td>\n",
              "      <td>9</td>\n",
              "      <td>9</td>\n",
              "      <td>432</td>\n",
              "      <td>72.0</td>\n",
              "      <td>1</td>\n",
              "      <td>389</td>\n",
              "      <td>21</td>\n",
              "      <td>18.52</td>\n",
              "      <td>5.40</td>\n",
              "      <td>20.57</td>\n",
              "      <td>3</td>\n",
              "      <td>0</td>\n",
              "      <td>AUS</td>\n",
              "    </tr>\n",
              "    <tr>\n",
              "      <th>1</th>\n",
              "      <td>1</td>\n",
              "      <td>D Madushanka</td>\n",
              "      <td>9</td>\n",
              "      <td>9</td>\n",
              "      <td>470</td>\n",
              "      <td>78.2</td>\n",
              "      <td>4</td>\n",
              "      <td>525</td>\n",
              "      <td>21</td>\n",
              "      <td>25.00</td>\n",
              "      <td>6.70</td>\n",
              "      <td>22.38</td>\n",
              "      <td>1</td>\n",
              "      <td>1</td>\n",
              "      <td>SL</td>\n",
              "    </tr>\n",
              "    <tr>\n",
              "      <th>2</th>\n",
              "      <td>2</td>\n",
              "      <td>G Coetzee</td>\n",
              "      <td>7</td>\n",
              "      <td>7</td>\n",
              "      <td>327</td>\n",
              "      <td>54.3</td>\n",
              "      <td>1</td>\n",
              "      <td>349</td>\n",
              "      <td>18</td>\n",
              "      <td>19.38</td>\n",
              "      <td>6.40</td>\n",
              "      <td>18.16</td>\n",
              "      <td>1</td>\n",
              "      <td>0</td>\n",
              "      <td>SA</td>\n",
              "    </tr>\n",
              "    <tr>\n",
              "      <th>3</th>\n",
              "      <td>3</td>\n",
              "      <td>M Jansen</td>\n",
              "      <td>8</td>\n",
              "      <td>8</td>\n",
              "      <td>388</td>\n",
              "      <td>64.4</td>\n",
              "      <td>3</td>\n",
              "      <td>415</td>\n",
              "      <td>17</td>\n",
              "      <td>24.41</td>\n",
              "      <td>6.41</td>\n",
              "      <td>22.82</td>\n",
              "      <td>0</td>\n",
              "      <td>0</td>\n",
              "      <td>SA</td>\n",
              "    </tr>\n",
              "    <tr>\n",
              "      <th>4</th>\n",
              "      <td>4</td>\n",
              "      <td>Mohammed Shami</td>\n",
              "      <td>4</td>\n",
              "      <td>4</td>\n",
              "      <td>156</td>\n",
              "      <td>26.0</td>\n",
              "      <td>3</td>\n",
              "      <td>112</td>\n",
              "      <td>16</td>\n",
              "      <td>7.00</td>\n",
              "      <td>4.30</td>\n",
              "      <td>9.75</td>\n",
              "      <td>1</td>\n",
              "      <td>2</td>\n",
              "      <td>IND</td>\n",
              "    </tr>\n",
              "  </tbody>\n",
              "</table>\n",
              "</div>"
            ],
            "text/plain": [
              "   Unnamed: 0          Player  Mat  Inns  Balls  Overs  Mdns  Runs  Wkts  \\\n",
              "0           0         A Zampa    9     9    432   72.0     1   389    21   \n",
              "1           1    D Madushanka    9     9    470   78.2     4   525    21   \n",
              "2           2       G Coetzee    7     7    327   54.3     1   349    18   \n",
              "3           3        M Jansen    8     8    388   64.4     3   415    17   \n",
              "4           4  Mohammed Shami    4     4    156   26.0     3   112    16   \n",
              "\n",
              "     Ave  Econ     SR  4  5 Team  \n",
              "0  18.52  5.40  20.57  3  0  AUS  \n",
              "1  25.00  6.70  22.38  1  1   SL  \n",
              "2  19.38  6.40  18.16  1  0   SA  \n",
              "3  24.41  6.41  22.82  0  0   SA  \n",
              "4   7.00  4.30   9.75  1  2  IND  "
            ]
          },
          "execution_count": 50,
          "metadata": {},
          "output_type": "execute_result"
        }
      ],
      "source": [
        "df['Team'] = df['Player'].str.extract(r'\\((.*?)\\)')\n",
        "df['Player'] = df['Player'].str.replace(r' \\((.*?)\\)', '')\n",
        "df.drop(columns=['BBI'], inplace=True)\n",
        "df.head()"
      ]
    },
    {
      "cell_type": "code",
      "execution_count": 51,
      "metadata": {
        "colab": {
          "base_uri": "https://localhost:8080/"
        },
        "id": "nYraFI-tu46b",
        "outputId": "85687f86-2840-433f-f94f-78b571626cbd"
      },
      "outputs": [
        {
          "data": {
            "text/plain": [
              "Unnamed: 0      int64\n",
              "Player         object\n",
              "Mat             int64\n",
              "Inns            int64\n",
              "Balls           int64\n",
              "Overs         float64\n",
              "Mdns            int64\n",
              "Runs            int64\n",
              "Wkts            int64\n",
              "Ave           float64\n",
              "Econ          float64\n",
              "SR            float64\n",
              "4               int64\n",
              "5               int64\n",
              "Team           object\n",
              "dtype: object"
            ]
          },
          "execution_count": 51,
          "metadata": {},
          "output_type": "execute_result"
        }
      ],
      "source": [
        "df.dtypes"
      ]
    },
    {
      "cell_type": "markdown",
      "metadata": {
        "id": "84pYHJp1FjWs"
      },
      "source": [
        "We will perform label encoding on Player and Team columns."
      ]
    },
    {
      "cell_type": "code",
      "execution_count": 52,
      "metadata": {
        "colab": {
          "base_uri": "https://localhost:8080/",
          "height": 206
        },
        "id": "MCVput2-u_35",
        "outputId": "ec9d90fd-4f4e-4e31-b60f-dc3fc1efdda5"
      },
      "outputs": [
        {
          "data": {
            "text/html": [
              "<div>\n",
              "<style scoped>\n",
              "    .dataframe tbody tr th:only-of-type {\n",
              "        vertical-align: middle;\n",
              "    }\n",
              "\n",
              "    .dataframe tbody tr th {\n",
              "        vertical-align: top;\n",
              "    }\n",
              "\n",
              "    .dataframe thead th {\n",
              "        text-align: right;\n",
              "    }\n",
              "</style>\n",
              "<table border=\"1\" class=\"dataframe\">\n",
              "  <thead>\n",
              "    <tr style=\"text-align: right;\">\n",
              "      <th></th>\n",
              "      <th>Unnamed: 0</th>\n",
              "      <th>Player</th>\n",
              "      <th>Mat</th>\n",
              "      <th>Inns</th>\n",
              "      <th>Balls</th>\n",
              "      <th>Overs</th>\n",
              "      <th>Mdns</th>\n",
              "      <th>Runs</th>\n",
              "      <th>Wkts</th>\n",
              "      <th>Ave</th>\n",
              "      <th>Econ</th>\n",
              "      <th>SR</th>\n",
              "      <th>4</th>\n",
              "      <th>5</th>\n",
              "      <th>Team</th>\n",
              "    </tr>\n",
              "  </thead>\n",
              "  <tbody>\n",
              "    <tr>\n",
              "      <th>0</th>\n",
              "      <td>0</td>\n",
              "      <td>1</td>\n",
              "      <td>9</td>\n",
              "      <td>9</td>\n",
              "      <td>432</td>\n",
              "      <td>72.0</td>\n",
              "      <td>1</td>\n",
              "      <td>389</td>\n",
              "      <td>21</td>\n",
              "      <td>18.52</td>\n",
              "      <td>5.40</td>\n",
              "      <td>20.57</td>\n",
              "      <td>3</td>\n",
              "      <td>0</td>\n",
              "      <td>1</td>\n",
              "    </tr>\n",
              "    <tr>\n",
              "      <th>1</th>\n",
              "      <td>1</td>\n",
              "      <td>11</td>\n",
              "      <td>9</td>\n",
              "      <td>9</td>\n",
              "      <td>470</td>\n",
              "      <td>78.2</td>\n",
              "      <td>4</td>\n",
              "      <td>525</td>\n",
              "      <td>21</td>\n",
              "      <td>25.00</td>\n",
              "      <td>6.70</td>\n",
              "      <td>22.38</td>\n",
              "      <td>1</td>\n",
              "      <td>1</td>\n",
              "      <td>9</td>\n",
              "    </tr>\n",
              "    <tr>\n",
              "      <th>2</th>\n",
              "      <td>2</td>\n",
              "      <td>13</td>\n",
              "      <td>7</td>\n",
              "      <td>7</td>\n",
              "      <td>327</td>\n",
              "      <td>54.3</td>\n",
              "      <td>1</td>\n",
              "      <td>349</td>\n",
              "      <td>18</td>\n",
              "      <td>19.38</td>\n",
              "      <td>6.40</td>\n",
              "      <td>18.16</td>\n",
              "      <td>1</td>\n",
              "      <td>0</td>\n",
              "      <td>8</td>\n",
              "    </tr>\n",
              "    <tr>\n",
              "      <th>3</th>\n",
              "      <td>3</td>\n",
              "      <td>29</td>\n",
              "      <td>8</td>\n",
              "      <td>8</td>\n",
              "      <td>388</td>\n",
              "      <td>64.4</td>\n",
              "      <td>3</td>\n",
              "      <td>415</td>\n",
              "      <td>17</td>\n",
              "      <td>24.41</td>\n",
              "      <td>6.41</td>\n",
              "      <td>22.82</td>\n",
              "      <td>0</td>\n",
              "      <td>0</td>\n",
              "      <td>8</td>\n",
              "    </tr>\n",
              "    <tr>\n",
              "      <th>4</th>\n",
              "      <td>4</td>\n",
              "      <td>41</td>\n",
              "      <td>4</td>\n",
              "      <td>4</td>\n",
              "      <td>156</td>\n",
              "      <td>26.0</td>\n",
              "      <td>3</td>\n",
              "      <td>112</td>\n",
              "      <td>16</td>\n",
              "      <td>7.00</td>\n",
              "      <td>4.30</td>\n",
              "      <td>9.75</td>\n",
              "      <td>1</td>\n",
              "      <td>2</td>\n",
              "      <td>4</td>\n",
              "    </tr>\n",
              "  </tbody>\n",
              "</table>\n",
              "</div>"
            ],
            "text/plain": [
              "   Unnamed: 0  Player  Mat  Inns  Balls  Overs  Mdns  Runs  Wkts    Ave  Econ  \\\n",
              "0           0       1    9     9    432   72.0     1   389    21  18.52  5.40   \n",
              "1           1      11    9     9    470   78.2     4   525    21  25.00  6.70   \n",
              "2           2      13    7     7    327   54.3     1   349    18  19.38  6.40   \n",
              "3           3      29    8     8    388   64.4     3   415    17  24.41  6.41   \n",
              "4           4      41    4     4    156   26.0     3   112    16   7.00  4.30   \n",
              "\n",
              "      SR  4  5  Team  \n",
              "0  20.57  3  0     1  \n",
              "1  22.38  1  1     9  \n",
              "2  18.16  1  0     8  \n",
              "3  22.82  0  0     8  \n",
              "4   9.75  1  2     4  "
            ]
          },
          "execution_count": 52,
          "metadata": {},
          "output_type": "execute_result"
        }
      ],
      "source": [
        "df_encoded = df.copy()\n",
        "le1_player = LabelEncoder()\n",
        "le1_team = LabelEncoder()\n",
        "df_encoded['Player'] = le1_player.fit_transform(df_encoded['Player'])\n",
        "df_encoded['Team'] = le1_team.fit_transform(df_encoded['Team'])\n",
        "df_encoded.head()"
      ]
    },
    {
      "cell_type": "markdown",
      "metadata": {
        "id": "rvMJyZX7FqPy"
      },
      "source": [
        "Since the bowlers who have played the most number of matches are most probable to play the final, we have used the number of matches as the target variable for our model. Also, since it is non-categorical, we will perform regression on the dataset."
      ]
    },
    {
      "cell_type": "code",
      "execution_count": 53,
      "metadata": {
        "colab": {
          "base_uri": "https://localhost:8080/"
        },
        "id": "HVaGiRKbwTCs",
        "outputId": "249f9b38-8334-43ae-f7db-9c39dc0121ed"
      },
      "outputs": [
        {
          "name": "stdout",
          "output_type": "stream",
          "text": [
            "1/1 [==============================] - 0s 16ms/step - loss: 0.1059 - mae: 0.2134\n",
            "Model Mean Absolute Error: 0.2133689671754837\n"
          ]
        }
      ],
      "source": [
        "scaler = StandardScaler()\n",
        "X = scaler.fit_transform(df_encoded.drop(columns=['Mat']))\n",
        "y = pd.get_dummies(df_encoded['Mat'])\n",
        "\n",
        "X_train, X_test, y_train, y_test = train_test_split(X, y, test_size=0.2, random_state=42)\n",
        "\n",
        "model = Sequential()\n",
        "model.add(Dense(64, input_dim=X.shape[1], activation='relu'))\n",
        "model.add(Dense(32, activation='relu'))\n",
        "model.add(Dense(1, activation='linear'))\n",
        "\n",
        "model.compile(loss='mean_squared_error', optimizer='adam', metrics=['mae'])\n",
        "\n",
        "model.fit(X_train, y_train, verbose=False, epochs=50, batch_size=32, validation_data=(X_test, y_test))\n",
        "\n",
        "loss, mae = model.evaluate(X_test, y_test)\n",
        "print(f\"Model Mean Absolute Error: {mae}\")"
      ]
    },
    {
      "cell_type": "markdown",
      "metadata": {
        "id": "rhaUlem5F4JK"
      },
      "source": [
        "We will predict the bowlers who are most probable to play the final by predicting the number of matches played and sorting the players of that team according to that."
      ]
    },
    {
      "cell_type": "code",
      "execution_count": 54,
      "metadata": {
        "colab": {
          "base_uri": "https://localhost:8080/"
        },
        "id": "gUbGFmJJwb7a",
        "outputId": "f883c6e0-1fb4-444e-fba7-fe2057103398"
      },
      "outputs": [
        {
          "name": "stdout",
          "output_type": "stream",
          "text": [
            "WARNING:tensorflow:5 out of the last 11 calls to <function Model.make_predict_function.<locals>.predict_function at 0x0000020A62F00F40> triggered tf.function retracing. Tracing is expensive and the excessive number of tracings could be due to (1) creating @tf.function repeatedly in a loop, (2) passing tensors with different shapes, (3) passing Python objects instead of tensors. For (1), please define your @tf.function outside of the loop. For (2), @tf.function has reduce_retracing=True option that can avoid unnecessary retracing. For (3), please refer to https://www.tensorflow.org/guide/function#controlling_retracing and https://www.tensorflow.org/api_docs/python/tf/function for  more details.\n",
            "2/2 [==============================] - 0s 3ms/step\n",
            "Top 6 Bowlers for IND\n",
            "RA Jadeja\n",
            "JJ Bumrah\n",
            "Kuldeep Yadav\n",
            "Mohammed Shami\n",
            "Mohammed Siraj\n"
          ]
        }
      ],
      "source": [
        "encoded_input_team = le1_team.transform([input_team])\n",
        "team_mask = df_encoded['Team'] == encoded_input_team[0]\n",
        "\n",
        "predicted_matches = model.predict(X)\n",
        "df_encoded['PredictedMatches'] = predicted_matches\n",
        "team_df = df_encoded[team_mask]\n",
        "\n",
        "top_bowlers = team_df.sort_values(by='PredictedMatches', ascending=False).head(6)\n",
        "top_bowlers['Player'] = le1_player.inverse_transform(top_bowlers['Player'])\n",
        "top_bowlers_list = top_bowlers['Player'].tolist()\n",
        "\n",
        "print(\"Top 6 Bowlers for\", input_team)\n",
        "for batter in top_bowlers_list:\n",
        "  print(batter)"
      ]
    },
    {
      "cell_type": "markdown",
      "metadata": {
        "id": "p_pcSBNjF8qS"
      },
      "source": [
        "## **Final playing 11**"
      ]
    },
    {
      "cell_type": "markdown",
      "metadata": {
        "id": "yPctP4yCGHra"
      },
      "source": [
        "We will combine the batsmen and the bowlers to predict the final playing 11."
      ]
    },
    {
      "cell_type": "code",
      "execution_count": 55,
      "metadata": {
        "colab": {
          "base_uri": "https://localhost:8080/"
        },
        "id": "XeEXjaJax3Tr",
        "outputId": "133ec999-e3b2-4944-cba2-d8ce4a44fd52"
      },
      "outputs": [
        {
          "name": "stdout",
          "output_type": "stream",
          "text": [
            "Predicted 11 Players for IND:\n",
            "KL Rahul\n",
            "RA Jadeja\n",
            "SA Yadav\n",
            "RG Sharma\n",
            "Shubman Gill\n",
            "V Kohli\n",
            "SS Iyer\n",
            "JJ Bumrah\n",
            "Kuldeep Yadav\n",
            "Mohammed Shami\n",
            "Mohammed Siraj\n"
          ]
        }
      ],
      "source": [
        "common_players = set(top_batters_list) & set(top_bowlers_list)\n",
        "\n",
        "merged_list = top_batters_list\n",
        "merged_list.extend(bowler for bowler in top_bowlers_list if bowler not in common_players and len(merged_list) < 11)\n",
        "\n",
        "print(f\"Predicted 11 Players for {input_team}:\")\n",
        "for player in merged_list:\n",
        "  print(player)"
      ]
    },
    {
      "cell_type": "code",
      "execution_count": 59,
      "metadata": {},
      "outputs": [],
      "source": [
        "import pickle\n",
        "precomputed_output3 = top_bowlers_list\n",
        "\n",
        "def store_output(output):\n",
        "    with open('output3.pkl', 'wb') as output_file:\n",
        "        pickle.dump(output, output_file)\n",
        "store_output(precomputed_output3)"
      ]
    },
    {
      "cell_type": "code",
      "execution_count": 61,
      "metadata": {},
      "outputs": [],
      "source": [
        "import pickle\n",
        "precomputed_output4 = merged_list\n",
        "\n",
        "def store_output(output):\n",
        "    with open('output4.pkl', 'wb') as output_file:\n",
        "        pickle.dump(output, output_file)\n",
        "store_output(precomputed_output4)"
      ]
    }
  ],
  "metadata": {
    "colab": {
      "provenance": []
    },
    "kernelspec": {
      "display_name": "Python 3",
      "name": "python3"
    },
    "language_info": {
      "codemirror_mode": {
        "name": "ipython",
        "version": 3
      },
      "file_extension": ".py",
      "mimetype": "text/x-python",
      "name": "python",
      "nbconvert_exporter": "python",
      "pygments_lexer": "ipython3",
      "version": "3.11.1"
    }
  },
  "nbformat": 4,
  "nbformat_minor": 0
}
