{
  "nbformat": 4,
  "nbformat_minor": 0,
  "metadata": {
    "colab": {
      "provenance": [],
      "gpuType": "T4"
    },
    "kernelspec": {
      "name": "python3",
      "display_name": "Python 3"
    },
    "language_info": {
      "name": "python"
    },
    "accelerator": "GPU"
  },
  "cells": [
    {
      "cell_type": "markdown",
      "source": [
        "#**IT496: Introduction to Data Mining**\n",
        "\n",
        "#**Course Project 1**"
      ],
      "metadata": {
        "id": "Jwz0jskmLr42"
      }
    },
    {
      "cell_type": "code",
      "source": [
        "import math\n",
        "import numpy as np\n",
        "import pandas as pd\n",
        "import matplotlib.pyplot as plt\n",
        "import seaborn as sns"
      ],
      "metadata": {
        "id": "KTWtthAUBmBA"
      },
      "execution_count": 1,
      "outputs": []
    },
    {
      "cell_type": "code",
      "source": [
        "import warnings\n",
        "warnings.filterwarnings(\"ignore\")"
      ],
      "metadata": {
        "id": "7ZhzmEo2psxc"
      },
      "execution_count": 2,
      "outputs": []
    },
    {
      "cell_type": "code",
      "source": [
        "df = pd.read_csv('https://raw.githubusercontent.com/rhythm38/IT496-Introduction-to-Data-Mining-Course-Project_Group7/main/EVChargingStationUsage.csv')\n",
        "df.head()"
      ],
      "metadata": {
        "id": "pDb4ywMlCBmc",
        "colab": {
          "base_uri": "https://localhost:8080/",
          "height": 568
        },
        "outputId": "e7f7d6df-4b88-4f42-d847-672de8806cbc"
      },
      "execution_count": 3,
      "outputs": [
        {
          "output_type": "execute_result",
          "data": {
            "text/plain": [
              "                 Station Name          MAC Address           Org Name  \\\n",
              "0  PALO ALTO CA / HAMILTON #1  000D:6F00:015A:9D76  City of Palo Alto   \n",
              "1  PALO ALTO CA / HAMILTON #1  000D:6F00:015A:9D76  City of Palo Alto   \n",
              "2  PALO ALTO CA / HAMILTON #1  000D:6F00:015A:9D76  City of Palo Alto   \n",
              "3  PALO ALTO CA / HAMILTON #1  000D:6F00:015A:9D76  City of Palo Alto   \n",
              "4  PALO ALTO CA / HAMILTON #1  000D:6F00:015A:9D76  City of Palo Alto   \n",
              "\n",
              "        Start Date Start Time Zone         End Date End Time Zone  \\\n",
              "0  7/29/2011 20:17             PDT  7/29/2011 23:20           PDT   \n",
              "1   7/30/2011 0:00             PDT   7/30/2011 0:02           PDT   \n",
              "2   7/30/2011 8:16             PDT  7/30/2011 12:34           PDT   \n",
              "3  7/30/2011 14:51             PDT  7/30/2011 16:55           PDT   \n",
              "4  7/30/2011 18:51             PDT  7/30/2011 20:03           PDT   \n",
              "\n",
              "  Transaction Date (Pacific Time) Total Duration (hh:mm:ss)  \\\n",
              "0                 7/29/2011 23:20                   3:03:32   \n",
              "1                  7/30/2011 0:02                   0:02:06   \n",
              "2                 7/30/2011 12:34                   4:17:32   \n",
              "3                 7/30/2011 16:55                   2:03:24   \n",
              "4                 7/30/2011 20:03                   1:11:24   \n",
              "\n",
              "  Charging Time (hh:mm:ss)  ...   Longitude  Currency  Fee  \\\n",
              "0                  1:54:03  ... -122.160309       USD  0.0   \n",
              "1                  0:01:54  ... -122.160309       USD  0.0   \n",
              "2                  4:17:28  ... -122.160309       USD  0.0   \n",
              "3                  2:02:58  ... -122.160309       USD  0.0   \n",
              "4                  0:43:54  ... -122.160309       USD  0.0   \n",
              "\n",
              "              Ended By  Plug In Event Id Driver Postal Code  User ID County  \\\n",
              "0  Plug Out at Vehicle                 3            95124.0   3284.0    NaN   \n",
              "1             Customer                 4            94301.0   4169.0    NaN   \n",
              "2  Plug Out at Vehicle                 5            94301.0   4169.0    NaN   \n",
              "3             Customer                 6            94302.0   2545.0    NaN   \n",
              "4  Plug Out at Vehicle                 7            94043.0   3765.0    NaN   \n",
              "\n",
              "  System S/N Model Number  \n",
              "0        NaN          NaN  \n",
              "1        NaN          NaN  \n",
              "2        NaN          NaN  \n",
              "3        NaN          NaN  \n",
              "4        NaN          NaN  \n",
              "\n",
              "[5 rows x 33 columns]"
            ],
            "text/html": [
              "\n",
              "  <div id=\"df-2805267b-effb-4ade-bd9f-d0ed2d463432\" class=\"colab-df-container\">\n",
              "    <div>\n",
              "<style scoped>\n",
              "    .dataframe tbody tr th:only-of-type {\n",
              "        vertical-align: middle;\n",
              "    }\n",
              "\n",
              "    .dataframe tbody tr th {\n",
              "        vertical-align: top;\n",
              "    }\n",
              "\n",
              "    .dataframe thead th {\n",
              "        text-align: right;\n",
              "    }\n",
              "</style>\n",
              "<table border=\"1\" class=\"dataframe\">\n",
              "  <thead>\n",
              "    <tr style=\"text-align: right;\">\n",
              "      <th></th>\n",
              "      <th>Station Name</th>\n",
              "      <th>MAC Address</th>\n",
              "      <th>Org Name</th>\n",
              "      <th>Start Date</th>\n",
              "      <th>Start Time Zone</th>\n",
              "      <th>End Date</th>\n",
              "      <th>End Time Zone</th>\n",
              "      <th>Transaction Date (Pacific Time)</th>\n",
              "      <th>Total Duration (hh:mm:ss)</th>\n",
              "      <th>Charging Time (hh:mm:ss)</th>\n",
              "      <th>...</th>\n",
              "      <th>Longitude</th>\n",
              "      <th>Currency</th>\n",
              "      <th>Fee</th>\n",
              "      <th>Ended By</th>\n",
              "      <th>Plug In Event Id</th>\n",
              "      <th>Driver Postal Code</th>\n",
              "      <th>User ID</th>\n",
              "      <th>County</th>\n",
              "      <th>System S/N</th>\n",
              "      <th>Model Number</th>\n",
              "    </tr>\n",
              "  </thead>\n",
              "  <tbody>\n",
              "    <tr>\n",
              "      <th>0</th>\n",
              "      <td>PALO ALTO CA / HAMILTON #1</td>\n",
              "      <td>000D:6F00:015A:9D76</td>\n",
              "      <td>City of Palo Alto</td>\n",
              "      <td>7/29/2011 20:17</td>\n",
              "      <td>PDT</td>\n",
              "      <td>7/29/2011 23:20</td>\n",
              "      <td>PDT</td>\n",
              "      <td>7/29/2011 23:20</td>\n",
              "      <td>3:03:32</td>\n",
              "      <td>1:54:03</td>\n",
              "      <td>...</td>\n",
              "      <td>-122.160309</td>\n",
              "      <td>USD</td>\n",
              "      <td>0.0</td>\n",
              "      <td>Plug Out at Vehicle</td>\n",
              "      <td>3</td>\n",
              "      <td>95124.0</td>\n",
              "      <td>3284.0</td>\n",
              "      <td>NaN</td>\n",
              "      <td>NaN</td>\n",
              "      <td>NaN</td>\n",
              "    </tr>\n",
              "    <tr>\n",
              "      <th>1</th>\n",
              "      <td>PALO ALTO CA / HAMILTON #1</td>\n",
              "      <td>000D:6F00:015A:9D76</td>\n",
              "      <td>City of Palo Alto</td>\n",
              "      <td>7/30/2011 0:00</td>\n",
              "      <td>PDT</td>\n",
              "      <td>7/30/2011 0:02</td>\n",
              "      <td>PDT</td>\n",
              "      <td>7/30/2011 0:02</td>\n",
              "      <td>0:02:06</td>\n",
              "      <td>0:01:54</td>\n",
              "      <td>...</td>\n",
              "      <td>-122.160309</td>\n",
              "      <td>USD</td>\n",
              "      <td>0.0</td>\n",
              "      <td>Customer</td>\n",
              "      <td>4</td>\n",
              "      <td>94301.0</td>\n",
              "      <td>4169.0</td>\n",
              "      <td>NaN</td>\n",
              "      <td>NaN</td>\n",
              "      <td>NaN</td>\n",
              "    </tr>\n",
              "    <tr>\n",
              "      <th>2</th>\n",
              "      <td>PALO ALTO CA / HAMILTON #1</td>\n",
              "      <td>000D:6F00:015A:9D76</td>\n",
              "      <td>City of Palo Alto</td>\n",
              "      <td>7/30/2011 8:16</td>\n",
              "      <td>PDT</td>\n",
              "      <td>7/30/2011 12:34</td>\n",
              "      <td>PDT</td>\n",
              "      <td>7/30/2011 12:34</td>\n",
              "      <td>4:17:32</td>\n",
              "      <td>4:17:28</td>\n",
              "      <td>...</td>\n",
              "      <td>-122.160309</td>\n",
              "      <td>USD</td>\n",
              "      <td>0.0</td>\n",
              "      <td>Plug Out at Vehicle</td>\n",
              "      <td>5</td>\n",
              "      <td>94301.0</td>\n",
              "      <td>4169.0</td>\n",
              "      <td>NaN</td>\n",
              "      <td>NaN</td>\n",
              "      <td>NaN</td>\n",
              "    </tr>\n",
              "    <tr>\n",
              "      <th>3</th>\n",
              "      <td>PALO ALTO CA / HAMILTON #1</td>\n",
              "      <td>000D:6F00:015A:9D76</td>\n",
              "      <td>City of Palo Alto</td>\n",
              "      <td>7/30/2011 14:51</td>\n",
              "      <td>PDT</td>\n",
              "      <td>7/30/2011 16:55</td>\n",
              "      <td>PDT</td>\n",
              "      <td>7/30/2011 16:55</td>\n",
              "      <td>2:03:24</td>\n",
              "      <td>2:02:58</td>\n",
              "      <td>...</td>\n",
              "      <td>-122.160309</td>\n",
              "      <td>USD</td>\n",
              "      <td>0.0</td>\n",
              "      <td>Customer</td>\n",
              "      <td>6</td>\n",
              "      <td>94302.0</td>\n",
              "      <td>2545.0</td>\n",
              "      <td>NaN</td>\n",
              "      <td>NaN</td>\n",
              "      <td>NaN</td>\n",
              "    </tr>\n",
              "    <tr>\n",
              "      <th>4</th>\n",
              "      <td>PALO ALTO CA / HAMILTON #1</td>\n",
              "      <td>000D:6F00:015A:9D76</td>\n",
              "      <td>City of Palo Alto</td>\n",
              "      <td>7/30/2011 18:51</td>\n",
              "      <td>PDT</td>\n",
              "      <td>7/30/2011 20:03</td>\n",
              "      <td>PDT</td>\n",
              "      <td>7/30/2011 20:03</td>\n",
              "      <td>1:11:24</td>\n",
              "      <td>0:43:54</td>\n",
              "      <td>...</td>\n",
              "      <td>-122.160309</td>\n",
              "      <td>USD</td>\n",
              "      <td>0.0</td>\n",
              "      <td>Plug Out at Vehicle</td>\n",
              "      <td>7</td>\n",
              "      <td>94043.0</td>\n",
              "      <td>3765.0</td>\n",
              "      <td>NaN</td>\n",
              "      <td>NaN</td>\n",
              "      <td>NaN</td>\n",
              "    </tr>\n",
              "  </tbody>\n",
              "</table>\n",
              "<p>5 rows × 33 columns</p>\n",
              "</div>\n",
              "    <div class=\"colab-df-buttons\">\n",
              "\n",
              "  <div class=\"colab-df-container\">\n",
              "    <button class=\"colab-df-convert\" onclick=\"convertToInteractive('df-2805267b-effb-4ade-bd9f-d0ed2d463432')\"\n",
              "            title=\"Convert this dataframe to an interactive table.\"\n",
              "            style=\"display:none;\">\n",
              "\n",
              "  <svg xmlns=\"http://www.w3.org/2000/svg\" height=\"24px\" viewBox=\"0 -960 960 960\">\n",
              "    <path d=\"M120-120v-720h720v720H120Zm60-500h600v-160H180v160Zm220 220h160v-160H400v160Zm0 220h160v-160H400v160ZM180-400h160v-160H180v160Zm440 0h160v-160H620v160ZM180-180h160v-160H180v160Zm440 0h160v-160H620v160Z\"/>\n",
              "  </svg>\n",
              "    </button>\n",
              "\n",
              "  <style>\n",
              "    .colab-df-container {\n",
              "      display:flex;\n",
              "      gap: 12px;\n",
              "    }\n",
              "\n",
              "    .colab-df-convert {\n",
              "      background-color: #E8F0FE;\n",
              "      border: none;\n",
              "      border-radius: 50%;\n",
              "      cursor: pointer;\n",
              "      display: none;\n",
              "      fill: #1967D2;\n",
              "      height: 32px;\n",
              "      padding: 0 0 0 0;\n",
              "      width: 32px;\n",
              "    }\n",
              "\n",
              "    .colab-df-convert:hover {\n",
              "      background-color: #E2EBFA;\n",
              "      box-shadow: 0px 1px 2px rgba(60, 64, 67, 0.3), 0px 1px 3px 1px rgba(60, 64, 67, 0.15);\n",
              "      fill: #174EA6;\n",
              "    }\n",
              "\n",
              "    .colab-df-buttons div {\n",
              "      margin-bottom: 4px;\n",
              "    }\n",
              "\n",
              "    [theme=dark] .colab-df-convert {\n",
              "      background-color: #3B4455;\n",
              "      fill: #D2E3FC;\n",
              "    }\n",
              "\n",
              "    [theme=dark] .colab-df-convert:hover {\n",
              "      background-color: #434B5C;\n",
              "      box-shadow: 0px 1px 3px 1px rgba(0, 0, 0, 0.15);\n",
              "      filter: drop-shadow(0px 1px 2px rgba(0, 0, 0, 0.3));\n",
              "      fill: #FFFFFF;\n",
              "    }\n",
              "  </style>\n",
              "\n",
              "    <script>\n",
              "      const buttonEl =\n",
              "        document.querySelector('#df-2805267b-effb-4ade-bd9f-d0ed2d463432 button.colab-df-convert');\n",
              "      buttonEl.style.display =\n",
              "        google.colab.kernel.accessAllowed ? 'block' : 'none';\n",
              "\n",
              "      async function convertToInteractive(key) {\n",
              "        const element = document.querySelector('#df-2805267b-effb-4ade-bd9f-d0ed2d463432');\n",
              "        const dataTable =\n",
              "          await google.colab.kernel.invokeFunction('convertToInteractive',\n",
              "                                                    [key], {});\n",
              "        if (!dataTable) return;\n",
              "\n",
              "        const docLinkHtml = 'Like what you see? Visit the ' +\n",
              "          '<a target=\"_blank\" href=https://colab.research.google.com/notebooks/data_table.ipynb>data table notebook</a>'\n",
              "          + ' to learn more about interactive tables.';\n",
              "        element.innerHTML = '';\n",
              "        dataTable['output_type'] = 'display_data';\n",
              "        await google.colab.output.renderOutput(dataTable, element);\n",
              "        const docLink = document.createElement('div');\n",
              "        docLink.innerHTML = docLinkHtml;\n",
              "        element.appendChild(docLink);\n",
              "      }\n",
              "    </script>\n",
              "  </div>\n",
              "\n",
              "\n",
              "<div id=\"df-7be8123c-0cd7-4cd8-bf7c-064c51c7dd4c\">\n",
              "  <button class=\"colab-df-quickchart\" onclick=\"quickchart('df-7be8123c-0cd7-4cd8-bf7c-064c51c7dd4c')\"\n",
              "            title=\"Suggest charts.\"\n",
              "            style=\"display:none;\">\n",
              "\n",
              "<svg xmlns=\"http://www.w3.org/2000/svg\" height=\"24px\"viewBox=\"0 0 24 24\"\n",
              "     width=\"24px\">\n",
              "    <g>\n",
              "        <path d=\"M19 3H5c-1.1 0-2 .9-2 2v14c0 1.1.9 2 2 2h14c1.1 0 2-.9 2-2V5c0-1.1-.9-2-2-2zM9 17H7v-7h2v7zm4 0h-2V7h2v10zm4 0h-2v-4h2v4z\"/>\n",
              "    </g>\n",
              "</svg>\n",
              "  </button>\n",
              "\n",
              "<style>\n",
              "  .colab-df-quickchart {\n",
              "      --bg-color: #E8F0FE;\n",
              "      --fill-color: #1967D2;\n",
              "      --hover-bg-color: #E2EBFA;\n",
              "      --hover-fill-color: #174EA6;\n",
              "      --disabled-fill-color: #AAA;\n",
              "      --disabled-bg-color: #DDD;\n",
              "  }\n",
              "\n",
              "  [theme=dark] .colab-df-quickchart {\n",
              "      --bg-color: #3B4455;\n",
              "      --fill-color: #D2E3FC;\n",
              "      --hover-bg-color: #434B5C;\n",
              "      --hover-fill-color: #FFFFFF;\n",
              "      --disabled-bg-color: #3B4455;\n",
              "      --disabled-fill-color: #666;\n",
              "  }\n",
              "\n",
              "  .colab-df-quickchart {\n",
              "    background-color: var(--bg-color);\n",
              "    border: none;\n",
              "    border-radius: 50%;\n",
              "    cursor: pointer;\n",
              "    display: none;\n",
              "    fill: var(--fill-color);\n",
              "    height: 32px;\n",
              "    padding: 0;\n",
              "    width: 32px;\n",
              "  }\n",
              "\n",
              "  .colab-df-quickchart:hover {\n",
              "    background-color: var(--hover-bg-color);\n",
              "    box-shadow: 0 1px 2px rgba(60, 64, 67, 0.3), 0 1px 3px 1px rgba(60, 64, 67, 0.15);\n",
              "    fill: var(--button-hover-fill-color);\n",
              "  }\n",
              "\n",
              "  .colab-df-quickchart-complete:disabled,\n",
              "  .colab-df-quickchart-complete:disabled:hover {\n",
              "    background-color: var(--disabled-bg-color);\n",
              "    fill: var(--disabled-fill-color);\n",
              "    box-shadow: none;\n",
              "  }\n",
              "\n",
              "  .colab-df-spinner {\n",
              "    border: 2px solid var(--fill-color);\n",
              "    border-color: transparent;\n",
              "    border-bottom-color: var(--fill-color);\n",
              "    animation:\n",
              "      spin 1s steps(1) infinite;\n",
              "  }\n",
              "\n",
              "  @keyframes spin {\n",
              "    0% {\n",
              "      border-color: transparent;\n",
              "      border-bottom-color: var(--fill-color);\n",
              "      border-left-color: var(--fill-color);\n",
              "    }\n",
              "    20% {\n",
              "      border-color: transparent;\n",
              "      border-left-color: var(--fill-color);\n",
              "      border-top-color: var(--fill-color);\n",
              "    }\n",
              "    30% {\n",
              "      border-color: transparent;\n",
              "      border-left-color: var(--fill-color);\n",
              "      border-top-color: var(--fill-color);\n",
              "      border-right-color: var(--fill-color);\n",
              "    }\n",
              "    40% {\n",
              "      border-color: transparent;\n",
              "      border-right-color: var(--fill-color);\n",
              "      border-top-color: var(--fill-color);\n",
              "    }\n",
              "    60% {\n",
              "      border-color: transparent;\n",
              "      border-right-color: var(--fill-color);\n",
              "    }\n",
              "    80% {\n",
              "      border-color: transparent;\n",
              "      border-right-color: var(--fill-color);\n",
              "      border-bottom-color: var(--fill-color);\n",
              "    }\n",
              "    90% {\n",
              "      border-color: transparent;\n",
              "      border-bottom-color: var(--fill-color);\n",
              "    }\n",
              "  }\n",
              "</style>\n",
              "\n",
              "  <script>\n",
              "    async function quickchart(key) {\n",
              "      const quickchartButtonEl =\n",
              "        document.querySelector('#' + key + ' button');\n",
              "      quickchartButtonEl.disabled = true;  // To prevent multiple clicks.\n",
              "      quickchartButtonEl.classList.add('colab-df-spinner');\n",
              "      try {\n",
              "        const charts = await google.colab.kernel.invokeFunction(\n",
              "            'suggestCharts', [key], {});\n",
              "      } catch (error) {\n",
              "        console.error('Error during call to suggestCharts:', error);\n",
              "      }\n",
              "      quickchartButtonEl.classList.remove('colab-df-spinner');\n",
              "      quickchartButtonEl.classList.add('colab-df-quickchart-complete');\n",
              "    }\n",
              "    (() => {\n",
              "      let quickchartButtonEl =\n",
              "        document.querySelector('#df-7be8123c-0cd7-4cd8-bf7c-064c51c7dd4c button');\n",
              "      quickchartButtonEl.style.display =\n",
              "        google.colab.kernel.accessAllowed ? 'block' : 'none';\n",
              "    })();\n",
              "  </script>\n",
              "</div>\n",
              "    </div>\n",
              "  </div>\n"
            ]
          },
          "metadata": {},
          "execution_count": 3
        }
      ]
    },
    {
      "cell_type": "markdown",
      "source": [
        "# **Exploratory Data Analysis (EDA) & Preprocessing**"
      ],
      "metadata": {
        "id": "bSw_gL6_KgO0"
      }
    },
    {
      "cell_type": "markdown",
      "source": [
        "**Data Summary**\n",
        "\n",
        "The Palo Alto EV Charging Station Usage Open Data provides detailed insights into electric vehicle charging station usage in Palo Alto, California. This dataset includes information on station locations, connector types, session durations, and energy consumption. It is valuable for researchers, analysts, and businesses to understand EV market trends, optimize infrastructure, and promote sustainable transportation. This data enables studies on charging behavior, predictive modeling, and infrastructure improvement, ultimately supporting green mobility initiatives and informed decision-making."
      ],
      "metadata": {
        "id": "92mS8G0PNWYR"
      }
    },
    {
      "cell_type": "code",
      "source": [
        "df.shape"
      ],
      "metadata": {
        "colab": {
          "base_uri": "https://localhost:8080/"
        },
        "id": "j2VwUTmWFSIb",
        "outputId": "19c3f4d3-6eee-4cb9-e47a-dc5dc3d78f0d"
      },
      "execution_count": 4,
      "outputs": [
        {
          "output_type": "execute_result",
          "data": {
            "text/plain": [
              "(259415, 33)"
            ]
          },
          "metadata": {},
          "execution_count": 4
        }
      ]
    },
    {
      "cell_type": "code",
      "source": [
        "df.columns"
      ],
      "metadata": {
        "colab": {
          "base_uri": "https://localhost:8080/"
        },
        "id": "4cytnFacGtJr",
        "outputId": "ab49e7d4-40f2-4a53-8825-89e35a540ddd"
      },
      "execution_count": 5,
      "outputs": [
        {
          "output_type": "execute_result",
          "data": {
            "text/plain": [
              "Index(['Station Name', 'MAC Address', 'Org Name', 'Start Date',\n",
              "       'Start Time Zone', 'End Date', 'End Time Zone',\n",
              "       'Transaction Date (Pacific Time)', 'Total Duration (hh:mm:ss)',\n",
              "       'Charging Time (hh:mm:ss)', 'Energy (kWh)', 'GHG Savings (kg)',\n",
              "       'Gasoline Savings (gallons)', 'Port Type', 'Port Number', 'Plug Type',\n",
              "       'EVSE ID', 'Address 1', 'City', 'State/Province', 'Postal Code',\n",
              "       'Country', 'Latitude', 'Longitude', 'Currency', 'Fee', 'Ended By',\n",
              "       'Plug In Event Id', 'Driver Postal Code', 'User ID', 'County',\n",
              "       'System S/N', 'Model Number'],\n",
              "      dtype='object')"
            ]
          },
          "metadata": {},
          "execution_count": 5
        }
      ]
    },
    {
      "cell_type": "markdown",
      "source": [
        "Here MAC Address, EVSE ID, City, State/Province, Country, Plug In Event Id, Driver Postal Code, User ID, County and System S/N are trivial information pertaining to arbitrary numbers and locations, so these should be removed as they have no significance in our classification."
      ],
      "metadata": {
        "id": "K6LRQvulFRWB"
      }
    },
    {
      "cell_type": "code",
      "source": [
        "df.nunique()"
      ],
      "metadata": {
        "id": "L7acBTugHGl4",
        "colab": {
          "base_uri": "https://localhost:8080/"
        },
        "outputId": "40a5943a-2c6b-4ce7-938b-05d80f299b6a"
      },
      "execution_count": 6,
      "outputs": [
        {
          "output_type": "execute_result",
          "data": {
            "text/plain": [
              "Station Name                           47\n",
              "MAC Address                            83\n",
              "Org Name                                2\n",
              "Start Date                         244798\n",
              "Start Time Zone                         3\n",
              "End Date                           244159\n",
              "End Time Zone                           3\n",
              "Transaction Date (Pacific Time)    240905\n",
              "Total Duration (hh:mm:ss)           31025\n",
              "Charging Time (hh:mm:ss)            22473\n",
              "Energy (kWh)                       118061\n",
              "GHG Savings (kg)                    15535\n",
              "Gasoline Savings (gallons)           6333\n",
              "Port Type                               2\n",
              "Port Number                             2\n",
              "Plug Type                               2\n",
              "EVSE ID                                51\n",
              "Address 1                              20\n",
              "City                                    1\n",
              "State/Province                          1\n",
              "Postal Code                             3\n",
              "Country                                 1\n",
              "Latitude                               62\n",
              "Longitude                              64\n",
              "Currency                                4\n",
              "Fee                                  1817\n",
              "Ended By                               16\n",
              "Plug In Event Id                    36838\n",
              "Driver Postal Code                    985\n",
              "User ID                             27698\n",
              "County                                  2\n",
              "System S/N                             81\n",
              "Model Number                           10\n",
              "dtype: int64"
            ]
          },
          "metadata": {},
          "execution_count": 6
        }
      ]
    },
    {
      "cell_type": "code",
      "source": [
        "df.isnull().sum()"
      ],
      "metadata": {
        "colab": {
          "base_uri": "https://localhost:8080/"
        },
        "id": "PcBFUtnyCDvX",
        "outputId": "b9509c19-de34-4e38-d583-6316e6b682e8"
      },
      "execution_count": 7,
      "outputs": [
        {
          "output_type": "execute_result",
          "data": {
            "text/plain": [
              "Station Name                           0\n",
              "MAC Address                            0\n",
              "Org Name                               0\n",
              "Start Date                             0\n",
              "Start Time Zone                        0\n",
              "End Date                               0\n",
              "End Time Zone                          0\n",
              "Transaction Date (Pacific Time)      209\n",
              "Total Duration (hh:mm:ss)              0\n",
              "Charging Time (hh:mm:ss)               0\n",
              "Energy (kWh)                           0\n",
              "GHG Savings (kg)                       0\n",
              "Gasoline Savings (gallons)             0\n",
              "Port Type                              9\n",
              "Port Number                            0\n",
              "Plug Type                              0\n",
              "EVSE ID                            78948\n",
              "Address 1                              0\n",
              "City                                   0\n",
              "State/Province                         0\n",
              "Postal Code                            0\n",
              "Country                                0\n",
              "Latitude                               0\n",
              "Longitude                              0\n",
              "Currency                            1788\n",
              "Fee                                    0\n",
              "Ended By                             248\n",
              "Plug In Event Id                       0\n",
              "Driver Postal Code                  8402\n",
              "User ID                             7677\n",
              "County                             84665\n",
              "System S/N                         78948\n",
              "Model Number                       78948\n",
              "dtype: int64"
            ]
          },
          "metadata": {},
          "execution_count": 7
        }
      ]
    },
    {
      "cell_type": "markdown",
      "source": [
        "There are null values in these columns: Transaction Date (Pacific Time), Port Type, EVSE ID, Currency, Ended By, Driver Postal Code, User ID, County, System S/N and Model Number.\n",
        "\n",
        "As mentioned earlier, we will remove EVSE ID, Driver Postal Code, User ID, County and System S/N.\n",
        "\n",
        "From the columns remaining, we can drop the null values in the columns with numeric data with mean value and the ones with categorical data with most frequent value. As there is no attribute with a very high number of null values compared to the size of our dataset, this transformation will not induce significant bias in our dataset."
      ],
      "metadata": {
        "id": "KZ6gyC4vEC1l"
      }
    },
    {
      "cell_type": "code",
      "source": [
        "df.dtypes"
      ],
      "metadata": {
        "colab": {
          "base_uri": "https://localhost:8080/"
        },
        "id": "DAULzZUXJoge",
        "outputId": "c2ca7589-bde4-45c0-f079-62f1d6c86f5b"
      },
      "execution_count": 8,
      "outputs": [
        {
          "output_type": "execute_result",
          "data": {
            "text/plain": [
              "Station Name                        object\n",
              "MAC Address                         object\n",
              "Org Name                            object\n",
              "Start Date                          object\n",
              "Start Time Zone                     object\n",
              "End Date                            object\n",
              "End Time Zone                       object\n",
              "Transaction Date (Pacific Time)     object\n",
              "Total Duration (hh:mm:ss)           object\n",
              "Charging Time (hh:mm:ss)            object\n",
              "Energy (kWh)                       float64\n",
              "GHG Savings (kg)                   float64\n",
              "Gasoline Savings (gallons)         float64\n",
              "Port Type                           object\n",
              "Port Number                          int64\n",
              "Plug Type                           object\n",
              "EVSE ID                            float64\n",
              "Address 1                           object\n",
              "City                                object\n",
              "State/Province                      object\n",
              "Postal Code                          int64\n",
              "Country                             object\n",
              "Latitude                           float64\n",
              "Longitude                          float64\n",
              "Currency                            object\n",
              "Fee                                float64\n",
              "Ended By                            object\n",
              "Plug In Event Id                     int64\n",
              "Driver Postal Code                 float64\n",
              "User ID                             object\n",
              "County                              object\n",
              "System S/N                         float64\n",
              "Model Number                        object\n",
              "dtype: object"
            ]
          },
          "metadata": {},
          "execution_count": 8
        }
      ]
    },
    {
      "cell_type": "markdown",
      "source": [
        "There are some categorical attributes in our dataset. These need to be encoded using relevant encoding method."
      ],
      "metadata": {
        "id": "pwKE6vO5Hmhk"
      }
    },
    {
      "cell_type": "markdown",
      "source": [
        "# **Visualization**"
      ],
      "metadata": {
        "id": "ndB2Sq2VBmBk"
      }
    },
    {
      "cell_type": "code",
      "source": [
        "fig, ax = plt.subplots(1, 4, figsize=(16, 4))\n",
        "sns.set_theme(style=\"whitegrid\")\n",
        "for axid, col in enumerate([\"Energy (kWh)\", \"Fee\", \"GHG Savings (kg)\", \"Gasoline Savings (gallons)\"]):\n",
        "    sns.boxplot(x=df[col], ax=ax[axid])"
      ],
      "metadata": {
        "id": "UQ7NQhkJJriH",
        "colab": {
          "base_uri": "https://localhost:8080/",
          "height": 388
        },
        "outputId": "c6460a93-37db-41f5-968f-7b781b51c833"
      },
      "execution_count": 9,
      "outputs": [
        {
          "output_type": "display_data",
          "data": {
            "text/plain": [
              "<Figure size 1600x400 with 4 Axes>"
            ],
            "image/png": "[encoded data removed]"
          },
          "metadata": {}
        }
      ]
    },
    {
      "cell_type": "markdown",
      "source": [
        "We see that there are a lot of outliers in these columns. These need to be removed."
      ],
      "metadata": {
        "id": "3NWpl_yKD2G7"
      }
    },
    {
      "cell_type": "markdown",
      "source": [
        "Let us plot some graphs to visualize the correlation between multiple attributes and fee."
      ],
      "metadata": {
        "id": "BwTvm3i0H1YK"
      }
    },
    {
      "cell_type": "code",
      "source": [
        "sns.scatterplot(x=df[\"Energy (kWh)\"], y=df[\"Fee\"])"
      ],
      "metadata": {
        "id": "27zbI2ovStA_",
        "colab": {
          "base_uri": "https://localhost:8080/",
          "height": 475
        },
        "outputId": "34a90bbb-303a-4adf-e3d4-d3584c7a4f90"
      },
      "execution_count": 10,
      "outputs": [
        {
          "output_type": "execute_result",
          "data": {
            "text/plain": [
              "<Axes: xlabel='Energy (kWh)', ylabel='Fee'>"
            ]
          },
          "metadata": {},
          "execution_count": 10
        },
        {
          "output_type": "display_data",
          "data": {
            "text/plain": [
              "<Figure size 640x480 with 1 Axes>"
            ],
            "image/png": "[encoded data removed]"
          },
          "metadata": {}
        }
      ]
    },
    {
      "cell_type": "code",
      "source": [
        "sns.scatterplot(x=df[\"Gasoline Savings (gallons)\"], y=df[\"Fee\"])"
      ],
      "metadata": {
        "colab": {
          "base_uri": "https://localhost:8080/",
          "height": 475
        },
        "id": "AMbP2rw3-Oiu",
        "outputId": "b2861bd7-30cd-435c-a6de-e526968ad233"
      },
      "execution_count": 11,
      "outputs": [
        {
          "output_type": "execute_result",
          "data": {
            "text/plain": [
              "<Axes: xlabel='Gasoline Savings (gallons)', ylabel='Fee'>"
            ]
          },
          "metadata": {},
          "execution_count": 11
        },
        {
          "output_type": "display_data",
          "data": {
            "text/plain": [
              "<Figure size 640x480 with 1 Axes>"
            ],
            "image/png": "[encoded data removed]"
          },
          "metadata": {}
        }
      ]
    },
    {
      "cell_type": "markdown",
      "source": [
        "We observe that there is an almost linear trend between Energy or Gasoline Savings and Fee. We can further understand the correlation between different attributes using a correlation matrix."
      ],
      "metadata": {
        "id": "CwuzfgYCKiFb"
      }
    },
    {
      "cell_type": "code",
      "source": [
        "model_no_dist = df[\"Model Number\"].value_counts()\n",
        "model_no_dist"
      ],
      "metadata": {
        "colab": {
          "base_uri": "https://localhost:8080/"
        },
        "id": "lfiz4Gm3-2bS",
        "outputId": "c464f01b-fcbb-4a01-b5e4-0b5d9e4de8f6"
      },
      "execution_count": 12,
      "outputs": [
        {
          "output_type": "execute_result",
          "data": {
            "text/plain": [
              "CT4020-HD-GW          84886\n",
              "CT4020-HD             45129\n",
              "CT2100-HD-CDMA-CCR    11377\n",
              "CT2000-HD-CCR         10052\n",
              "CT2100-HD-CCR          8012\n",
              "CT2000-HD-GW1-CCR      5737\n",
              "CTHDR-S                4134\n",
              "CTHCR-S                3941\n",
              "CTHDR                  3623\n",
              "CT4010-HD-GW           3576\n",
              "Name: Model Number, dtype: int64"
            ]
          },
          "metadata": {},
          "execution_count": 12
        }
      ]
    },
    {
      "cell_type": "code",
      "source": [
        "piec_colors = sns.color_palette('pastel')[0:len(model_no_dist)]\n",
        "model_no_dist.plot(kind = 'pie', colors=piec_colors, autopct = '%1.2f%%')"
      ],
      "metadata": {
        "colab": {
          "base_uri": "https://localhost:8080/",
          "height": 423
        },
        "id": "RDSAulZwCIJI",
        "outputId": "c2d6029d-f066-4186-bc33-6804bdd7ba24"
      },
      "execution_count": 13,
      "outputs": [
        {
          "output_type": "execute_result",
          "data": {
            "text/plain": [
              "<Axes: ylabel='Model Number'>"
            ]
          },
          "metadata": {},
          "execution_count": 13
        },
        {
          "output_type": "display_data",
          "data": {
            "text/plain": [
              "<Figure size 640x480 with 1 Axes>"
            ],
            "image/png": "[encoded data removed]"
          },
          "metadata": {}
        }
      ]
    },
    {
      "cell_type": "markdown",
      "source": [
        "We see that almost 50% of the models are CT4020-HD-GW. This induces a bias in the dataset, which is not desirable."
      ],
      "metadata": {
        "id": "WS3QRgMvK7lw"
      }
    },
    {
      "cell_type": "code",
      "source": [
        "sns.heatmap(df.corr(), lw = 1)"
      ],
      "metadata": {
        "colab": {
          "base_uri": "https://localhost:8080/",
          "height": 644
        },
        "id": "wx633F3kveSx",
        "outputId": "5ddcf113-7d35-4013-87be-ebc8a90eb12e"
      },
      "execution_count": 14,
      "outputs": [
        {
          "output_type": "execute_result",
          "data": {
            "text/plain": [
              "<Axes: >"
            ]
          },
          "metadata": {},
          "execution_count": 14
        },
        {
          "output_type": "display_data",
          "data": {
            "text/plain": [
              "<Figure size 640x480 with 2 Axes>"
            ],
            "image/png": "[encoded data removed]"
          },
          "metadata": {}
        }
      ]
    },
    {
      "cell_type": "markdown",
      "source": [
        "As observed earlier, Fee has a good correlation with Energy, GHG Savings and Gasoline Savings. There is also some correlation between Latitude and Port Number, System S/N and EVSE ID, and Longitude and Postal Code. We can see that Fee is a good attribute for prediction and we might obtain a good prediction accuracy for Fee."
      ],
      "metadata": {
        "id": "1vU8jUPJLOQC"
      }
    },
    {
      "cell_type": "markdown",
      "source": [
        "# **Preprocessing**"
      ],
      "metadata": {
        "id": "AsnWUBSdSCQJ"
      }
    },
    {
      "cell_type": "code",
      "source": [
        "trivial_att = ['MAC Address', 'EVSE ID', 'City', 'State/Province', 'Country', 'Plug In Event Id', 'Driver Postal Code', 'User ID', 'County', 'System S/N']\n",
        "for att in trivial_att:\n",
        "  del df[att]\n",
        "df.columns"
      ],
      "metadata": {
        "colab": {
          "base_uri": "https://localhost:8080/"
        },
        "id": "8FO8C3pS7GxX",
        "outputId": "bb8ecaa4-806d-4c0b-a074-e4fb35926ab7"
      },
      "execution_count": 15,
      "outputs": [
        {
          "output_type": "execute_result",
          "data": {
            "text/plain": [
              "Index(['Station Name', 'Org Name', 'Start Date', 'Start Time Zone', 'End Date',\n",
              "       'End Time Zone', 'Transaction Date (Pacific Time)',\n",
              "       'Total Duration (hh:mm:ss)', 'Charging Time (hh:mm:ss)', 'Energy (kWh)',\n",
              "       'GHG Savings (kg)', 'Gasoline Savings (gallons)', 'Port Type',\n",
              "       'Port Number', 'Plug Type', 'Address 1', 'Postal Code', 'Latitude',\n",
              "       'Longitude', 'Currency', 'Fee', 'Ended By', 'Model Number'],\n",
              "      dtype='object')"
            ]
          },
          "metadata": {},
          "execution_count": 15
        }
      ]
    },
    {
      "cell_type": "markdown",
      "source": [
        "We will now drop the null values in our dataset."
      ],
      "metadata": {
        "id": "IEEC_RQ-SVs1"
      }
    },
    {
      "cell_type": "code",
      "source": [
        "columns_to_check = ['Transaction Date (Pacific Time)', 'Currency', 'Ended By', 'Port Type']\n",
        "df.dropna(subset=columns_to_check, inplace=True)\n",
        "df.reset_index(drop=True, inplace=True)\n",
        "df.shape"
      ],
      "metadata": {
        "id": "-a2a9B7OSPJ6",
        "colab": {
          "base_uri": "https://localhost:8080/"
        },
        "outputId": "e3b93e77-1677-491a-f2ec-12699d3aea91"
      },
      "execution_count": 16,
      "outputs": [
        {
          "output_type": "execute_result",
          "data": {
            "text/plain": [
              "(257415, 23)"
            ]
          },
          "metadata": {},
          "execution_count": 16
        }
      ]
    },
    {
      "cell_type": "markdown",
      "source": [
        "As model number has many null values, we should replace those with the most frequent category rather than delete the rows as there will be a big loss of information."
      ],
      "metadata": {
        "id": "DR1fAEyZLZ--"
      }
    },
    {
      "cell_type": "code",
      "source": [
        "most_frequent_category=df['Model Number'].mode()[0]\n",
        "df['Model Number'].fillna(most_frequent_category, inplace=True)\n",
        "df['Model Number'].isnull().sum()"
      ],
      "metadata": {
        "colab": {
          "base_uri": "https://localhost:8080/"
        },
        "id": "Qlxy5R8kAWgm",
        "outputId": "ed29d712-7ec7-4f2b-8b6b-be73c06647e0"
      },
      "execution_count": 17,
      "outputs": [
        {
          "output_type": "execute_result",
          "data": {
            "text/plain": [
              "0"
            ]
          },
          "metadata": {},
          "execution_count": 17
        }
      ]
    },
    {
      "cell_type": "code",
      "source": [
        "df.isnull().sum()"
      ],
      "metadata": {
        "id": "dd6KhW9P-PfI",
        "colab": {
          "base_uri": "https://localhost:8080/"
        },
        "outputId": "b070ce66-c643-4b9b-c8ab-29f980c55dfc"
      },
      "execution_count": 18,
      "outputs": [
        {
          "output_type": "execute_result",
          "data": {
            "text/plain": [
              "Station Name                       0\n",
              "Org Name                           0\n",
              "Start Date                         0\n",
              "Start Time Zone                    0\n",
              "End Date                           0\n",
              "End Time Zone                      0\n",
              "Transaction Date (Pacific Time)    0\n",
              "Total Duration (hh:mm:ss)          0\n",
              "Charging Time (hh:mm:ss)           0\n",
              "Energy (kWh)                       0\n",
              "GHG Savings (kg)                   0\n",
              "Gasoline Savings (gallons)         0\n",
              "Port Type                          0\n",
              "Port Number                        0\n",
              "Plug Type                          0\n",
              "Address 1                          0\n",
              "Postal Code                        0\n",
              "Latitude                           0\n",
              "Longitude                          0\n",
              "Currency                           0\n",
              "Fee                                0\n",
              "Ended By                           0\n",
              "Model Number                       0\n",
              "dtype: int64"
            ]
          },
          "metadata": {},
          "execution_count": 18
        }
      ]
    },
    {
      "cell_type": "markdown",
      "source": [
        "**Label Encoding**"
      ],
      "metadata": {
        "id": "jIIC2_lX9bge"
      }
    },
    {
      "cell_type": "markdown",
      "source": [
        "We will perform encoding first and then remove outliers as removal of outliers is difficult for categorical data."
      ],
      "metadata": {
        "id": "vlyzqHE-L6d9"
      }
    },
    {
      "cell_type": "code",
      "source": [
        "df['Start Date']"
      ],
      "metadata": {
        "colab": {
          "base_uri": "https://localhost:8080/"
        },
        "id": "vAvmV9V-rGSm",
        "outputId": "6050c06f-26f3-454a-d7f9-0ac741d1c274"
      },
      "execution_count": 19,
      "outputs": [
        {
          "output_type": "execute_result",
          "data": {
            "text/plain": [
              "0          7/29/2011 20:17\n",
              "1           7/30/2011 0:00\n",
              "2           7/30/2011 8:16\n",
              "3          7/30/2011 14:51\n",
              "4          7/30/2011 18:51\n",
              "                ...       \n",
              "257410    12/31/2020 16:39\n",
              "257411    12/31/2020 16:48\n",
              "257412    12/31/2020 17:28\n",
              "257413    12/31/2020 17:49\n",
              "257414    12/31/2020 18:19\n",
              "Name: Start Date, Length: 257415, dtype: object"
            ]
          },
          "metadata": {},
          "execution_count": 19
        }
      ]
    },
    {
      "cell_type": "markdown",
      "source": [
        "In our dataset, we have date-type values. Since time is not required, we can scrap that and keep only the date."
      ],
      "metadata": {
        "id": "l4RV6v7qsut-"
      }
    },
    {
      "cell_type": "code",
      "source": [
        "for col in ['Start Date', 'End Date', 'Transaction Date (Pacific Time)']:\n",
        "  df[col] = df[col].str.split(' ').str[0]"
      ],
      "metadata": {
        "id": "yNpY8NuyJYmw"
      },
      "execution_count": 20,
      "outputs": []
    },
    {
      "cell_type": "code",
      "source": [
        "df['Start Date'].describe()"
      ],
      "metadata": {
        "colab": {
          "base_uri": "https://localhost:8080/"
        },
        "id": "x4qxezTUsYM3",
        "outputId": "0bb1b597-c979-4b97-98de-dd0488bb16b7"
      },
      "execution_count": 21,
      "outputs": [
        {
          "output_type": "execute_result",
          "data": {
            "text/plain": [
              "count        257415\n",
              "unique         3444\n",
              "top       7/19/2017\n",
              "freq            193\n",
              "Name: Start Date, dtype: object"
            ]
          },
          "metadata": {},
          "execution_count": 21
        }
      ]
    },
    {
      "cell_type": "markdown",
      "source": [
        "Here we are not using lambda function for transformation of the dates, as the dates are not in the format required for strptime. We can use label encoder directly."
      ],
      "metadata": {
        "id": "Lp1bhlietIZx"
      }
    },
    {
      "cell_type": "code",
      "source": [
        "from sklearn import preprocessing\n",
        "le = preprocessing.LabelEncoder()\n",
        "for col in ['Station Name','Org Name', 'Start Time Zone', 'End Time Zone', 'Total Duration (hh:mm:ss)', 'Charging Time (hh:mm:ss)', 'Port Type', 'Plug Type', 'Address 1', 'Currency', 'Ended By', 'Model Number', 'Start Date', 'End Date', 'Transaction Date (Pacific Time)']:\n",
        "  df[col] = le.fit_transform(df[col])"
      ],
      "metadata": {
        "id": "ydouVJPs9QjK"
      },
      "execution_count": 22,
      "outputs": []
    },
    {
      "cell_type": "code",
      "source": [
        "df['Start Date'].describe()"
      ],
      "metadata": {
        "colab": {
          "base_uri": "https://localhost:8080/"
        },
        "id": "N0wuaI1hKLKN",
        "outputId": "c370f4cb-33cb-4456-d5d7-4ea997cfbb27"
      },
      "execution_count": 23,
      "outputs": [
        {
          "output_type": "execute_result",
          "data": {
            "text/plain": [
              "count    257415.000000\n",
              "mean       1705.187200\n",
              "std         986.817985\n",
              "min           0.000000\n",
              "25%         857.000000\n",
              "50%        1704.000000\n",
              "75%        2541.000000\n",
              "max        3443.000000\n",
              "Name: Start Date, dtype: float64"
            ]
          },
          "metadata": {},
          "execution_count": 23
        }
      ]
    },
    {
      "cell_type": "code",
      "source": [
        "df.dtypes"
      ],
      "metadata": {
        "colab": {
          "base_uri": "https://localhost:8080/"
        },
        "id": "AqaIQ70--4Zi",
        "outputId": "13761632-b89e-4ace-c05c-877bbcd370c5"
      },
      "execution_count": 24,
      "outputs": [
        {
          "output_type": "execute_result",
          "data": {
            "text/plain": [
              "Station Name                         int64\n",
              "Org Name                             int64\n",
              "Start Date                           int64\n",
              "Start Time Zone                      int64\n",
              "End Date                             int64\n",
              "End Time Zone                        int64\n",
              "Transaction Date (Pacific Time)      int64\n",
              "Total Duration (hh:mm:ss)            int64\n",
              "Charging Time (hh:mm:ss)             int64\n",
              "Energy (kWh)                       float64\n",
              "GHG Savings (kg)                   float64\n",
              "Gasoline Savings (gallons)         float64\n",
              "Port Type                            int64\n",
              "Port Number                          int64\n",
              "Plug Type                            int64\n",
              "Address 1                            int64\n",
              "Postal Code                          int64\n",
              "Latitude                           float64\n",
              "Longitude                          float64\n",
              "Currency                             int64\n",
              "Fee                                float64\n",
              "Ended By                             int64\n",
              "Model Number                         int64\n",
              "dtype: object"
            ]
          },
          "metadata": {},
          "execution_count": 24
        }
      ]
    },
    {
      "cell_type": "markdown",
      "source": [
        "**Removal of outliers**"
      ],
      "metadata": {
        "id": "OAXTaF1PMVCh"
      }
    },
    {
      "cell_type": "code",
      "source": [
        "df.describe()"
      ],
      "metadata": {
        "colab": {
          "base_uri": "https://localhost:8080/",
          "height": 401
        },
        "id": "Ysdw9j2JMYMC",
        "outputId": "fb539b2c-f540-4af0-c43a-b1df05186d67"
      },
      "execution_count": 25,
      "outputs": [
        {
          "output_type": "execute_result",
          "data": {
            "text/plain": [
              "        Station Name       Org Name     Start Date  Start Time Zone  \\\n",
              "count  257415.000000  257415.000000  257415.000000    257415.000000   \n",
              "mean       19.190261       0.917697    1705.187200         0.357046   \n",
              "std        14.235245       0.274826     986.817985         0.479308   \n",
              "min         0.000000       0.000000       0.000000         0.000000   \n",
              "25%         8.000000       1.000000     857.000000         0.000000   \n",
              "50%        15.000000       1.000000    1704.000000         0.000000   \n",
              "75%        25.000000       1.000000    2541.000000         1.000000   \n",
              "max        46.000000       1.000000    3443.000000         2.000000   \n",
              "\n",
              "            End Date  End Time Zone  Transaction Date (Pacific Time)  \\\n",
              "count  257415.000000  257415.000000                    257415.000000   \n",
              "mean     1723.708657       0.356863                      1723.107915   \n",
              "std      1003.681981       0.479083                      1003.176342   \n",
              "min         0.000000       0.000000                         0.000000   \n",
              "25%       859.000000       0.000000                       859.000000   \n",
              "50%      1706.000000       0.000000                      1705.000000   \n",
              "75%      2583.000000       1.000000                      2582.000000   \n",
              "max      3485.000000       2.000000                      3484.000000   \n",
              "\n",
              "       Total Duration (hh:mm:ss)  Charging Time (hh:mm:ss)   Energy (kWh)  \\\n",
              "count              257415.000000             257415.000000  257415.000000   \n",
              "mean                11459.007404               7443.602001       8.560418   \n",
              "std                  6430.612495               4478.954511       7.192447   \n",
              "min                     0.000000                  0.000000       0.010000   \n",
              "25%                  8339.000000               4289.000000       3.801000   \n",
              "50%                 11717.000000               7084.000000       6.879863   \n",
              "75%                 15328.000000              10237.000000      11.478000   \n",
              "max                 30949.000000              22441.000000      97.360000   \n",
              "\n",
              "       ...    Port Number      Plug Type      Address 1    Postal Code  \\\n",
              "count  ...  257415.000000  257415.000000  257415.000000  257415.000000   \n",
              "mean   ...       1.589379       0.017691       9.408496   94302.324946   \n",
              "std    ...       0.491947       0.131827       5.436098       1.945355   \n",
              "min    ...       1.000000       0.000000       0.000000   94301.000000   \n",
              "25%    ...       1.000000       0.000000       4.000000   94301.000000   \n",
              "50%    ...       2.000000       0.000000       9.000000   94301.000000   \n",
              "75%    ...       2.000000       0.000000      14.000000   94303.000000   \n",
              "max    ...       2.000000       1.000000      19.000000   94306.000000   \n",
              "\n",
              "            Latitude      Longitude       Currency            Fee  \\\n",
              "count  257415.000000  257415.000000  257415.000000  257415.000000   \n",
              "mean       37.439526    -122.151195       2.999907       1.104807   \n",
              "std         0.009642       0.015409       0.013368       1.939196   \n",
              "min        37.422104    -122.163239       0.000000       0.000000   \n",
              "25%        37.428318    -122.162170       3.000000       0.000000   \n",
              "50%        37.444489    -122.158272       3.000000       0.000000   \n",
              "75%        37.446613    -122.145699       3.000000       1.650000   \n",
              "max        37.449375    -122.112480       3.000000      84.560000   \n",
              "\n",
              "            Ended By   Model Number  \n",
              "count  257415.000000  257415.000000  \n",
              "mean        8.308521       5.286541  \n",
              "std         3.554050       1.671457  \n",
              "min         0.000000       0.000000  \n",
              "25%        10.000000       5.000000  \n",
              "50%        10.000000       6.000000  \n",
              "75%        10.000000       6.000000  \n",
              "max        13.000000       9.000000  \n",
              "\n",
              "[8 rows x 23 columns]"
            ],
            "text/html": [
              "\n",
              "  <div id=\"df-5d5b2175-8409-4fee-98e9-2b676ead22b1\" class=\"colab-df-container\">\n",
              "    <div>\n",
              "<style scoped>\n",
              "    .dataframe tbody tr th:only-of-type {\n",
              "        vertical-align: middle;\n",
              "    }\n",
              "\n",
              "    .dataframe tbody tr th {\n",
              "        vertical-align: top;\n",
              "    }\n",
              "\n",
              "    .dataframe thead th {\n",
              "        text-align: right;\n",
              "    }\n",
              "</style>\n",
              "<table border=\"1\" class=\"dataframe\">\n",
              "  <thead>\n",
              "    <tr style=\"text-align: right;\">\n",
              "      <th></th>\n",
              "      <th>Station Name</th>\n",
              "      <th>Org Name</th>\n",
              "      <th>Start Date</th>\n",
              "      <th>Start Time Zone</th>\n",
              "      <th>End Date</th>\n",
              "      <th>End Time Zone</th>\n",
              "      <th>Transaction Date (Pacific Time)</th>\n",
              "      <th>Total Duration (hh:mm:ss)</th>\n",
              "      <th>Charging Time (hh:mm:ss)</th>\n",
              "      <th>Energy (kWh)</th>\n",
              "      <th>...</th>\n",
              "      <th>Port Number</th>\n",
              "      <th>Plug Type</th>\n",
              "      <th>Address 1</th>\n",
              "      <th>Postal Code</th>\n",
              "      <th>Latitude</th>\n",
              "      <th>Longitude</th>\n",
              "      <th>Currency</th>\n",
              "      <th>Fee</th>\n",
              "      <th>Ended By</th>\n",
              "      <th>Model Number</th>\n",
              "    </tr>\n",
              "  </thead>\n",
              "  <tbody>\n",
              "    <tr>\n",
              "      <th>count</th>\n",
              "      <td>257415.000000</td>\n",
              "      <td>257415.000000</td>\n",
              "      <td>257415.000000</td>\n",
              "      <td>257415.000000</td>\n",
              "      <td>257415.000000</td>\n",
              "      <td>257415.000000</td>\n",
              "      <td>257415.000000</td>\n",
              "      <td>257415.000000</td>\n",
              "      <td>257415.000000</td>\n",
              "      <td>257415.000000</td>\n",
              "      <td>...</td>\n",
              "      <td>257415.000000</td>\n",
              "      <td>257415.000000</td>\n",
              "      <td>257415.000000</td>\n",
              "      <td>257415.000000</td>\n",
              "      <td>257415.000000</td>\n",
              "      <td>257415.000000</td>\n",
              "      <td>257415.000000</td>\n",
              "      <td>257415.000000</td>\n",
              "      <td>257415.000000</td>\n",
              "      <td>257415.000000</td>\n",
              "    </tr>\n",
              "    <tr>\n",
              "      <th>mean</th>\n",
              "      <td>19.190261</td>\n",
              "      <td>0.917697</td>\n",
              "      <td>1705.187200</td>\n",
              "      <td>0.357046</td>\n",
              "      <td>1723.708657</td>\n",
              "      <td>0.356863</td>\n",
              "      <td>1723.107915</td>\n",
              "      <td>11459.007404</td>\n",
              "      <td>7443.602001</td>\n",
              "      <td>8.560418</td>\n",
              "      <td>...</td>\n",
              "      <td>1.589379</td>\n",
              "      <td>0.017691</td>\n",
              "      <td>9.408496</td>\n",
              "      <td>94302.324946</td>\n",
              "      <td>37.439526</td>\n",
              "      <td>-122.151195</td>\n",
              "      <td>2.999907</td>\n",
              "      <td>1.104807</td>\n",
              "      <td>8.308521</td>\n",
              "      <td>5.286541</td>\n",
              "    </tr>\n",
              "    <tr>\n",
              "      <th>std</th>\n",
              "      <td>14.235245</td>\n",
              "      <td>0.274826</td>\n",
              "      <td>986.817985</td>\n",
              "      <td>0.479308</td>\n",
              "      <td>1003.681981</td>\n",
              "      <td>0.479083</td>\n",
              "      <td>1003.176342</td>\n",
              "      <td>6430.612495</td>\n",
              "      <td>4478.954511</td>\n",
              "      <td>7.192447</td>\n",
              "      <td>...</td>\n",
              "      <td>0.491947</td>\n",
              "      <td>0.131827</td>\n",
              "      <td>5.436098</td>\n",
              "      <td>1.945355</td>\n",
              "      <td>0.009642</td>\n",
              "      <td>0.015409</td>\n",
              "      <td>0.013368</td>\n",
              "      <td>1.939196</td>\n",
              "      <td>3.554050</td>\n",
              "      <td>1.671457</td>\n",
              "    </tr>\n",
              "    <tr>\n",
              "      <th>min</th>\n",
              "      <td>0.000000</td>\n",
              "      <td>0.000000</td>\n",
              "      <td>0.000000</td>\n",
              "      <td>0.000000</td>\n",
              "      <td>0.000000</td>\n",
              "      <td>0.000000</td>\n",
              "      <td>0.000000</td>\n",
              "      <td>0.000000</td>\n",
              "      <td>0.000000</td>\n",
              "      <td>0.010000</td>\n",
              "      <td>...</td>\n",
              "      <td>1.000000</td>\n",
              "      <td>0.000000</td>\n",
              "      <td>0.000000</td>\n",
              "      <td>94301.000000</td>\n",
              "      <td>37.422104</td>\n",
              "      <td>-122.163239</td>\n",
              "      <td>0.000000</td>\n",
              "      <td>0.000000</td>\n",
              "      <td>0.000000</td>\n",
              "      <td>0.000000</td>\n",
              "    </tr>\n",
              "    <tr>\n",
              "      <th>25%</th>\n",
              "      <td>8.000000</td>\n",
              "      <td>1.000000</td>\n",
              "      <td>857.000000</td>\n",
              "      <td>0.000000</td>\n",
              "      <td>859.000000</td>\n",
              "      <td>0.000000</td>\n",
              "      <td>859.000000</td>\n",
              "      <td>8339.000000</td>\n",
              "      <td>4289.000000</td>\n",
              "      <td>3.801000</td>\n",
              "      <td>...</td>\n",
              "      <td>1.000000</td>\n",
              "      <td>0.000000</td>\n",
              "      <td>4.000000</td>\n",
              "      <td>94301.000000</td>\n",
              "      <td>37.428318</td>\n",
              "      <td>-122.162170</td>\n",
              "      <td>3.000000</td>\n",
              "      <td>0.000000</td>\n",
              "      <td>10.000000</td>\n",
              "      <td>5.000000</td>\n",
              "    </tr>\n",
              "    <tr>\n",
              "      <th>50%</th>\n",
              "      <td>15.000000</td>\n",
              "      <td>1.000000</td>\n",
              "      <td>1704.000000</td>\n",
              "      <td>0.000000</td>\n",
              "      <td>1706.000000</td>\n",
              "      <td>0.000000</td>\n",
              "      <td>1705.000000</td>\n",
              "      <td>11717.000000</td>\n",
              "      <td>7084.000000</td>\n",
              "      <td>6.879863</td>\n",
              "      <td>...</td>\n",
              "      <td>2.000000</td>\n",
              "      <td>0.000000</td>\n",
              "      <td>9.000000</td>\n",
              "      <td>94301.000000</td>\n",
              "      <td>37.444489</td>\n",
              "      <td>-122.158272</td>\n",
              "      <td>3.000000</td>\n",
              "      <td>0.000000</td>\n",
              "      <td>10.000000</td>\n",
              "      <td>6.000000</td>\n",
              "    </tr>\n",
              "    <tr>\n",
              "      <th>75%</th>\n",
              "      <td>25.000000</td>\n",
              "      <td>1.000000</td>\n",
              "      <td>2541.000000</td>\n",
              "      <td>1.000000</td>\n",
              "      <td>2583.000000</td>\n",
              "      <td>1.000000</td>\n",
              "      <td>2582.000000</td>\n",
              "      <td>15328.000000</td>\n",
              "      <td>10237.000000</td>\n",
              "      <td>11.478000</td>\n",
              "      <td>...</td>\n",
              "      <td>2.000000</td>\n",
              "      <td>0.000000</td>\n",
              "      <td>14.000000</td>\n",
              "      <td>94303.000000</td>\n",
              "      <td>37.446613</td>\n",
              "      <td>-122.145699</td>\n",
              "      <td>3.000000</td>\n",
              "      <td>1.650000</td>\n",
              "      <td>10.000000</td>\n",
              "      <td>6.000000</td>\n",
              "    </tr>\n",
              "    <tr>\n",
              "      <th>max</th>\n",
              "      <td>46.000000</td>\n",
              "      <td>1.000000</td>\n",
              "      <td>3443.000000</td>\n",
              "      <td>2.000000</td>\n",
              "      <td>3485.000000</td>\n",
              "      <td>2.000000</td>\n",
              "      <td>3484.000000</td>\n",
              "      <td>30949.000000</td>\n",
              "      <td>22441.000000</td>\n",
              "      <td>97.360000</td>\n",
              "      <td>...</td>\n",
              "      <td>2.000000</td>\n",
              "      <td>1.000000</td>\n",
              "      <td>19.000000</td>\n",
              "      <td>94306.000000</td>\n",
              "      <td>37.449375</td>\n",
              "      <td>-122.112480</td>\n",
              "      <td>3.000000</td>\n",
              "      <td>84.560000</td>\n",
              "      <td>13.000000</td>\n",
              "      <td>9.000000</td>\n",
              "    </tr>\n",
              "  </tbody>\n",
              "</table>\n",
              "<p>8 rows × 23 columns</p>\n",
              "</div>\n",
              "    <div class=\"colab-df-buttons\">\n",
              "\n",
              "  <div class=\"colab-df-container\">\n",
              "    <button class=\"colab-df-convert\" onclick=\"convertToInteractive('df-5d5b2175-8409-4fee-98e9-2b676ead22b1')\"\n",
              "            title=\"Convert this dataframe to an interactive table.\"\n",
              "            style=\"display:none;\">\n",
              "\n",
              "  <svg xmlns=\"http://www.w3.org/2000/svg\" height=\"24px\" viewBox=\"0 -960 960 960\">\n",
              "    <path d=\"M120-120v-720h720v720H120Zm60-500h600v-160H180v160Zm220 220h160v-160H400v160Zm0 220h160v-160H400v160ZM180-400h160v-160H180v160Zm440 0h160v-160H620v160ZM180-180h160v-160H180v160Zm440 0h160v-160H620v160Z\"/>\n",
              "  </svg>\n",
              "    </button>\n",
              "\n",
              "  <style>\n",
              "    .colab-df-container {\n",
              "      display:flex;\n",
              "      gap: 12px;\n",
              "    }\n",
              "\n",
              "    .colab-df-convert {\n",
              "      background-color: #E8F0FE;\n",
              "      border: none;\n",
              "      border-radius: 50%;\n",
              "      cursor: pointer;\n",
              "      display: none;\n",
              "      fill: #1967D2;\n",
              "      height: 32px;\n",
              "      padding: 0 0 0 0;\n",
              "      width: 32px;\n",
              "    }\n",
              "\n",
              "    .colab-df-convert:hover {\n",
              "      background-color: #E2EBFA;\n",
              "      box-shadow: 0px 1px 2px rgba(60, 64, 67, 0.3), 0px 1px 3px 1px rgba(60, 64, 67, 0.15);\n",
              "      fill: #174EA6;\n",
              "    }\n",
              "\n",
              "    .colab-df-buttons div {\n",
              "      margin-bottom: 4px;\n",
              "    }\n",
              "\n",
              "    [theme=dark] .colab-df-convert {\n",
              "      background-color: #3B4455;\n",
              "      fill: #D2E3FC;\n",
              "    }\n",
              "\n",
              "    [theme=dark] .colab-df-convert:hover {\n",
              "      background-color: #434B5C;\n",
              "      box-shadow: 0px 1px 3px 1px rgba(0, 0, 0, 0.15);\n",
              "      filter: drop-shadow(0px 1px 2px rgba(0, 0, 0, 0.3));\n",
              "      fill: #FFFFFF;\n",
              "    }\n",
              "  </style>\n",
              "\n",
              "    <script>\n",
              "      const buttonEl =\n",
              "        document.querySelector('#df-5d5b2175-8409-4fee-98e9-2b676ead22b1 button.colab-df-convert');\n",
              "      buttonEl.style.display =\n",
              "        google.colab.kernel.accessAllowed ? 'block' : 'none';\n",
              "\n",
              "      async function convertToInteractive(key) {\n",
              "        const element = document.querySelector('#df-5d5b2175-8409-4fee-98e9-2b676ead22b1');\n",
              "        const dataTable =\n",
              "          await google.colab.kernel.invokeFunction('convertToInteractive',\n",
              "                                                    [key], {});\n",
              "        if (!dataTable) return;\n",
              "\n",
              "        const docLinkHtml = 'Like what you see? Visit the ' +\n",
              "          '<a target=\"_blank\" href=https://colab.research.google.com/notebooks/data_table.ipynb>data table notebook</a>'\n",
              "          + ' to learn more about interactive tables.';\n",
              "        element.innerHTML = '';\n",
              "        dataTable['output_type'] = 'display_data';\n",
              "        await google.colab.output.renderOutput(dataTable, element);\n",
              "        const docLink = document.createElement('div');\n",
              "        docLink.innerHTML = docLinkHtml;\n",
              "        element.appendChild(docLink);\n",
              "      }\n",
              "    </script>\n",
              "  </div>\n",
              "\n",
              "\n",
              "<div id=\"df-316671a3-47ef-4fa0-a5c7-aad32e43f08e\">\n",
              "  <button class=\"colab-df-quickchart\" onclick=\"quickchart('df-316671a3-47ef-4fa0-a5c7-aad32e43f08e')\"\n",
              "            title=\"Suggest charts.\"\n",
              "            style=\"display:none;\">\n",
              "\n",
              "<svg xmlns=\"http://www.w3.org/2000/svg\" height=\"24px\"viewBox=\"0 0 24 24\"\n",
              "     width=\"24px\">\n",
              "    <g>\n",
              "        <path d=\"M19 3H5c-1.1 0-2 .9-2 2v14c0 1.1.9 2 2 2h14c1.1 0 2-.9 2-2V5c0-1.1-.9-2-2-2zM9 17H7v-7h2v7zm4 0h-2V7h2v10zm4 0h-2v-4h2v4z\"/>\n",
              "    </g>\n",
              "</svg>\n",
              "  </button>\n",
              "\n",
              "<style>\n",
              "  .colab-df-quickchart {\n",
              "      --bg-color: #E8F0FE;\n",
              "      --fill-color: #1967D2;\n",
              "      --hover-bg-color: #E2EBFA;\n",
              "      --hover-fill-color: #174EA6;\n",
              "      --disabled-fill-color: #AAA;\n",
              "      --disabled-bg-color: #DDD;\n",
              "  }\n",
              "\n",
              "  [theme=dark] .colab-df-quickchart {\n",
              "      --bg-color: #3B4455;\n",
              "      --fill-color: #D2E3FC;\n",
              "      --hover-bg-color: #434B5C;\n",
              "      --hover-fill-color: #FFFFFF;\n",
              "      --disabled-bg-color: #3B4455;\n",
              "      --disabled-fill-color: #666;\n",
              "  }\n",
              "\n",
              "  .colab-df-quickchart {\n",
              "    background-color: var(--bg-color);\n",
              "    border: none;\n",
              "    border-radius: 50%;\n",
              "    cursor: pointer;\n",
              "    display: none;\n",
              "    fill: var(--fill-color);\n",
              "    height: 32px;\n",
              "    padding: 0;\n",
              "    width: 32px;\n",
              "  }\n",
              "\n",
              "  .colab-df-quickchart:hover {\n",
              "    background-color: var(--hover-bg-color);\n",
              "    box-shadow: 0 1px 2px rgba(60, 64, 67, 0.3), 0 1px 3px 1px rgba(60, 64, 67, 0.15);\n",
              "    fill: var(--button-hover-fill-color);\n",
              "  }\n",
              "\n",
              "  .colab-df-quickchart-complete:disabled,\n",
              "  .colab-df-quickchart-complete:disabled:hover {\n",
              "    background-color: var(--disabled-bg-color);\n",
              "    fill: var(--disabled-fill-color);\n",
              "    box-shadow: none;\n",
              "  }\n",
              "\n",
              "  .colab-df-spinner {\n",
              "    border: 2px solid var(--fill-color);\n",
              "    border-color: transparent;\n",
              "    border-bottom-color: var(--fill-color);\n",
              "    animation:\n",
              "      spin 1s steps(1) infinite;\n",
              "  }\n",
              "\n",
              "  @keyframes spin {\n",
              "    0% {\n",
              "      border-color: transparent;\n",
              "      border-bottom-color: var(--fill-color);\n",
              "      border-left-color: var(--fill-color);\n",
              "    }\n",
              "    20% {\n",
              "      border-color: transparent;\n",
              "      border-left-color: var(--fill-color);\n",
              "      border-top-color: var(--fill-color);\n",
              "    }\n",
              "    30% {\n",
              "      border-color: transparent;\n",
              "      border-left-color: var(--fill-color);\n",
              "      border-top-color: var(--fill-color);\n",
              "      border-right-color: var(--fill-color);\n",
              "    }\n",
              "    40% {\n",
              "      border-color: transparent;\n",
              "      border-right-color: var(--fill-color);\n",
              "      border-top-color: var(--fill-color);\n",
              "    }\n",
              "    60% {\n",
              "      border-color: transparent;\n",
              "      border-right-color: var(--fill-color);\n",
              "    }\n",
              "    80% {\n",
              "      border-color: transparent;\n",
              "      border-right-color: var(--fill-color);\n",
              "      border-bottom-color: var(--fill-color);\n",
              "    }\n",
              "    90% {\n",
              "      border-color: transparent;\n",
              "      border-bottom-color: var(--fill-color);\n",
              "    }\n",
              "  }\n",
              "</style>\n",
              "\n",
              "  <script>\n",
              "    async function quickchart(key) {\n",
              "      const quickchartButtonEl =\n",
              "        document.querySelector('#' + key + ' button');\n",
              "      quickchartButtonEl.disabled = true;  // To prevent multiple clicks.\n",
              "      quickchartButtonEl.classList.add('colab-df-spinner');\n",
              "      try {\n",
              "        const charts = await google.colab.kernel.invokeFunction(\n",
              "            'suggestCharts', [key], {});\n",
              "      } catch (error) {\n",
              "        console.error('Error during call to suggestCharts:', error);\n",
              "      }\n",
              "      quickchartButtonEl.classList.remove('colab-df-spinner');\n",
              "      quickchartButtonEl.classList.add('colab-df-quickchart-complete');\n",
              "    }\n",
              "    (() => {\n",
              "      let quickchartButtonEl =\n",
              "        document.querySelector('#df-316671a3-47ef-4fa0-a5c7-aad32e43f08e button');\n",
              "      quickchartButtonEl.style.display =\n",
              "        google.colab.kernel.accessAllowed ? 'block' : 'none';\n",
              "    })();\n",
              "  </script>\n",
              "</div>\n",
              "    </div>\n",
              "  </div>\n"
            ]
          },
          "metadata": {},
          "execution_count": 25
        }
      ]
    },
    {
      "cell_type": "markdown",
      "source": [
        "For removal of outliers, we can drop the rows where the value of attributes is less than 25th percentile or greater than 75th percentile."
      ],
      "metadata": {
        "id": "NVRaZCRPMnfB"
      }
    },
    {
      "cell_type": "code",
      "source": [
        "import numpy as np\n",
        "\n",
        "# Create a mask for outlier rows\n",
        "outlier_mask = np.full(len(df), False)\n",
        "\n",
        "for col in df.columns:\n",
        "    Q1 = df[col].quantile(0.1)\n",
        "    Q3 = df[col].quantile(0.9)\n",
        "    IQR = Q3 - Q1\n",
        "    lower = Q1 - 1.5 * IQR\n",
        "    upper = Q3 + 1.5 * IQR\n",
        "\n",
        "    # Update the outlier mask based on the current column's criteria\n",
        "    outlier_mask |= (df[col] < lower) | (df[col] > upper)\n",
        "\n",
        "# Filter the DataFrame to keep non-outlier rows\n",
        "df = df[~outlier_mask].reset_index(drop=True)\n",
        "df.shape"
      ],
      "metadata": {
        "colab": {
          "base_uri": "https://localhost:8080/"
        },
        "id": "YP0VANBdM-x7",
        "outputId": "7e6ade19-47fc-4149-e218-2bd3b9d708f6"
      },
      "execution_count": 26,
      "outputs": [
        {
          "output_type": "execute_result",
          "data": {
            "text/plain": [
              "(229932, 23)"
            ]
          },
          "metadata": {},
          "execution_count": 26
        }
      ]
    },
    {
      "cell_type": "markdown",
      "source": [
        "# **Train-test split**"
      ],
      "metadata": {
        "id": "qhEiDDM_vvKP"
      }
    },
    {
      "cell_type": "code",
      "source": [
        "from sklearn.model_selection import train_test_split\n",
        "X_train, X_test, y_train, y_test = train_test_split(df, df[\"Fee\"], random_state=42, test_size=0.20)"
      ],
      "metadata": {
        "id": "ZVZYIZNMvuks"
      },
      "execution_count": 27,
      "outputs": []
    },
    {
      "cell_type": "markdown",
      "source": [
        "# **Normalization**"
      ],
      "metadata": {
        "id": "dQUwAPT2yETM"
      }
    },
    {
      "cell_type": "code",
      "source": [
        "size_scaler = preprocessing.StandardScaler().fit(X_train)\n",
        "X_train_scaled = size_scaler.transform(X_train)\n",
        "X_test_scaled = size_scaler.transform(X_test)\n",
        "X_train_scaled.shape, X_test_scaled.shape"
      ],
      "metadata": {
        "colab": {
          "base_uri": "https://localhost:8080/"
        },
        "id": "FUxAp6vSwICq",
        "outputId": "36802793-4988-4ccf-df15-195448cbeec2"
      },
      "execution_count": 28,
      "outputs": [
        {
          "output_type": "execute_result",
          "data": {
            "text/plain": [
              "((183945, 23), (45987, 23))"
            ]
          },
          "metadata": {},
          "execution_count": 28
        }
      ]
    },
    {
      "cell_type": "markdown",
      "source": [
        "# **Training**"
      ],
      "metadata": {
        "id": "qK0Nsz7WyJ8u"
      }
    },
    {
      "cell_type": "code",
      "source": [
        "from sklearn.metrics import mean_squared_error, mean_absolute_error\n",
        "\n",
        "from sklearn.linear_model import LinearRegression\n",
        "from sklearn.ensemble import RandomForestRegressor\n",
        "from xgboost import XGBRegressor\n",
        "\n",
        "model_dict = {\n",
        "    'LinearRegression': {\"model\": LinearRegression(), \"params\": {}},\n",
        "    'RandomForestRegressor': {\"model\": RandomForestRegressor(random_state=42),\n",
        "                              \"params\": {'n_estimators': list(range(5, 50, 5)), 'max_depth': list(range(1, 10, 2))}}\n",
        "}"
      ],
      "metadata": {
        "id": "DLYVDIJTw1DB"
      },
      "execution_count": 29,
      "outputs": []
    },
    {
      "cell_type": "code",
      "source": [
        "from sklearn.model_selection import GridSearchCV\n",
        "\n",
        "def eval_models():\n",
        "    model_results = pd.DataFrame()\n",
        "    model_results['Train_RMSE'] = None\n",
        "    model_results['Test_RMSE'] = None\n",
        "    model_results['Train_MAE'] = None\n",
        "    model_results['Test_MAE'] = None\n",
        "    model_results['best_params'] = None\n",
        "\n",
        "    best_reg_model_ours = None\n",
        "    best_test_score = math.inf\n",
        "\n",
        "    for model_name, reg_model in model_dict.items():\n",
        "        classifier = GridSearchCV(reg_model['model'], reg_model['params'], n_jobs=20, verbose=1)\n",
        "        classifier.fit(X_train_scaled, list(y_train))\n",
        "        best_model = classifier.best_estimator_\n",
        "\n",
        "        y_train_predicted = best_model.predict(X_train_scaled)\n",
        "        train_rmse = np.sqrt(mean_squared_error(list(y_train), y_train_predicted))\n",
        "        train_mae = mean_absolute_error(list(y_train), y_train_predicted)\n",
        "\n",
        "        print(model_name, train_rmse, classifier.best_params_)\n",
        "\n",
        "        y_predicted = best_model.predict(X_test_scaled)\n",
        "        test_rmse = np.sqrt(mean_squared_error(list(y_test), y_predicted))\n",
        "        test_mae = mean_absolute_error(list(y_test), y_predicted)\n",
        "\n",
        "        if test_rmse < best_test_score:\n",
        "            best_test_score = test_rmse\n",
        "            best_reg_model_ours = best_model\n",
        "\n",
        "        model_results.loc[model_name, ['Train_RMSE', 'Test_RMSE', 'Train_MAE', 'Test_MAE', 'best_params']] = [train_rmse, test_rmse, train_mae, test_mae, classifier.best_params_]\n",
        "\n",
        "    print(\"Best model: \", best_model)\n",
        "    y_predicted = best_model.predict(X_test_scaled)\n",
        "    plt.plot(list(y_test) - y_predicted, marker='o', linestyle='')\n",
        "\n",
        "    return model_results"
      ],
      "metadata": {
        "id": "u28RRZHLw7rZ"
      },
      "execution_count": 30,
      "outputs": []
    },
    {
      "cell_type": "code",
      "source": [
        "model_results = eval_models()"
      ],
      "metadata": {
        "colab": {
          "base_uri": "https://localhost:8080/",
          "height": 521
        },
        "id": "hu7KPPo_xbDH",
        "outputId": "5a41fd40-e1fc-4d7e-8d6b-b6afed63b249"
      },
      "execution_count": 31,
      "outputs": [
        {
          "output_type": "stream",
          "name": "stdout",
          "text": [
            "Fitting 5 folds for each of 1 candidates, totalling 5 fits\n",
            "LinearRegression 2.029153609669803e-15 {}\n",
            "Fitting 5 folds for each of 45 candidates, totalling 225 fits\n",
            "RandomForestRegressor 0.0006829677273905917 {'max_depth': 9, 'n_estimators': 45}\n",
            "Best model:  RandomForestRegressor(max_depth=9, n_estimators=45, random_state=42)\n"
          ]
        },
        {
          "output_type": "display_data",
          "data": {
            "text/plain": [
              "<Figure size 640x480 with 1 Axes>"
            ],
            "image/png": "[encoded data removed]"
          },
          "metadata": {}
        }
      ]
    },
    {
      "cell_type": "markdown",
      "source": [
        "We see that the Random Forest model with maximum depth 9 and 45 estimators has the best accuracy."
      ],
      "metadata": {
        "id": "TAJPYs1TMEjB"
      }
    },
    {
      "cell_type": "markdown",
      "source": [
        "# **Overview of the Pipeline**"
      ],
      "metadata": {
        "id": "m8DrsDhwMVgv"
      }
    },
    {
      "cell_type": "markdown",
      "source": [
        "First we performed EDA to visually identify trends in the dataset. Then we performed the following steps for preprocessing:\n",
        "\n",
        "\n",
        "*   Deleting trivial attributes\n",
        "*   Removing tuples with null values in some columns\n",
        "*   Replacing null values with most frequent value in some columns\n",
        "*   Label encoding for categorical columns\n",
        "*   Removal of outliers\n",
        "\n",
        "Then we split the dataset into training and test data, normalized them separately and performed training with hyperparameter tuning to identify the best model."
      ],
      "metadata": {
        "id": "ZWUNXKqfMZ0r"
      }
    }
  ]
}